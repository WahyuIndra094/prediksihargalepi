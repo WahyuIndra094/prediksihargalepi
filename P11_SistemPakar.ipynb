{
 "cells": [
  {
   "cell_type": "code",
   "execution_count": 1,
   "metadata": {},
   "outputs": [],
   "source": [
    "import pandas as pd\n",
    "import numpy as np\n",
    "import matplotlib.pyplot as plt\n",
    "import seaborn as sns\n",
    "import plotly.express as px\n",
    "from sklearn.metrics import r2_score\n",
    "from sklearn.model_selection import train_test_split\n",
    "from sklearn.linear_model import LinearRegression\n",
    "from sklearn.metrics import r2_score, mean_squared_error\n",
    "\n",
    "df= pd.read_csv('laptop_data.csv')\n",
    "\n",
    "nilaiTukar = 200\n",
    "df['Price'] = df['Price'] * nilaiTukar"
   ]
  },
  {
   "cell_type": "code",
   "execution_count": 2,
   "metadata": {},
   "outputs": [
    {
     "data": {
      "text/html": [
       "<div>\n",
       "<style scoped>\n",
       "    .dataframe tbody tr th:only-of-type {\n",
       "        vertical-align: middle;\n",
       "    }\n",
       "\n",
       "    .dataframe tbody tr th {\n",
       "        vertical-align: top;\n",
       "    }\n",
       "\n",
       "    .dataframe thead th {\n",
       "        text-align: right;\n",
       "    }\n",
       "</style>\n",
       "<table border=\"1\" class=\"dataframe\">\n",
       "  <thead>\n",
       "    <tr style=\"text-align: right;\">\n",
       "      <th></th>\n",
       "      <th>Company</th>\n",
       "      <th>TypeName</th>\n",
       "      <th>Inches</th>\n",
       "      <th>ScreenResolution</th>\n",
       "      <th>Cpu</th>\n",
       "      <th>Ram</th>\n",
       "      <th>Memory</th>\n",
       "      <th>Gpu</th>\n",
       "      <th>OpSys</th>\n",
       "      <th>Weight</th>\n",
       "      <th>Price</th>\n",
       "    </tr>\n",
       "  </thead>\n",
       "  <tbody>\n",
       "    <tr>\n",
       "      <th>0</th>\n",
       "      <td>Apple</td>\n",
       "      <td>Ultrabook</td>\n",
       "      <td>13.3</td>\n",
       "      <td>IPS Panel Retina Display 2560x1600</td>\n",
       "      <td>Intel Core i5 2.3GHz</td>\n",
       "      <td>8GB</td>\n",
       "      <td>128GB SSD</td>\n",
       "      <td>Intel Iris Plus Graphics 640</td>\n",
       "      <td>macOS</td>\n",
       "      <td>1.37kg</td>\n",
       "      <td>14275736.64</td>\n",
       "    </tr>\n",
       "    <tr>\n",
       "      <th>1</th>\n",
       "      <td>Apple</td>\n",
       "      <td>Ultrabook</td>\n",
       "      <td>13.3</td>\n",
       "      <td>1440x900</td>\n",
       "      <td>Intel Core i5 1.8GHz</td>\n",
       "      <td>8GB</td>\n",
       "      <td>128GB Flash Storage</td>\n",
       "      <td>Intel HD Graphics 6000</td>\n",
       "      <td>macOS</td>\n",
       "      <td>1.34kg</td>\n",
       "      <td>9579104.64</td>\n",
       "    </tr>\n",
       "    <tr>\n",
       "      <th>2</th>\n",
       "      <td>HP</td>\n",
       "      <td>Notebook</td>\n",
       "      <td>15.6</td>\n",
       "      <td>Full HD 1920x1080</td>\n",
       "      <td>Intel Core i5 7200U 2.5GHz</td>\n",
       "      <td>8GB</td>\n",
       "      <td>256GB SSD</td>\n",
       "      <td>Intel HD Graphics 620</td>\n",
       "      <td>No OS</td>\n",
       "      <td>1.86kg</td>\n",
       "      <td>6127200.00</td>\n",
       "    </tr>\n",
       "    <tr>\n",
       "      <th>3</th>\n",
       "      <td>Apple</td>\n",
       "      <td>Ultrabook</td>\n",
       "      <td>15.4</td>\n",
       "      <td>IPS Panel Retina Display 2880x1800</td>\n",
       "      <td>Intel Core i7 2.7GHz</td>\n",
       "      <td>16GB</td>\n",
       "      <td>512GB SSD</td>\n",
       "      <td>AMD Radeon Pro 455</td>\n",
       "      <td>macOS</td>\n",
       "      <td>1.83kg</td>\n",
       "      <td>27039067.20</td>\n",
       "    </tr>\n",
       "    <tr>\n",
       "      <th>4</th>\n",
       "      <td>Apple</td>\n",
       "      <td>Ultrabook</td>\n",
       "      <td>13.3</td>\n",
       "      <td>IPS Panel Retina Display 2560x1600</td>\n",
       "      <td>Intel Core i5 3.1GHz</td>\n",
       "      <td>8GB</td>\n",
       "      <td>256GB SSD</td>\n",
       "      <td>Intel Iris Plus Graphics 650</td>\n",
       "      <td>macOS</td>\n",
       "      <td>1.37kg</td>\n",
       "      <td>19219161.60</td>\n",
       "    </tr>\n",
       "  </tbody>\n",
       "</table>\n",
       "</div>"
      ],
      "text/plain": [
       "  Company   TypeName  Inches                    ScreenResolution  \\\n",
       "0   Apple  Ultrabook    13.3  IPS Panel Retina Display 2560x1600   \n",
       "1   Apple  Ultrabook    13.3                            1440x900   \n",
       "2      HP   Notebook    15.6                   Full HD 1920x1080   \n",
       "3   Apple  Ultrabook    15.4  IPS Panel Retina Display 2880x1800   \n",
       "4   Apple  Ultrabook    13.3  IPS Panel Retina Display 2560x1600   \n",
       "\n",
       "                          Cpu   Ram               Memory  \\\n",
       "0        Intel Core i5 2.3GHz   8GB            128GB SSD   \n",
       "1        Intel Core i5 1.8GHz   8GB  128GB Flash Storage   \n",
       "2  Intel Core i5 7200U 2.5GHz   8GB            256GB SSD   \n",
       "3        Intel Core i7 2.7GHz  16GB            512GB SSD   \n",
       "4        Intel Core i5 3.1GHz   8GB            256GB SSD   \n",
       "\n",
       "                            Gpu  OpSys  Weight        Price  \n",
       "0  Intel Iris Plus Graphics 640  macOS  1.37kg  14275736.64  \n",
       "1        Intel HD Graphics 6000  macOS  1.34kg   9579104.64  \n",
       "2         Intel HD Graphics 620  No OS  1.86kg   6127200.00  \n",
       "3            AMD Radeon Pro 455  macOS  1.83kg  27039067.20  \n",
       "4  Intel Iris Plus Graphics 650  macOS  1.37kg  19219161.60  "
      ]
     },
     "execution_count": 2,
     "metadata": {},
     "output_type": "execute_result"
    }
   ],
   "source": [
    "df.drop(columns={'Unnamed: 0'}, inplace = True)\n",
    "df.head(5)"
   ]
  },
  {
   "cell_type": "code",
   "execution_count": 3,
   "metadata": {},
   "outputs": [
    {
     "data": {
      "text/html": [
       "<div>\n",
       "<style scoped>\n",
       "    .dataframe tbody tr th:only-of-type {\n",
       "        vertical-align: middle;\n",
       "    }\n",
       "\n",
       "    .dataframe tbody tr th {\n",
       "        vertical-align: top;\n",
       "    }\n",
       "\n",
       "    .dataframe thead th {\n",
       "        text-align: right;\n",
       "    }\n",
       "</style>\n",
       "<table border=\"1\" class=\"dataframe\">\n",
       "  <thead>\n",
       "    <tr style=\"text-align: right;\">\n",
       "      <th></th>\n",
       "      <th>Company</th>\n",
       "      <th>TypeName</th>\n",
       "      <th>ScreenResolution</th>\n",
       "      <th>Cpu</th>\n",
       "      <th>Ram</th>\n",
       "      <th>Memory</th>\n",
       "      <th>Gpu</th>\n",
       "      <th>OpSys</th>\n",
       "      <th>Weight</th>\n",
       "    </tr>\n",
       "  </thead>\n",
       "  <tbody>\n",
       "    <tr>\n",
       "      <th>count</th>\n",
       "      <td>1303</td>\n",
       "      <td>1303</td>\n",
       "      <td>1303</td>\n",
       "      <td>1303</td>\n",
       "      <td>1303</td>\n",
       "      <td>1303</td>\n",
       "      <td>1303</td>\n",
       "      <td>1303</td>\n",
       "      <td>1303</td>\n",
       "    </tr>\n",
       "    <tr>\n",
       "      <th>unique</th>\n",
       "      <td>19</td>\n",
       "      <td>6</td>\n",
       "      <td>40</td>\n",
       "      <td>118</td>\n",
       "      <td>9</td>\n",
       "      <td>39</td>\n",
       "      <td>110</td>\n",
       "      <td>9</td>\n",
       "      <td>179</td>\n",
       "    </tr>\n",
       "    <tr>\n",
       "      <th>top</th>\n",
       "      <td>Dell</td>\n",
       "      <td>Notebook</td>\n",
       "      <td>Full HD 1920x1080</td>\n",
       "      <td>Intel Core i5 7200U 2.5GHz</td>\n",
       "      <td>8GB</td>\n",
       "      <td>256GB SSD</td>\n",
       "      <td>Intel HD Graphics 620</td>\n",
       "      <td>Windows 10</td>\n",
       "      <td>2.2kg</td>\n",
       "    </tr>\n",
       "    <tr>\n",
       "      <th>freq</th>\n",
       "      <td>297</td>\n",
       "      <td>727</td>\n",
       "      <td>507</td>\n",
       "      <td>190</td>\n",
       "      <td>619</td>\n",
       "      <td>412</td>\n",
       "      <td>281</td>\n",
       "      <td>1072</td>\n",
       "      <td>121</td>\n",
       "    </tr>\n",
       "  </tbody>\n",
       "</table>\n",
       "</div>"
      ],
      "text/plain": [
       "       Company  TypeName   ScreenResolution                         Cpu   Ram  \\\n",
       "count     1303      1303               1303                        1303  1303   \n",
       "unique      19         6                 40                         118     9   \n",
       "top       Dell  Notebook  Full HD 1920x1080  Intel Core i5 7200U 2.5GHz   8GB   \n",
       "freq       297       727                507                         190   619   \n",
       "\n",
       "           Memory                    Gpu       OpSys Weight  \n",
       "count        1303                   1303        1303   1303  \n",
       "unique         39                    110           9    179  \n",
       "top     256GB SSD  Intel HD Graphics 620  Windows 10  2.2kg  \n",
       "freq          412                    281        1072    121  "
      ]
     },
     "execution_count": 3,
     "metadata": {},
     "output_type": "execute_result"
    }
   ],
   "source": [
    "df.describe(include='O')"
   ]
  },
  {
   "cell_type": "code",
   "execution_count": 4,
   "metadata": {},
   "outputs": [],
   "source": [
    "df[df.isnull().any(axis=1)]\n",
    "df.dropna(inplace=True)"
   ]
  },
  {
   "cell_type": "code",
   "execution_count": 5,
   "metadata": {},
   "outputs": [
    {
     "data": {
      "text/plain": [
       "29"
      ]
     },
     "execution_count": 5,
     "metadata": {},
     "output_type": "execute_result"
    }
   ],
   "source": [
    "df.duplicated().sum()"
   ]
  },
  {
   "cell_type": "code",
   "execution_count": 6,
   "metadata": {},
   "outputs": [],
   "source": [
    "df.drop_duplicates(inplace=True)"
   ]
  },
  {
   "cell_type": "code",
   "execution_count": 7,
   "metadata": {},
   "outputs": [
    {
     "name": "stdout",
     "output_type": "stream",
     "text": [
      "Value Counts in  Company\n",
      "Company\n",
      "Dell         291\n",
      "Lenovo       289\n",
      "HP           268\n",
      "Asus         151\n",
      "Acer         101\n",
      "MSI           54\n",
      "Toshiba       48\n",
      "Apple         21\n",
      "Samsung        9\n",
      "Razer          7\n",
      "Mediacom       7\n",
      "Microsoft      6\n",
      "Xiaomi         4\n",
      "Vero           4\n",
      "Chuwi          3\n",
      "Google         3\n",
      "Fujitsu        3\n",
      "LG             3\n",
      "Huawei         2\n",
      "Name: count, dtype: int64\n",
      "-----------------------------------------\n",
      "Value Counts in  TypeName\n",
      "TypeName\n",
      "Notebook              706\n",
      "Gaming                205\n",
      "Ultrabook             194\n",
      "2 in 1 Convertible    117\n",
      "Workstation            29\n",
      "Netbook                23\n",
      "Name: count, dtype: int64\n",
      "-----------------------------------------\n",
      "Value Counts in  ScreenResolution\n",
      "ScreenResolution\n",
      "Full HD 1920x1080                                505\n",
      "1366x768                                         262\n",
      "IPS Panel Full HD 1920x1080                      226\n",
      "IPS Panel Full HD / Touchscreen 1920x1080         51\n",
      "Full HD / Touchscreen 1920x1080                   47\n",
      "1600x900                                          23\n",
      "Touchscreen 1366x768                              16\n",
      "Quad HD+ / Touchscreen 3200x1800                  15\n",
      "IPS Panel 4K Ultra HD 3840x2160                   12\n",
      "IPS Panel 4K Ultra HD / Touchscreen 3840x2160     11\n",
      "4K Ultra HD / Touchscreen 3840x2160               10\n",
      "4K Ultra HD 3840x2160                              7\n",
      "Touchscreen 2560x1440                              7\n",
      "IPS Panel 1366x768                                 7\n",
      "IPS Panel Retina Display 2560x1600                 6\n",
      "IPS Panel Retina Display 2304x1440                 6\n",
      "Touchscreen 2256x1504                              6\n",
      "IPS Panel Touchscreen 2560x1440                    5\n",
      "IPS Panel Quad HD+ / Touchscreen 3200x1800         4\n",
      "IPS Panel Touchscreen 1920x1200                    4\n",
      "1440x900                                           4\n",
      "IPS Panel Retina Display 2880x1800                 4\n",
      "IPS Panel 2560x1440                                4\n",
      "2560x1440                                          3\n",
      "Quad HD+ 3200x1800                                 3\n",
      "1920x1080                                          3\n",
      "Touchscreen 2400x1600                              3\n",
      "IPS Panel Quad HD+ 2560x1440                       3\n",
      "IPS Panel Touchscreen 1366x768                     3\n",
      "IPS Panel Touchscreen / 4K Ultra HD 3840x2160      2\n",
      "IPS Panel Full HD 2160x1440                        2\n",
      "IPS Panel Quad HD+ 3200x1800                       2\n",
      "IPS Panel Retina Display 2736x1824                 1\n",
      "IPS Panel Full HD 1920x1200                        1\n",
      "IPS Panel Full HD 2560x1440                        1\n",
      "IPS Panel Full HD 1366x768                         1\n",
      "Touchscreen / Full HD 1920x1080                    1\n",
      "Touchscreen / Quad HD+ 3200x1800                   1\n",
      "Touchscreen / 4K Ultra HD 3840x2160                1\n",
      "IPS Panel Touchscreen 2400x1600                    1\n",
      "Name: count, dtype: int64\n",
      "-----------------------------------------\n",
      "Value Counts in  Cpu\n",
      "Cpu\n",
      "Intel Core i5 7200U 2.5GHz     190\n",
      "Intel Core i7 7700HQ 2.8GHz    146\n",
      "Intel Core i7 7500U 2.7GHz     132\n",
      "Intel Core i7 8550U 1.8GHz      73\n",
      "Intel Core i5 8250U 1.6GHz      72\n",
      "                              ... \n",
      "Intel Core M M3-6Y30 0.9GHz      1\n",
      "AMD A9-Series 9420 2.9GHz        1\n",
      "Intel Core i5 2.9GHz             1\n",
      "AMD A6-Series 7310 2GHz          1\n",
      "AMD A9-Series 9410 2.9GHz        1\n",
      "Name: count, Length: 118, dtype: int64\n",
      "-----------------------------------------\n",
      "Value Counts in  Ram\n",
      "Ram\n",
      "8GB     613\n",
      "4GB     366\n",
      "16GB    198\n",
      "6GB      35\n",
      "12GB     25\n",
      "32GB     17\n",
      "2GB      16\n",
      "24GB      3\n",
      "64GB      1\n",
      "Name: count, dtype: int64\n",
      "-----------------------------------------\n",
      "Value Counts in  Memory\n",
      "Memory\n",
      "256GB SSD                        412\n",
      "1TB HDD                          215\n",
      "500GB HDD                        123\n",
      "512GB SSD                        114\n",
      "128GB SSD +  1TB HDD              94\n",
      "128GB SSD                         74\n",
      "256GB SSD +  1TB HDD              73\n",
      "32GB Flash Storage                36\n",
      "2TB HDD                           16\n",
      "512GB SSD +  1TB HDD              14\n",
      "1TB SSD                           14\n",
      "64GB Flash Storage                13\n",
      "256GB SSD +  2TB HDD              10\n",
      "256GB Flash Storage                8\n",
      "16GB Flash Storage                 7\n",
      "1.0TB Hybrid                       7\n",
      "32GB SSD                           6\n",
      "180GB SSD                          5\n",
      "128GB Flash Storage                4\n",
      "512GB SSD +  2TB HDD               3\n",
      "16GB SSD                           3\n",
      "512GB Flash Storage                2\n",
      "1TB SSD +  1TB HDD                 2\n",
      "256GB SSD +  500GB HDD             2\n",
      "128GB SSD +  2TB HDD               2\n",
      "256GB SSD +  256GB SSD             2\n",
      "512GB SSD +  256GB SSD             1\n",
      "512GB SSD +  512GB SSD             1\n",
      "64GB Flash Storage +  1TB HDD      1\n",
      "1TB HDD +  1TB HDD                 1\n",
      "32GB HDD                           1\n",
      "64GB SSD                           1\n",
      "128GB HDD                          1\n",
      "240GB SSD                          1\n",
      "8GB SSD                            1\n",
      "508GB Hybrid                       1\n",
      "1.0TB HDD                          1\n",
      "512GB SSD +  1.0TB Hybrid          1\n",
      "256GB SSD +  1.0TB Hybrid          1\n",
      "Name: count, dtype: int64\n",
      "-----------------------------------------\n",
      "Value Counts in  Gpu\n",
      "Gpu\n",
      "Intel HD Graphics 620      279\n",
      "Intel HD Graphics 520      181\n",
      "Intel UHD Graphics 620      68\n",
      "Nvidia GeForce GTX 1050     66\n",
      "Nvidia GeForce GTX 1060     48\n",
      "                          ... \n",
      "AMD Radeon R5 520            1\n",
      "AMD Radeon R7                1\n",
      "Intel HD Graphics 540        1\n",
      "AMD Radeon 540               1\n",
      "ARM Mali T860 MP4            1\n",
      "Name: count, Length: 110, dtype: int64\n",
      "-----------------------------------------\n",
      "Value Counts in  OpSys\n",
      "OpSys\n",
      "Windows 10      1047\n",
      "No OS             66\n",
      "Linux             58\n",
      "Windows 7         45\n",
      "Chrome OS         27\n",
      "macOS             13\n",
      "Mac OS X           8\n",
      "Windows 10 S       8\n",
      "Android            2\n",
      "Name: count, dtype: int64\n",
      "-----------------------------------------\n",
      "Value Counts in  Weight\n",
      "Weight\n",
      "2.2kg     116\n",
      "2.1kg      58\n",
      "2.4kg      42\n",
      "2.5kg      38\n",
      "2.3kg      37\n",
      "         ... \n",
      "1.14kg      1\n",
      "3.8kg       1\n",
      "1.19kg      1\n",
      "1.55kg      1\n",
      "4.0kg       1\n",
      "Name: count, Length: 179, dtype: int64\n",
      "-----------------------------------------\n"
     ]
    }
   ],
   "source": [
    "cats = df.select_dtypes(include='O').columns\n",
    "for i in cats:\n",
    "    if df[i].nunique() <= 199:\n",
    "        print('Value Counts in ',i)\n",
    "        print(df[i].value_counts())\n",
    "        print('-----------------------------------------')"
   ]
  },
  {
   "cell_type": "code",
   "execution_count": 8,
   "metadata": {},
   "outputs": [],
   "source": [
    "df.replace('?',np.nan,inplace=True)"
   ]
  },
  {
   "cell_type": "code",
   "execution_count": 9,
   "metadata": {},
   "outputs": [],
   "source": [
    "## Removing Characters of Ram , Inches\n",
    "df['Ram'] = df['Ram'].str.replace('GB', '')\n",
    "df['Weight'] = df['Weight'].str.replace('kg', '')\n",
    "\n",
    "## Changing their values to numerical values\n",
    "df['Ram']=pd.to_numeric(df['Ram'], errors='coerce')\n",
    "df['Weight']=pd.to_numeric(df['Weight'],errors='coerce')\n",
    "df['Inches']= pd.to_numeric(df['Inches'],errors='coerce')\n",
    "\n",
    "## Rename Columns\n",
    "df.rename(columns={'Ram':'RamGB','Weight' :'WeightKG'}, inplace=True)"
   ]
  },
  {
   "cell_type": "code",
   "execution_count": 10,
   "metadata": {},
   "outputs": [],
   "source": [
    "## Extracting GHz from Cpu \n",
    "df['GHz'] = df['Cpu'].str.extract(r'(\\d+(?:\\.\\d+)?GHz)') \n",
    "df['GHz'] = df['GHz'].str.replace(r'GHz','',regex=True)\n",
    "\n",
    "## Converting GHz column to numeric\n",
    "df['GHz'] = pd.to_numeric(df['GHz'],errors='coerce')\n",
    "\n",
    "## Removing GHz from original Cpu\n",
    "df['Cpu'] = df['Cpu'].str.replace(r'(\\d+(?:\\.\\d+)?GHz)','',regex=True) "
   ]
  },
  {
   "cell_type": "code",
   "execution_count": 11,
   "metadata": {},
   "outputs": [
    {
     "name": "stdout",
     "output_type": "stream",
     "text": [
      "<class 'pandas.core.frame.DataFrame'>\n",
      "Index: 1274 entries, 0 to 1273\n",
      "Data columns (total 14 columns):\n",
      " #   Column            Non-Null Count  Dtype  \n",
      "---  ------            --------------  -----  \n",
      " 0   Company           1274 non-null   object \n",
      " 1   TypeName          1274 non-null   object \n",
      " 2   Inches            1274 non-null   float64\n",
      " 3   ScreenResolution  1274 non-null   object \n",
      " 4   Cpu               1274 non-null   object \n",
      " 5   RamGB             1274 non-null   int64  \n",
      " 6   Memory            1274 non-null   object \n",
      " 7   Gpu               1274 non-null   object \n",
      " 8   OpSys             1274 non-null   object \n",
      " 9   WeightKG          1274 non-null   float64\n",
      " 10  Price             1274 non-null   float64\n",
      " 11  GHz               1274 non-null   float64\n",
      " 12  CpuBrand          1274 non-null   object \n",
      " 13  CpuVersion        1274 non-null   object \n",
      "dtypes: float64(4), int64(1), object(9)\n",
      "memory usage: 149.3+ KB\n"
     ]
    }
   ],
   "source": [
    "df['CpuBrand']= df['Cpu'].str.extract(r'^(\\w+)')\n",
    "df['CpuVersion'] = df['Cpu'].str.replace(r'^(\\w+)','',regex=True)\n",
    "df.info()"
   ]
  },
  {
   "cell_type": "code",
   "execution_count": 12,
   "metadata": {},
   "outputs": [
    {
     "name": "stdout",
     "output_type": "stream",
     "text": [
      "<class 'pandas.core.frame.DataFrame'>\n",
      "Index: 1274 entries, 0 to 1273\n",
      "Data columns (total 13 columns):\n",
      " #   Column            Non-Null Count  Dtype  \n",
      "---  ------            --------------  -----  \n",
      " 0   Company           1274 non-null   object \n",
      " 1   TypeName          1274 non-null   object \n",
      " 2   Inches            1274 non-null   float64\n",
      " 3   ScreenResolution  1274 non-null   object \n",
      " 4   RamGB             1274 non-null   int64  \n",
      " 5   Memory            1274 non-null   object \n",
      " 6   Gpu               1274 non-null   object \n",
      " 7   OpSys             1274 non-null   object \n",
      " 8   WeightKG          1274 non-null   float64\n",
      " 9   Price             1274 non-null   float64\n",
      " 10  GHz               1274 non-null   float64\n",
      " 11  CpuBrand          1274 non-null   object \n",
      " 12  CpuVersion        1274 non-null   object \n",
      "dtypes: float64(4), int64(1), object(8)\n",
      "memory usage: 139.3+ KB\n"
     ]
    }
   ],
   "source": [
    "df.drop(columns={'Cpu'},inplace=True)\n",
    "df.info()"
   ]
  },
  {
   "cell_type": "code",
   "execution_count": 13,
   "metadata": {},
   "outputs": [],
   "source": [
    "## Remove GB & TB from Numbers\n",
    "df['Memory'] = df['Memory'].str.replace(r'GB|\\.0', '' ,regex=True)\n",
    "df['Memory'] = df['Memory'].str.replace(r'TB','000',regex=True)"
   ]
  },
  {
   "cell_type": "code",
   "execution_count": 14,
   "metadata": {},
   "outputs": [],
   "source": [
    "## Main & Extra Memory column creation\n",
    "df['MainMemory']= df['Memory'].str.replace(r' ','').str.split('+', n = 1, expand = True)[0]\n",
    "df['SecondMemory']=df['Memory'].str.replace(r' ','').str.split('+', n = 1, expand = True)[1]"
   ]
  },
  {
   "cell_type": "code",
   "execution_count": 15,
   "metadata": {},
   "outputs": [],
   "source": [
    "## Main & Extra Memories type\n",
    "df['MainMemoryType'] = df['MainMemory'].str.extract(r'(\\D+)')\n",
    "df['SecondMemoryType'] = df['SecondMemory'].str.extract(r'(\\D+)')\n",
    "\n",
    "## Removing Type from Memory Columns\n",
    "df['MainMemory'] = df['MainMemory'].str.extract(r'(\\d+)',)\n",
    "df['SecondMemory'] = df['SecondMemory'].str.extract(r'(\\d+)',)\n",
    "\n",
    "## Changing Memory to Numerical \n",
    "df['MainMemory'] = pd.to_numeric(df['MainMemory'],errors='coerce')\n",
    "df['SecondMemory']= pd.to_numeric(df['SecondMemory'],errors= 'coerce')\n",
    "\n",
    "df.drop(columns={'Memory'},inplace=True)"
   ]
  },
  {
   "cell_type": "code",
   "execution_count": 16,
   "metadata": {},
   "outputs": [],
   "source": [
    "df['SecondMemory'].replace(np.nan,0,inplace=True)\n",
    "df['MainMemory'].replace(np.nan,0,inplace=True)\n",
    "df['SecondMemoryType'].replace(np.nan,'None',inplace=True)"
   ]
  },
  {
   "cell_type": "code",
   "execution_count": 17,
   "metadata": {},
   "outputs": [],
   "source": [
    "## TouchScreen Column\n",
    "df['TouchScreen'] =df[\"ScreenResolution\"].str.contains(\"TouchScreen\", na=False, case=False)\n",
    "\n",
    "## Change it into 1 and 0\n",
    "df['TouchScreen'] = df['TouchScreen'].astype(int)"
   ]
  },
  {
   "cell_type": "code",
   "execution_count": 18,
   "metadata": {},
   "outputs": [],
   "source": [
    "df['Resolution'] = df['ScreenResolution'].str.extract(r'(\\d+x\\d+)')\n",
    "## Removing all Features from cell , leaving only Panel Type\n",
    "df['PanelType'] = df['ScreenResolution'].replace(r'(Full HD|Quad HD|Quad HD|\\+|/|4K Ultra HD|Touchscreen|(\\d+x\\d+))','',regex=True)"
   ]
  },
  {
   "cell_type": "code",
   "execution_count": 19,
   "metadata": {},
   "outputs": [],
   "source": [
    "## Combining all Values of IPS Panal\n",
    "df['PanelType'] = df['PanelType'].replace(r' ','',regex=True)"
   ]
  },
  {
   "cell_type": "code",
   "execution_count": 20,
   "metadata": {},
   "outputs": [],
   "source": [
    "## replace '' , with Nan\n",
    "df['PanelType'] = df['PanelType'].replace(r'^\\s*$', 'Without', regex=True)"
   ]
  },
  {
   "cell_type": "code",
   "execution_count": 21,
   "metadata": {},
   "outputs": [],
   "source": [
    "df.drop(columns={'ScreenResolution'},inplace=True)"
   ]
  },
  {
   "cell_type": "code",
   "execution_count": 22,
   "metadata": {},
   "outputs": [],
   "source": [
    "df['MainMemory'] = pd.to_numeric(df['MainMemory'],errors='coerce')"
   ]
  },
  {
   "cell_type": "code",
   "execution_count": 23,
   "metadata": {},
   "outputs": [],
   "source": [
    "df['GpuBrand'] = df['Gpu'].str.extract(r'^(\\w+)')\n",
    "df['GpuVersion'] = df['Gpu'].str.replace(r'^(\\w+)','',regex=True)\n",
    "df.drop(columns={'Gpu'},inplace=True)"
   ]
  },
  {
   "cell_type": "code",
   "execution_count": 24,
   "metadata": {},
   "outputs": [
    {
     "data": {
      "application/vnd.plotly.v1+json": {
       "config": {
        "plotlyServerURL": "https://plot.ly"
       },
       "data": [
        {
         "alignmentgroup": "True",
         "hovertemplate": "Company=HP<br>TypeName=%{x}<br>count=%{y}<extra></extra>",
         "legendgroup": "HP",
         "marker": {
          "color": "#636efa",
          "pattern": {
           "shape": ""
          }
         },
         "name": "HP",
         "offsetgroup": "HP",
         "orientation": "v",
         "showlegend": true,
         "textposition": "auto",
         "type": "bar",
         "x": [
          "Notebook",
          "Ultrabook",
          "2 in 1 Convertible",
          "Workstation",
          "Gaming",
          "Netbook"
         ],
         "xaxis": "x",
         "y": [
          180,
          36,
          19,
          14,
          12,
          7
         ],
         "yaxis": "y"
        },
        {
         "alignmentgroup": "True",
         "hovertemplate": "Company=Lenovo<br>TypeName=%{x}<br>count=%{y}<extra></extra>",
         "legendgroup": "Lenovo",
         "marker": {
          "color": "#EF553B",
          "pattern": {
           "shape": ""
          }
         },
         "name": "Lenovo",
         "offsetgroup": "Lenovo",
         "orientation": "v",
         "showlegend": true,
         "textposition": "auto",
         "type": "bar",
         "x": [
          "Notebook",
          "2 in 1 Convertible",
          "Gaming",
          "Ultrabook",
          "Netbook",
          "Workstation"
         ],
         "xaxis": "x",
         "y": [
          174,
          44,
          32,
          31,
          4,
          4
         ],
         "yaxis": "y"
        },
        {
         "alignmentgroup": "True",
         "hovertemplate": "Company=Dell<br>TypeName=%{x}<br>count=%{y}<extra></extra>",
         "legendgroup": "Dell",
         "marker": {
          "color": "#00cc96",
          "pattern": {
           "shape": ""
          }
         },
         "name": "Dell",
         "offsetgroup": "Dell",
         "orientation": "v",
         "showlegend": true,
         "textposition": "auto",
         "type": "bar",
         "x": [
          "Notebook",
          "Ultrabook",
          "Gaming",
          "2 in 1 Convertible",
          "Workstation",
          "Netbook"
         ],
         "xaxis": "x",
         "y": [
          159,
          49,
          40,
          30,
          11,
          2
         ],
         "yaxis": "y"
        },
        {
         "alignmentgroup": "True",
         "hovertemplate": "Company=Acer<br>TypeName=%{x}<br>count=%{y}<extra></extra>",
         "legendgroup": "Acer",
         "marker": {
          "color": "#ab63fa",
          "pattern": {
           "shape": ""
          }
         },
         "name": "Acer",
         "offsetgroup": "Acer",
         "orientation": "v",
         "showlegend": true,
         "textposition": "auto",
         "type": "bar",
         "x": [
          "Notebook",
          "Gaming",
          "2 in 1 Convertible",
          "Netbook",
          "Ultrabook"
         ],
         "xaxis": "x",
         "y": [
          76,
          8,
          8,
          5,
          4
         ],
         "yaxis": "y"
        },
        {
         "alignmentgroup": "True",
         "hovertemplate": "Company=Asus<br>TypeName=%{x}<br>count=%{y}<extra></extra>",
         "legendgroup": "Asus",
         "marker": {
          "color": "#FFA15A",
          "pattern": {
           "shape": ""
          }
         },
         "name": "Asus",
         "offsetgroup": "Asus",
         "orientation": "v",
         "showlegend": true,
         "textposition": "auto",
         "type": "bar",
         "x": [
          "Notebook",
          "Gaming",
          "Ultrabook",
          "2 in 1 Convertible",
          "Netbook"
         ],
         "xaxis": "x",
         "y": [
          62,
          54,
          18,
          13,
          4
         ],
         "yaxis": "y"
        },
        {
         "alignmentgroup": "True",
         "hovertemplate": "Company=MSI<br>TypeName=%{x}<br>count=%{y}<extra></extra>",
         "legendgroup": "MSI",
         "marker": {
          "color": "#19d3f3",
          "pattern": {
           "shape": ""
          }
         },
         "name": "MSI",
         "offsetgroup": "MSI",
         "orientation": "v",
         "showlegend": true,
         "textposition": "auto",
         "type": "bar",
         "x": [
          "Gaming"
         ],
         "xaxis": "x",
         "y": [
          54
         ],
         "yaxis": "y"
        },
        {
         "alignmentgroup": "True",
         "hovertemplate": "Company=Toshiba<br>TypeName=%{x}<br>count=%{y}<extra></extra>",
         "legendgroup": "Toshiba",
         "marker": {
          "color": "#FF6692",
          "pattern": {
           "shape": ""
          }
         },
         "name": "Toshiba",
         "offsetgroup": "Toshiba",
         "orientation": "v",
         "showlegend": true,
         "textposition": "auto",
         "type": "bar",
         "x": [
          "Notebook",
          "Ultrabook"
         ],
         "xaxis": "x",
         "y": [
          36,
          12
         ],
         "yaxis": "y"
        },
        {
         "alignmentgroup": "True",
         "hovertemplate": "Company=Apple<br>TypeName=%{x}<br>count=%{y}<extra></extra>",
         "legendgroup": "Apple",
         "marker": {
          "color": "#B6E880",
          "pattern": {
           "shape": ""
          }
         },
         "name": "Apple",
         "offsetgroup": "Apple",
         "orientation": "v",
         "showlegend": true,
         "textposition": "auto",
         "type": "bar",
         "x": [
          "Ultrabook"
         ],
         "xaxis": "x",
         "y": [
          21
         ],
         "yaxis": "y"
        },
        {
         "alignmentgroup": "True",
         "hovertemplate": "Company=Mediacom<br>TypeName=%{x}<br>count=%{y}<extra></extra>",
         "legendgroup": "Mediacom",
         "marker": {
          "color": "#FF97FF",
          "pattern": {
           "shape": ""
          }
         },
         "name": "Mediacom",
         "offsetgroup": "Mediacom",
         "orientation": "v",
         "showlegend": true,
         "textposition": "auto",
         "type": "bar",
         "x": [
          "Notebook",
          "2 in 1 Convertible"
         ],
         "xaxis": "x",
         "y": [
          6,
          1
         ],
         "yaxis": "y"
        },
        {
         "alignmentgroup": "True",
         "hovertemplate": "Company=Microsoft<br>TypeName=%{x}<br>count=%{y}<extra></extra>",
         "legendgroup": "Microsoft",
         "marker": {
          "color": "#FECB52",
          "pattern": {
           "shape": ""
          }
         },
         "name": "Microsoft",
         "offsetgroup": "Microsoft",
         "orientation": "v",
         "showlegend": true,
         "textposition": "auto",
         "type": "bar",
         "x": [
          "Ultrabook"
         ],
         "xaxis": "x",
         "y": [
          6
         ],
         "yaxis": "y"
        },
        {
         "alignmentgroup": "True",
         "hovertemplate": "Company=Samsung<br>TypeName=%{x}<br>count=%{y}<extra></extra>",
         "legendgroup": "Samsung",
         "marker": {
          "color": "#636efa",
          "pattern": {
           "shape": ""
          }
         },
         "name": "Samsung",
         "offsetgroup": "Samsung",
         "orientation": "v",
         "showlegend": true,
         "textposition": "auto",
         "type": "bar",
         "x": [
          "Ultrabook",
          "2 in 1 Convertible",
          "Netbook",
          "Notebook"
         ],
         "xaxis": "x",
         "y": [
          5,
          2,
          1,
          1
         ],
         "yaxis": "y"
        },
        {
         "alignmentgroup": "True",
         "hovertemplate": "Company=Razer<br>TypeName=%{x}<br>count=%{y}<extra></extra>",
         "legendgroup": "Razer",
         "marker": {
          "color": "#EF553B",
          "pattern": {
           "shape": ""
          }
         },
         "name": "Razer",
         "offsetgroup": "Razer",
         "orientation": "v",
         "showlegend": true,
         "textposition": "auto",
         "type": "bar",
         "x": [
          "Gaming",
          "Ultrabook"
         ],
         "xaxis": "x",
         "y": [
          5,
          2
         ],
         "yaxis": "y"
        },
        {
         "alignmentgroup": "True",
         "hovertemplate": "Company=Vero<br>TypeName=%{x}<br>count=%{y}<extra></extra>",
         "legendgroup": "Vero",
         "marker": {
          "color": "#00cc96",
          "pattern": {
           "shape": ""
          }
         },
         "name": "Vero",
         "offsetgroup": "Vero",
         "orientation": "v",
         "showlegend": true,
         "textposition": "auto",
         "type": "bar",
         "x": [
          "Notebook"
         ],
         "xaxis": "x",
         "y": [
          4
         ],
         "yaxis": "y"
        },
        {
         "alignmentgroup": "True",
         "hovertemplate": "Company=Google<br>TypeName=%{x}<br>count=%{y}<extra></extra>",
         "legendgroup": "Google",
         "marker": {
          "color": "#ab63fa",
          "pattern": {
           "shape": ""
          }
         },
         "name": "Google",
         "offsetgroup": "Google",
         "orientation": "v",
         "showlegend": true,
         "textposition": "auto",
         "type": "bar",
         "x": [
          "Ultrabook"
         ],
         "xaxis": "x",
         "y": [
          3
         ],
         "yaxis": "y"
        },
        {
         "alignmentgroup": "True",
         "hovertemplate": "Company=Fujitsu<br>TypeName=%{x}<br>count=%{y}<extra></extra>",
         "legendgroup": "Fujitsu",
         "marker": {
          "color": "#FFA15A",
          "pattern": {
           "shape": ""
          }
         },
         "name": "Fujitsu",
         "offsetgroup": "Fujitsu",
         "orientation": "v",
         "showlegend": true,
         "textposition": "auto",
         "type": "bar",
         "x": [
          "Notebook"
         ],
         "xaxis": "x",
         "y": [
          3
         ],
         "yaxis": "y"
        },
        {
         "alignmentgroup": "True",
         "hovertemplate": "Company=Chuwi<br>TypeName=%{x}<br>count=%{y}<extra></extra>",
         "legendgroup": "Chuwi",
         "marker": {
          "color": "#19d3f3",
          "pattern": {
           "shape": ""
          }
         },
         "name": "Chuwi",
         "offsetgroup": "Chuwi",
         "orientation": "v",
         "showlegend": true,
         "textposition": "auto",
         "type": "bar",
         "x": [
          "Notebook"
         ],
         "xaxis": "x",
         "y": [
          3
         ],
         "yaxis": "y"
        },
        {
         "alignmentgroup": "True",
         "hovertemplate": "Company=LG<br>TypeName=%{x}<br>count=%{y}<extra></extra>",
         "legendgroup": "LG",
         "marker": {
          "color": "#FF6692",
          "pattern": {
           "shape": ""
          }
         },
         "name": "LG",
         "offsetgroup": "LG",
         "orientation": "v",
         "showlegend": true,
         "textposition": "auto",
         "type": "bar",
         "x": [
          "Ultrabook"
         ],
         "xaxis": "x",
         "y": [
          3
         ],
         "yaxis": "y"
        },
        {
         "alignmentgroup": "True",
         "hovertemplate": "Company=Huawei<br>TypeName=%{x}<br>count=%{y}<extra></extra>",
         "legendgroup": "Huawei",
         "marker": {
          "color": "#B6E880",
          "pattern": {
           "shape": ""
          }
         },
         "name": "Huawei",
         "offsetgroup": "Huawei",
         "orientation": "v",
         "showlegend": true,
         "textposition": "auto",
         "type": "bar",
         "x": [
          "Ultrabook"
         ],
         "xaxis": "x",
         "y": [
          2
         ],
         "yaxis": "y"
        },
        {
         "alignmentgroup": "True",
         "hovertemplate": "Company=Xiaomi<br>TypeName=%{x}<br>count=%{y}<extra></extra>",
         "legendgroup": "Xiaomi",
         "marker": {
          "color": "#FF97FF",
          "pattern": {
           "shape": ""
          }
         },
         "name": "Xiaomi",
         "offsetgroup": "Xiaomi",
         "orientation": "v",
         "showlegend": true,
         "textposition": "auto",
         "type": "bar",
         "x": [
          "Notebook",
          "Ultrabook"
         ],
         "xaxis": "x",
         "y": [
          2,
          2
         ],
         "yaxis": "y"
        }
       ],
       "layout": {
        "barmode": "group",
        "legend": {
         "title": {
          "text": "Company"
         },
         "tracegroupgap": 0
        },
        "margin": {
         "t": 60
        },
        "template": {
         "data": {
          "bar": [
           {
            "error_x": {
             "color": "#2a3f5f"
            },
            "error_y": {
             "color": "#2a3f5f"
            },
            "marker": {
             "line": {
              "color": "#E5ECF6",
              "width": 0.5
             },
             "pattern": {
              "fillmode": "overlay",
              "size": 10,
              "solidity": 0.2
             }
            },
            "type": "bar"
           }
          ],
          "barpolar": [
           {
            "marker": {
             "line": {
              "color": "#E5ECF6",
              "width": 0.5
             },
             "pattern": {
              "fillmode": "overlay",
              "size": 10,
              "solidity": 0.2
             }
            },
            "type": "barpolar"
           }
          ],
          "carpet": [
           {
            "aaxis": {
             "endlinecolor": "#2a3f5f",
             "gridcolor": "white",
             "linecolor": "white",
             "minorgridcolor": "white",
             "startlinecolor": "#2a3f5f"
            },
            "baxis": {
             "endlinecolor": "#2a3f5f",
             "gridcolor": "white",
             "linecolor": "white",
             "minorgridcolor": "white",
             "startlinecolor": "#2a3f5f"
            },
            "type": "carpet"
           }
          ],
          "choropleth": [
           {
            "colorbar": {
             "outlinewidth": 0,
             "ticks": ""
            },
            "type": "choropleth"
           }
          ],
          "contour": [
           {
            "colorbar": {
             "outlinewidth": 0,
             "ticks": ""
            },
            "colorscale": [
             [
              0,
              "#0d0887"
             ],
             [
              0.1111111111111111,
              "#46039f"
             ],
             [
              0.2222222222222222,
              "#7201a8"
             ],
             [
              0.3333333333333333,
              "#9c179e"
             ],
             [
              0.4444444444444444,
              "#bd3786"
             ],
             [
              0.5555555555555556,
              "#d8576b"
             ],
             [
              0.6666666666666666,
              "#ed7953"
             ],
             [
              0.7777777777777778,
              "#fb9f3a"
             ],
             [
              0.8888888888888888,
              "#fdca26"
             ],
             [
              1,
              "#f0f921"
             ]
            ],
            "type": "contour"
           }
          ],
          "contourcarpet": [
           {
            "colorbar": {
             "outlinewidth": 0,
             "ticks": ""
            },
            "type": "contourcarpet"
           }
          ],
          "heatmap": [
           {
            "colorbar": {
             "outlinewidth": 0,
             "ticks": ""
            },
            "colorscale": [
             [
              0,
              "#0d0887"
             ],
             [
              0.1111111111111111,
              "#46039f"
             ],
             [
              0.2222222222222222,
              "#7201a8"
             ],
             [
              0.3333333333333333,
              "#9c179e"
             ],
             [
              0.4444444444444444,
              "#bd3786"
             ],
             [
              0.5555555555555556,
              "#d8576b"
             ],
             [
              0.6666666666666666,
              "#ed7953"
             ],
             [
              0.7777777777777778,
              "#fb9f3a"
             ],
             [
              0.8888888888888888,
              "#fdca26"
             ],
             [
              1,
              "#f0f921"
             ]
            ],
            "type": "heatmap"
           }
          ],
          "heatmapgl": [
           {
            "colorbar": {
             "outlinewidth": 0,
             "ticks": ""
            },
            "colorscale": [
             [
              0,
              "#0d0887"
             ],
             [
              0.1111111111111111,
              "#46039f"
             ],
             [
              0.2222222222222222,
              "#7201a8"
             ],
             [
              0.3333333333333333,
              "#9c179e"
             ],
             [
              0.4444444444444444,
              "#bd3786"
             ],
             [
              0.5555555555555556,
              "#d8576b"
             ],
             [
              0.6666666666666666,
              "#ed7953"
             ],
             [
              0.7777777777777778,
              "#fb9f3a"
             ],
             [
              0.8888888888888888,
              "#fdca26"
             ],
             [
              1,
              "#f0f921"
             ]
            ],
            "type": "heatmapgl"
           }
          ],
          "histogram": [
           {
            "marker": {
             "pattern": {
              "fillmode": "overlay",
              "size": 10,
              "solidity": 0.2
             }
            },
            "type": "histogram"
           }
          ],
          "histogram2d": [
           {
            "colorbar": {
             "outlinewidth": 0,
             "ticks": ""
            },
            "colorscale": [
             [
              0,
              "#0d0887"
             ],
             [
              0.1111111111111111,
              "#46039f"
             ],
             [
              0.2222222222222222,
              "#7201a8"
             ],
             [
              0.3333333333333333,
              "#9c179e"
             ],
             [
              0.4444444444444444,
              "#bd3786"
             ],
             [
              0.5555555555555556,
              "#d8576b"
             ],
             [
              0.6666666666666666,
              "#ed7953"
             ],
             [
              0.7777777777777778,
              "#fb9f3a"
             ],
             [
              0.8888888888888888,
              "#fdca26"
             ],
             [
              1,
              "#f0f921"
             ]
            ],
            "type": "histogram2d"
           }
          ],
          "histogram2dcontour": [
           {
            "colorbar": {
             "outlinewidth": 0,
             "ticks": ""
            },
            "colorscale": [
             [
              0,
              "#0d0887"
             ],
             [
              0.1111111111111111,
              "#46039f"
             ],
             [
              0.2222222222222222,
              "#7201a8"
             ],
             [
              0.3333333333333333,
              "#9c179e"
             ],
             [
              0.4444444444444444,
              "#bd3786"
             ],
             [
              0.5555555555555556,
              "#d8576b"
             ],
             [
              0.6666666666666666,
              "#ed7953"
             ],
             [
              0.7777777777777778,
              "#fb9f3a"
             ],
             [
              0.8888888888888888,
              "#fdca26"
             ],
             [
              1,
              "#f0f921"
             ]
            ],
            "type": "histogram2dcontour"
           }
          ],
          "mesh3d": [
           {
            "colorbar": {
             "outlinewidth": 0,
             "ticks": ""
            },
            "type": "mesh3d"
           }
          ],
          "parcoords": [
           {
            "line": {
             "colorbar": {
              "outlinewidth": 0,
              "ticks": ""
             }
            },
            "type": "parcoords"
           }
          ],
          "pie": [
           {
            "automargin": true,
            "type": "pie"
           }
          ],
          "scatter": [
           {
            "fillpattern": {
             "fillmode": "overlay",
             "size": 10,
             "solidity": 0.2
            },
            "type": "scatter"
           }
          ],
          "scatter3d": [
           {
            "line": {
             "colorbar": {
              "outlinewidth": 0,
              "ticks": ""
             }
            },
            "marker": {
             "colorbar": {
              "outlinewidth": 0,
              "ticks": ""
             }
            },
            "type": "scatter3d"
           }
          ],
          "scattercarpet": [
           {
            "marker": {
             "colorbar": {
              "outlinewidth": 0,
              "ticks": ""
             }
            },
            "type": "scattercarpet"
           }
          ],
          "scattergeo": [
           {
            "marker": {
             "colorbar": {
              "outlinewidth": 0,
              "ticks": ""
             }
            },
            "type": "scattergeo"
           }
          ],
          "scattergl": [
           {
            "marker": {
             "colorbar": {
              "outlinewidth": 0,
              "ticks": ""
             }
            },
            "type": "scattergl"
           }
          ],
          "scattermapbox": [
           {
            "marker": {
             "colorbar": {
              "outlinewidth": 0,
              "ticks": ""
             }
            },
            "type": "scattermapbox"
           }
          ],
          "scatterpolar": [
           {
            "marker": {
             "colorbar": {
              "outlinewidth": 0,
              "ticks": ""
             }
            },
            "type": "scatterpolar"
           }
          ],
          "scatterpolargl": [
           {
            "marker": {
             "colorbar": {
              "outlinewidth": 0,
              "ticks": ""
             }
            },
            "type": "scatterpolargl"
           }
          ],
          "scatterternary": [
           {
            "marker": {
             "colorbar": {
              "outlinewidth": 0,
              "ticks": ""
             }
            },
            "type": "scatterternary"
           }
          ],
          "surface": [
           {
            "colorbar": {
             "outlinewidth": 0,
             "ticks": ""
            },
            "colorscale": [
             [
              0,
              "#0d0887"
             ],
             [
              0.1111111111111111,
              "#46039f"
             ],
             [
              0.2222222222222222,
              "#7201a8"
             ],
             [
              0.3333333333333333,
              "#9c179e"
             ],
             [
              0.4444444444444444,
              "#bd3786"
             ],
             [
              0.5555555555555556,
              "#d8576b"
             ],
             [
              0.6666666666666666,
              "#ed7953"
             ],
             [
              0.7777777777777778,
              "#fb9f3a"
             ],
             [
              0.8888888888888888,
              "#fdca26"
             ],
             [
              1,
              "#f0f921"
             ]
            ],
            "type": "surface"
           }
          ],
          "table": [
           {
            "cells": {
             "fill": {
              "color": "#EBF0F8"
             },
             "line": {
              "color": "white"
             }
            },
            "header": {
             "fill": {
              "color": "#C8D4E3"
             },
             "line": {
              "color": "white"
             }
            },
            "type": "table"
           }
          ]
         },
         "layout": {
          "annotationdefaults": {
           "arrowcolor": "#2a3f5f",
           "arrowhead": 0,
           "arrowwidth": 1
          },
          "autotypenumbers": "strict",
          "coloraxis": {
           "colorbar": {
            "outlinewidth": 0,
            "ticks": ""
           }
          },
          "colorscale": {
           "diverging": [
            [
             0,
             "#8e0152"
            ],
            [
             0.1,
             "#c51b7d"
            ],
            [
             0.2,
             "#de77ae"
            ],
            [
             0.3,
             "#f1b6da"
            ],
            [
             0.4,
             "#fde0ef"
            ],
            [
             0.5,
             "#f7f7f7"
            ],
            [
             0.6,
             "#e6f5d0"
            ],
            [
             0.7,
             "#b8e186"
            ],
            [
             0.8,
             "#7fbc41"
            ],
            [
             0.9,
             "#4d9221"
            ],
            [
             1,
             "#276419"
            ]
           ],
           "sequential": [
            [
             0,
             "#0d0887"
            ],
            [
             0.1111111111111111,
             "#46039f"
            ],
            [
             0.2222222222222222,
             "#7201a8"
            ],
            [
             0.3333333333333333,
             "#9c179e"
            ],
            [
             0.4444444444444444,
             "#bd3786"
            ],
            [
             0.5555555555555556,
             "#d8576b"
            ],
            [
             0.6666666666666666,
             "#ed7953"
            ],
            [
             0.7777777777777778,
             "#fb9f3a"
            ],
            [
             0.8888888888888888,
             "#fdca26"
            ],
            [
             1,
             "#f0f921"
            ]
           ],
           "sequentialminus": [
            [
             0,
             "#0d0887"
            ],
            [
             0.1111111111111111,
             "#46039f"
            ],
            [
             0.2222222222222222,
             "#7201a8"
            ],
            [
             0.3333333333333333,
             "#9c179e"
            ],
            [
             0.4444444444444444,
             "#bd3786"
            ],
            [
             0.5555555555555556,
             "#d8576b"
            ],
            [
             0.6666666666666666,
             "#ed7953"
            ],
            [
             0.7777777777777778,
             "#fb9f3a"
            ],
            [
             0.8888888888888888,
             "#fdca26"
            ],
            [
             1,
             "#f0f921"
            ]
           ]
          },
          "colorway": [
           "#636efa",
           "#EF553B",
           "#00cc96",
           "#ab63fa",
           "#FFA15A",
           "#19d3f3",
           "#FF6692",
           "#B6E880",
           "#FF97FF",
           "#FECB52"
          ],
          "font": {
           "color": "#2a3f5f"
          },
          "geo": {
           "bgcolor": "white",
           "lakecolor": "white",
           "landcolor": "#E5ECF6",
           "showlakes": true,
           "showland": true,
           "subunitcolor": "white"
          },
          "hoverlabel": {
           "align": "left"
          },
          "hovermode": "closest",
          "mapbox": {
           "style": "light"
          },
          "paper_bgcolor": "white",
          "plot_bgcolor": "#E5ECF6",
          "polar": {
           "angularaxis": {
            "gridcolor": "white",
            "linecolor": "white",
            "ticks": ""
           },
           "bgcolor": "#E5ECF6",
           "radialaxis": {
            "gridcolor": "white",
            "linecolor": "white",
            "ticks": ""
           }
          },
          "scene": {
           "xaxis": {
            "backgroundcolor": "#E5ECF6",
            "gridcolor": "white",
            "gridwidth": 2,
            "linecolor": "white",
            "showbackground": true,
            "ticks": "",
            "zerolinecolor": "white"
           },
           "yaxis": {
            "backgroundcolor": "#E5ECF6",
            "gridcolor": "white",
            "gridwidth": 2,
            "linecolor": "white",
            "showbackground": true,
            "ticks": "",
            "zerolinecolor": "white"
           },
           "zaxis": {
            "backgroundcolor": "#E5ECF6",
            "gridcolor": "white",
            "gridwidth": 2,
            "linecolor": "white",
            "showbackground": true,
            "ticks": "",
            "zerolinecolor": "white"
           }
          },
          "shapedefaults": {
           "line": {
            "color": "#2a3f5f"
           }
          },
          "ternary": {
           "aaxis": {
            "gridcolor": "white",
            "linecolor": "white",
            "ticks": ""
           },
           "baxis": {
            "gridcolor": "white",
            "linecolor": "white",
            "ticks": ""
           },
           "bgcolor": "#E5ECF6",
           "caxis": {
            "gridcolor": "white",
            "linecolor": "white",
            "ticks": ""
           }
          },
          "title": {
           "x": 0.05
          },
          "xaxis": {
           "automargin": true,
           "gridcolor": "white",
           "linecolor": "white",
           "ticks": "",
           "title": {
            "standoff": 15
           },
           "zerolinecolor": "white",
           "zerolinewidth": 2
          },
          "yaxis": {
           "automargin": true,
           "gridcolor": "white",
           "linecolor": "white",
           "ticks": "",
           "title": {
            "standoff": 15
           },
           "zerolinecolor": "white",
           "zerolinewidth": 2
          }
         }
        },
        "xaxis": {
         "anchor": "y",
         "domain": [
          0,
          1
         ],
         "title": {
          "text": "Type "
         }
        },
        "yaxis": {
         "anchor": "x",
         "domain": [
          0,
          1
         ],
         "title": {
          "text": "Total Sales"
         }
        }
       }
      }
     },
     "metadata": {},
     "output_type": "display_data"
    }
   ],
   "source": [
    "## Creating a data frame by grouping\n",
    "df1=df.groupby(['Company'])['TypeName'].value_counts().to_frame().sort_values(by='count',ascending=False)\n",
    "df1=df1.reset_index()\n",
    "df1\n",
    "\n",
    "## Creating a bar chart to Vis\n",
    "\n",
    "fig= px.bar( df1 , x=df1['TypeName'] ,y= df1['count'], color='Company', barmode = 'group')\n",
    "fig.update_xaxes(title='Type ')\n",
    "fig.update_yaxes(title='Total Sales')\n"
   ]
  },
  {
   "cell_type": "code",
   "execution_count": 25,
   "metadata": {},
   "outputs": [
    {
     "data": {
      "application/vnd.plotly.v1+json": {
       "config": {
        "plotlyServerURL": "https://plot.ly"
       },
       "data": [
        {
         "alignmentgroup": "True",
         "hovertemplate": "Company=%{x}<br>Price=%{y}<extra></extra>",
         "legendgroup": "",
         "marker": {
          "color": "#636efa",
          "pattern": {
           "shape": ""
          }
         },
         "name": "",
         "offsetgroup": "",
         "orientation": "v",
         "showlegend": false,
         "textposition": "auto",
         "type": "bar",
         "x": [
          "Razer",
          "LG",
          "MSI",
          "Google",
          "Microsoft",
          "Apple",
          "Huawei",
          "Samsung",
          "Toshiba",
          "Dell"
         ],
         "xaxis": "x",
         "y": [
          35656498.28571428,
          22366944,
          18423245.226666667,
          17877216,
          17180757.599999998,
          16668099.977142856,
          15174144,
          15061664,
          13509810,
          12778942.881649485
         ],
         "yaxis": "y"
        }
       ],
       "layout": {
        "barmode": "relative",
        "legend": {
         "tracegroupgap": 0
        },
        "template": {
         "data": {
          "bar": [
           {
            "error_x": {
             "color": "#2a3f5f"
            },
            "error_y": {
             "color": "#2a3f5f"
            },
            "marker": {
             "line": {
              "color": "#E5ECF6",
              "width": 0.5
             },
             "pattern": {
              "fillmode": "overlay",
              "size": 10,
              "solidity": 0.2
             }
            },
            "type": "bar"
           }
          ],
          "barpolar": [
           {
            "marker": {
             "line": {
              "color": "#E5ECF6",
              "width": 0.5
             },
             "pattern": {
              "fillmode": "overlay",
              "size": 10,
              "solidity": 0.2
             }
            },
            "type": "barpolar"
           }
          ],
          "carpet": [
           {
            "aaxis": {
             "endlinecolor": "#2a3f5f",
             "gridcolor": "white",
             "linecolor": "white",
             "minorgridcolor": "white",
             "startlinecolor": "#2a3f5f"
            },
            "baxis": {
             "endlinecolor": "#2a3f5f",
             "gridcolor": "white",
             "linecolor": "white",
             "minorgridcolor": "white",
             "startlinecolor": "#2a3f5f"
            },
            "type": "carpet"
           }
          ],
          "choropleth": [
           {
            "colorbar": {
             "outlinewidth": 0,
             "ticks": ""
            },
            "type": "choropleth"
           }
          ],
          "contour": [
           {
            "colorbar": {
             "outlinewidth": 0,
             "ticks": ""
            },
            "colorscale": [
             [
              0,
              "#0d0887"
             ],
             [
              0.1111111111111111,
              "#46039f"
             ],
             [
              0.2222222222222222,
              "#7201a8"
             ],
             [
              0.3333333333333333,
              "#9c179e"
             ],
             [
              0.4444444444444444,
              "#bd3786"
             ],
             [
              0.5555555555555556,
              "#d8576b"
             ],
             [
              0.6666666666666666,
              "#ed7953"
             ],
             [
              0.7777777777777778,
              "#fb9f3a"
             ],
             [
              0.8888888888888888,
              "#fdca26"
             ],
             [
              1,
              "#f0f921"
             ]
            ],
            "type": "contour"
           }
          ],
          "contourcarpet": [
           {
            "colorbar": {
             "outlinewidth": 0,
             "ticks": ""
            },
            "type": "contourcarpet"
           }
          ],
          "heatmap": [
           {
            "colorbar": {
             "outlinewidth": 0,
             "ticks": ""
            },
            "colorscale": [
             [
              0,
              "#0d0887"
             ],
             [
              0.1111111111111111,
              "#46039f"
             ],
             [
              0.2222222222222222,
              "#7201a8"
             ],
             [
              0.3333333333333333,
              "#9c179e"
             ],
             [
              0.4444444444444444,
              "#bd3786"
             ],
             [
              0.5555555555555556,
              "#d8576b"
             ],
             [
              0.6666666666666666,
              "#ed7953"
             ],
             [
              0.7777777777777778,
              "#fb9f3a"
             ],
             [
              0.8888888888888888,
              "#fdca26"
             ],
             [
              1,
              "#f0f921"
             ]
            ],
            "type": "heatmap"
           }
          ],
          "heatmapgl": [
           {
            "colorbar": {
             "outlinewidth": 0,
             "ticks": ""
            },
            "colorscale": [
             [
              0,
              "#0d0887"
             ],
             [
              0.1111111111111111,
              "#46039f"
             ],
             [
              0.2222222222222222,
              "#7201a8"
             ],
             [
              0.3333333333333333,
              "#9c179e"
             ],
             [
              0.4444444444444444,
              "#bd3786"
             ],
             [
              0.5555555555555556,
              "#d8576b"
             ],
             [
              0.6666666666666666,
              "#ed7953"
             ],
             [
              0.7777777777777778,
              "#fb9f3a"
             ],
             [
              0.8888888888888888,
              "#fdca26"
             ],
             [
              1,
              "#f0f921"
             ]
            ],
            "type": "heatmapgl"
           }
          ],
          "histogram": [
           {
            "marker": {
             "pattern": {
              "fillmode": "overlay",
              "size": 10,
              "solidity": 0.2
             }
            },
            "type": "histogram"
           }
          ],
          "histogram2d": [
           {
            "colorbar": {
             "outlinewidth": 0,
             "ticks": ""
            },
            "colorscale": [
             [
              0,
              "#0d0887"
             ],
             [
              0.1111111111111111,
              "#46039f"
             ],
             [
              0.2222222222222222,
              "#7201a8"
             ],
             [
              0.3333333333333333,
              "#9c179e"
             ],
             [
              0.4444444444444444,
              "#bd3786"
             ],
             [
              0.5555555555555556,
              "#d8576b"
             ],
             [
              0.6666666666666666,
              "#ed7953"
             ],
             [
              0.7777777777777778,
              "#fb9f3a"
             ],
             [
              0.8888888888888888,
              "#fdca26"
             ],
             [
              1,
              "#f0f921"
             ]
            ],
            "type": "histogram2d"
           }
          ],
          "histogram2dcontour": [
           {
            "colorbar": {
             "outlinewidth": 0,
             "ticks": ""
            },
            "colorscale": [
             [
              0,
              "#0d0887"
             ],
             [
              0.1111111111111111,
              "#46039f"
             ],
             [
              0.2222222222222222,
              "#7201a8"
             ],
             [
              0.3333333333333333,
              "#9c179e"
             ],
             [
              0.4444444444444444,
              "#bd3786"
             ],
             [
              0.5555555555555556,
              "#d8576b"
             ],
             [
              0.6666666666666666,
              "#ed7953"
             ],
             [
              0.7777777777777778,
              "#fb9f3a"
             ],
             [
              0.8888888888888888,
              "#fdca26"
             ],
             [
              1,
              "#f0f921"
             ]
            ],
            "type": "histogram2dcontour"
           }
          ],
          "mesh3d": [
           {
            "colorbar": {
             "outlinewidth": 0,
             "ticks": ""
            },
            "type": "mesh3d"
           }
          ],
          "parcoords": [
           {
            "line": {
             "colorbar": {
              "outlinewidth": 0,
              "ticks": ""
             }
            },
            "type": "parcoords"
           }
          ],
          "pie": [
           {
            "automargin": true,
            "type": "pie"
           }
          ],
          "scatter": [
           {
            "fillpattern": {
             "fillmode": "overlay",
             "size": 10,
             "solidity": 0.2
            },
            "type": "scatter"
           }
          ],
          "scatter3d": [
           {
            "line": {
             "colorbar": {
              "outlinewidth": 0,
              "ticks": ""
             }
            },
            "marker": {
             "colorbar": {
              "outlinewidth": 0,
              "ticks": ""
             }
            },
            "type": "scatter3d"
           }
          ],
          "scattercarpet": [
           {
            "marker": {
             "colorbar": {
              "outlinewidth": 0,
              "ticks": ""
             }
            },
            "type": "scattercarpet"
           }
          ],
          "scattergeo": [
           {
            "marker": {
             "colorbar": {
              "outlinewidth": 0,
              "ticks": ""
             }
            },
            "type": "scattergeo"
           }
          ],
          "scattergl": [
           {
            "marker": {
             "colorbar": {
              "outlinewidth": 0,
              "ticks": ""
             }
            },
            "type": "scattergl"
           }
          ],
          "scattermapbox": [
           {
            "marker": {
             "colorbar": {
              "outlinewidth": 0,
              "ticks": ""
             }
            },
            "type": "scattermapbox"
           }
          ],
          "scatterpolar": [
           {
            "marker": {
             "colorbar": {
              "outlinewidth": 0,
              "ticks": ""
             }
            },
            "type": "scatterpolar"
           }
          ],
          "scatterpolargl": [
           {
            "marker": {
             "colorbar": {
              "outlinewidth": 0,
              "ticks": ""
             }
            },
            "type": "scatterpolargl"
           }
          ],
          "scatterternary": [
           {
            "marker": {
             "colorbar": {
              "outlinewidth": 0,
              "ticks": ""
             }
            },
            "type": "scatterternary"
           }
          ],
          "surface": [
           {
            "colorbar": {
             "outlinewidth": 0,
             "ticks": ""
            },
            "colorscale": [
             [
              0,
              "#0d0887"
             ],
             [
              0.1111111111111111,
              "#46039f"
             ],
             [
              0.2222222222222222,
              "#7201a8"
             ],
             [
              0.3333333333333333,
              "#9c179e"
             ],
             [
              0.4444444444444444,
              "#bd3786"
             ],
             [
              0.5555555555555556,
              "#d8576b"
             ],
             [
              0.6666666666666666,
              "#ed7953"
             ],
             [
              0.7777777777777778,
              "#fb9f3a"
             ],
             [
              0.8888888888888888,
              "#fdca26"
             ],
             [
              1,
              "#f0f921"
             ]
            ],
            "type": "surface"
           }
          ],
          "table": [
           {
            "cells": {
             "fill": {
              "color": "#EBF0F8"
             },
             "line": {
              "color": "white"
             }
            },
            "header": {
             "fill": {
              "color": "#C8D4E3"
             },
             "line": {
              "color": "white"
             }
            },
            "type": "table"
           }
          ]
         },
         "layout": {
          "annotationdefaults": {
           "arrowcolor": "#2a3f5f",
           "arrowhead": 0,
           "arrowwidth": 1
          },
          "autotypenumbers": "strict",
          "coloraxis": {
           "colorbar": {
            "outlinewidth": 0,
            "ticks": ""
           }
          },
          "colorscale": {
           "diverging": [
            [
             0,
             "#8e0152"
            ],
            [
             0.1,
             "#c51b7d"
            ],
            [
             0.2,
             "#de77ae"
            ],
            [
             0.3,
             "#f1b6da"
            ],
            [
             0.4,
             "#fde0ef"
            ],
            [
             0.5,
             "#f7f7f7"
            ],
            [
             0.6,
             "#e6f5d0"
            ],
            [
             0.7,
             "#b8e186"
            ],
            [
             0.8,
             "#7fbc41"
            ],
            [
             0.9,
             "#4d9221"
            ],
            [
             1,
             "#276419"
            ]
           ],
           "sequential": [
            [
             0,
             "#0d0887"
            ],
            [
             0.1111111111111111,
             "#46039f"
            ],
            [
             0.2222222222222222,
             "#7201a8"
            ],
            [
             0.3333333333333333,
             "#9c179e"
            ],
            [
             0.4444444444444444,
             "#bd3786"
            ],
            [
             0.5555555555555556,
             "#d8576b"
            ],
            [
             0.6666666666666666,
             "#ed7953"
            ],
            [
             0.7777777777777778,
             "#fb9f3a"
            ],
            [
             0.8888888888888888,
             "#fdca26"
            ],
            [
             1,
             "#f0f921"
            ]
           ],
           "sequentialminus": [
            [
             0,
             "#0d0887"
            ],
            [
             0.1111111111111111,
             "#46039f"
            ],
            [
             0.2222222222222222,
             "#7201a8"
            ],
            [
             0.3333333333333333,
             "#9c179e"
            ],
            [
             0.4444444444444444,
             "#bd3786"
            ],
            [
             0.5555555555555556,
             "#d8576b"
            ],
            [
             0.6666666666666666,
             "#ed7953"
            ],
            [
             0.7777777777777778,
             "#fb9f3a"
            ],
            [
             0.8888888888888888,
             "#fdca26"
            ],
            [
             1,
             "#f0f921"
            ]
           ]
          },
          "colorway": [
           "#636efa",
           "#EF553B",
           "#00cc96",
           "#ab63fa",
           "#FFA15A",
           "#19d3f3",
           "#FF6692",
           "#B6E880",
           "#FF97FF",
           "#FECB52"
          ],
          "font": {
           "color": "#2a3f5f"
          },
          "geo": {
           "bgcolor": "white",
           "lakecolor": "white",
           "landcolor": "#E5ECF6",
           "showlakes": true,
           "showland": true,
           "subunitcolor": "white"
          },
          "hoverlabel": {
           "align": "left"
          },
          "hovermode": "closest",
          "mapbox": {
           "style": "light"
          },
          "paper_bgcolor": "white",
          "plot_bgcolor": "#E5ECF6",
          "polar": {
           "angularaxis": {
            "gridcolor": "white",
            "linecolor": "white",
            "ticks": ""
           },
           "bgcolor": "#E5ECF6",
           "radialaxis": {
            "gridcolor": "white",
            "linecolor": "white",
            "ticks": ""
           }
          },
          "scene": {
           "xaxis": {
            "backgroundcolor": "#E5ECF6",
            "gridcolor": "white",
            "gridwidth": 2,
            "linecolor": "white",
            "showbackground": true,
            "ticks": "",
            "zerolinecolor": "white"
           },
           "yaxis": {
            "backgroundcolor": "#E5ECF6",
            "gridcolor": "white",
            "gridwidth": 2,
            "linecolor": "white",
            "showbackground": true,
            "ticks": "",
            "zerolinecolor": "white"
           },
           "zaxis": {
            "backgroundcolor": "#E5ECF6",
            "gridcolor": "white",
            "gridwidth": 2,
            "linecolor": "white",
            "showbackground": true,
            "ticks": "",
            "zerolinecolor": "white"
           }
          },
          "shapedefaults": {
           "line": {
            "color": "#2a3f5f"
           }
          },
          "ternary": {
           "aaxis": {
            "gridcolor": "white",
            "linecolor": "white",
            "ticks": ""
           },
           "baxis": {
            "gridcolor": "white",
            "linecolor": "white",
            "ticks": ""
           },
           "bgcolor": "#E5ECF6",
           "caxis": {
            "gridcolor": "white",
            "linecolor": "white",
            "ticks": ""
           }
          },
          "title": {
           "x": 0.05
          },
          "xaxis": {
           "automargin": true,
           "gridcolor": "white",
           "linecolor": "white",
           "ticks": "",
           "title": {
            "standoff": 15
           },
           "zerolinecolor": "white",
           "zerolinewidth": 2
          },
          "yaxis": {
           "automargin": true,
           "gridcolor": "white",
           "linecolor": "white",
           "ticks": "",
           "title": {
            "standoff": 15
           },
           "zerolinecolor": "white",
           "zerolinewidth": 2
          }
         }
        },
        "title": {
         "text": "Brands with their avg Price"
        },
        "xaxis": {
         "anchor": "y",
         "domain": [
          0,
          1
         ],
         "title": {
          "text": "Company"
         }
        },
        "yaxis": {
         "anchor": "x",
         "domain": [
          0,
          1
         ],
         "title": {
          "text": "Price"
         }
        }
       }
      }
     },
     "metadata": {},
     "output_type": "display_data"
    }
   ],
   "source": [
    "## Create a data frame with average price of each laptop\n",
    "df1= df.groupby('Company')['Price'].mean().reset_index().nlargest(10,'Price')\n",
    "\n",
    "## Create a bar chart with to Visu\n",
    "\n",
    "px.bar(df1 ,\n",
    "        x=df1['Company'] , \n",
    "        y='Price',\n",
    "        title='Brands with their avg Price')\n"
   ]
  },
  {
   "cell_type": "code",
   "execution_count": 26,
   "metadata": {},
   "outputs": [
    {
     "data": {
      "application/vnd.plotly.v1+json": {
       "config": {
        "plotlyServerURL": "https://plot.ly"
       },
       "data": [
        {
         "hovertemplate": "RamGB=%{x}<br>Price=%{y}<extra></extra>",
         "legendgroup": "",
         "marker": {
          "color": "#636efa",
          "symbol": "circle"
         },
         "mode": "markers",
         "name": "",
         "showlegend": false,
         "type": "scattergl",
         "x": [
          8,
          8,
          8,
          16,
          8,
          4,
          16,
          8,
          16,
          8,
          4,
          4,
          16,
          4,
          8,
          8,
          8,
          16,
          8,
          8,
          2,
          8,
          4,
          8,
          8,
          4,
          8,
          8,
          8,
          8,
          4,
          2,
          4,
          16,
          8,
          4,
          4,
          8,
          4,
          8,
          4,
          16,
          8,
          4,
          12,
          8,
          4,
          8,
          4,
          4,
          4,
          8,
          4,
          8,
          4,
          8,
          4,
          4,
          16,
          4,
          16,
          8,
          8,
          8,
          8,
          16,
          4,
          4,
          4,
          12,
          4,
          8,
          8,
          8,
          8,
          8,
          8,
          8,
          4,
          8,
          8,
          8,
          8,
          4,
          4,
          16,
          8,
          8,
          16,
          8,
          8,
          8,
          16,
          8,
          8,
          8,
          8,
          4,
          6,
          12,
          8,
          4,
          8,
          8,
          8,
          6,
          4,
          8,
          16,
          8,
          16,
          8,
          8,
          4,
          8,
          8,
          8,
          8,
          4,
          8,
          6,
          16,
          8,
          16,
          4,
          4,
          8,
          4,
          16,
          8,
          8,
          4,
          8,
          4,
          8,
          8,
          4,
          8,
          4,
          4,
          4,
          8,
          8,
          4,
          4,
          8,
          8,
          4,
          16,
          4,
          16,
          8,
          4,
          16,
          4,
          6,
          4,
          8,
          8,
          4,
          4,
          4,
          8,
          16,
          4,
          16,
          4,
          8,
          8,
          4,
          8,
          6,
          4,
          4,
          8,
          8,
          4,
          32,
          8,
          8,
          16,
          8,
          16,
          8,
          8,
          16,
          16,
          8,
          8,
          8,
          16,
          4,
          8,
          8,
          8,
          8,
          32,
          8,
          16,
          8,
          16,
          4,
          8,
          16,
          16,
          16,
          6,
          8,
          8,
          8,
          8,
          16,
          4,
          8,
          8,
          8,
          8,
          8,
          8,
          16,
          8,
          8,
          8,
          8,
          16,
          8,
          16,
          8,
          8,
          8,
          4,
          4,
          16,
          8,
          8,
          16,
          4,
          4,
          32,
          8,
          8,
          8,
          8,
          8,
          8,
          8,
          8,
          16,
          4,
          8,
          8,
          16,
          4,
          8,
          4,
          8,
          8,
          16,
          16,
          8,
          8,
          4,
          4,
          4,
          8,
          8,
          8,
          4,
          8,
          8,
          8,
          16,
          8,
          16,
          8,
          12,
          8,
          8,
          4,
          8,
          6,
          4,
          8,
          6,
          8,
          12,
          8,
          8,
          16,
          8,
          2,
          8,
          8,
          8,
          8,
          8,
          8,
          16,
          6,
          16,
          4,
          16,
          6,
          8,
          8,
          4,
          16,
          8,
          8,
          4,
          8,
          16,
          16,
          8,
          2,
          8,
          16,
          4,
          8,
          4,
          8,
          4,
          8,
          8,
          8,
          4,
          6,
          8,
          8,
          32,
          8,
          8,
          8,
          4,
          8,
          8,
          8,
          8,
          4,
          8,
          4,
          12,
          8,
          16,
          8,
          16,
          2,
          16,
          4,
          8,
          16,
          8,
          8,
          8,
          16,
          8,
          4,
          8,
          8,
          8,
          4,
          8,
          6,
          8,
          8,
          8,
          8,
          8,
          8,
          8,
          12,
          4,
          16,
          4,
          8,
          4,
          4,
          4,
          4,
          8,
          8,
          4,
          8,
          8,
          16,
          8,
          4,
          8,
          8,
          16,
          8,
          16,
          12,
          8,
          8,
          4,
          8,
          8,
          8,
          16,
          4,
          16,
          8,
          8,
          16,
          8,
          16,
          8,
          4,
          2,
          8,
          8,
          4,
          8,
          8,
          4,
          4,
          8,
          8,
          8,
          16,
          6,
          8,
          8,
          16,
          8,
          8,
          8,
          12,
          4,
          4,
          8,
          4,
          16,
          16,
          8,
          4,
          16,
          24,
          4,
          8,
          4,
          8,
          4,
          8,
          8,
          4,
          8,
          8,
          16,
          8,
          16,
          8,
          8,
          8,
          4,
          8,
          4,
          8,
          8,
          4,
          4,
          8,
          8,
          8,
          4,
          4,
          8,
          12,
          12,
          8,
          8,
          8,
          8,
          12,
          8,
          8,
          8,
          8,
          8,
          8,
          4,
          4,
          4,
          4,
          8,
          16,
          16,
          16,
          16,
          8,
          32,
          8,
          8,
          24,
          8,
          8,
          8,
          8,
          8,
          4,
          8,
          8,
          4,
          4,
          8,
          8,
          4,
          8,
          8,
          8,
          4,
          8,
          16,
          16,
          2,
          4,
          24,
          8,
          16,
          8,
          8,
          8,
          4,
          8,
          8,
          4,
          8,
          4,
          8,
          16,
          8,
          8,
          4,
          8,
          8,
          8,
          4,
          12,
          8,
          8,
          4,
          8,
          8,
          4,
          4,
          4,
          4,
          4,
          8,
          4,
          8,
          16,
          8,
          8,
          4,
          4,
          6,
          6,
          4,
          4,
          4,
          16,
          8,
          8,
          8,
          4,
          8,
          4,
          4,
          8,
          8,
          6,
          8,
          4,
          4,
          16,
          32,
          16,
          8,
          4,
          8,
          4,
          16,
          4,
          16,
          16,
          12,
          12,
          8,
          8,
          12,
          4,
          16,
          4,
          8,
          8,
          8,
          8,
          8,
          8,
          4,
          4,
          16,
          4,
          16,
          8,
          6,
          8,
          4,
          32,
          16,
          4,
          4,
          4,
          8,
          4,
          8,
          16,
          4,
          8,
          8,
          4,
          8,
          4,
          8,
          2,
          4,
          6,
          8,
          16,
          16,
          4,
          4,
          8,
          8,
          8,
          2,
          8,
          16,
          8,
          8,
          16,
          8,
          4,
          4,
          8,
          16,
          8,
          8,
          32,
          8,
          8,
          8,
          4,
          8,
          8,
          16,
          8,
          32,
          8,
          4,
          4,
          6,
          8,
          4,
          8,
          8,
          8,
          4,
          8,
          8,
          8,
          4,
          4,
          16,
          8,
          8,
          8,
          16,
          8,
          4,
          16,
          4,
          8,
          16,
          4,
          4,
          6,
          4,
          4,
          4,
          8,
          8,
          8,
          4,
          16,
          4,
          16,
          4,
          8,
          4,
          8,
          4,
          4,
          8,
          8,
          16,
          8,
          6,
          8,
          8,
          8,
          4,
          16,
          8,
          8,
          4,
          4,
          8,
          8,
          8,
          8,
          32,
          8,
          4,
          8,
          4,
          8,
          4,
          16,
          12,
          6,
          4,
          8,
          4,
          16,
          8,
          16,
          4,
          8,
          8,
          8,
          8,
          16,
          2,
          16,
          8,
          8,
          16,
          4,
          8,
          4,
          4,
          4,
          8,
          8,
          8,
          16,
          4,
          8,
          16,
          8,
          8,
          4,
          4,
          4,
          16,
          8,
          4,
          16,
          16,
          4,
          8,
          4,
          12,
          16,
          4,
          16,
          8,
          32,
          16,
          16,
          8,
          16,
          16,
          8,
          4,
          16,
          8,
          8,
          4,
          8,
          8,
          8,
          8,
          4,
          8,
          8,
          8,
          8,
          8,
          8,
          8,
          4,
          8,
          4,
          8,
          16,
          4,
          12,
          16,
          8,
          8,
          8,
          8,
          16,
          4,
          16,
          4,
          4,
          4,
          8,
          8,
          8,
          4,
          8,
          4,
          4,
          8,
          32,
          16,
          4,
          8,
          8,
          16,
          16,
          4,
          4,
          8,
          16,
          32,
          8,
          8,
          8,
          4,
          4,
          8,
          8,
          8,
          4,
          16,
          8,
          8,
          8,
          8,
          4,
          8,
          8,
          4,
          8,
          8,
          4,
          8,
          16,
          4,
          8,
          8,
          8,
          8,
          4,
          4,
          8,
          4,
          16,
          8,
          4,
          8,
          4,
          4,
          4,
          4,
          4,
          8,
          4,
          4,
          4,
          12,
          4,
          4,
          4,
          16,
          8,
          8,
          16,
          8,
          8,
          8,
          4,
          8,
          8,
          32,
          16,
          8,
          8,
          16,
          8,
          4,
          8,
          8,
          8,
          8,
          6,
          8,
          4,
          4,
          8,
          16,
          16,
          8,
          4,
          8,
          8,
          16,
          8,
          4,
          8,
          8,
          4,
          4,
          4,
          4,
          4,
          16,
          4,
          8,
          4,
          8,
          8,
          16,
          8,
          4,
          4,
          8,
          8,
          16,
          8,
          8,
          4,
          4,
          8,
          8,
          8,
          8,
          8,
          16,
          8,
          4,
          8,
          4,
          8,
          8,
          12,
          8,
          8,
          4,
          4,
          4,
          32,
          6,
          16,
          8,
          32,
          8,
          16,
          8,
          4,
          16,
          6,
          16,
          12,
          4,
          6,
          4,
          4,
          4,
          8,
          8,
          8,
          8,
          8,
          4,
          4,
          8,
          8,
          8,
          8,
          4,
          16,
          8,
          8,
          8,
          4,
          4,
          4,
          4,
          4,
          8,
          8,
          4,
          8,
          4,
          4,
          8,
          4,
          8,
          4,
          16,
          8,
          8,
          4,
          8,
          8,
          8,
          8,
          4,
          4,
          4,
          8,
          8,
          4,
          6,
          8,
          8,
          8,
          8,
          4,
          8,
          8,
          8,
          4,
          2,
          16,
          8,
          4,
          8,
          8,
          16,
          16,
          4,
          16,
          8,
          8,
          4,
          16,
          4,
          4,
          8,
          12,
          16,
          8,
          16,
          4,
          16,
          16,
          8,
          64,
          8,
          16,
          8,
          4,
          4,
          8,
          8,
          8,
          8,
          4,
          16,
          4,
          4,
          8,
          32,
          4,
          16,
          8,
          4,
          8,
          8,
          4,
          4,
          4,
          4,
          8,
          4,
          4,
          8,
          8,
          8,
          4,
          16,
          4,
          4,
          4,
          8,
          16,
          8,
          8,
          4,
          4,
          16,
          8,
          4,
          4,
          8,
          4,
          8,
          16,
          8,
          16,
          8,
          4,
          8,
          8,
          4,
          4,
          8,
          4,
          8,
          8,
          8,
          8,
          8,
          4,
          8,
          4,
          16,
          8,
          8,
          16,
          8,
          16,
          8,
          8,
          8,
          8,
          8,
          8,
          8,
          8,
          8,
          4,
          4,
          8,
          8,
          8,
          4,
          16,
          12,
          8,
          8,
          8,
          16,
          8,
          8,
          4,
          8,
          8,
          4,
          2,
          8,
          8,
          16,
          4,
          4,
          8,
          4,
          4,
          16,
          16,
          4,
          8,
          6,
          8,
          4,
          6,
          8,
          16,
          4,
          8,
          16,
          8,
          4,
          4,
          8,
          8,
          12,
          4,
          16,
          4,
          16,
          4,
          8,
          16,
          16,
          8,
          8,
          8,
          4,
          8,
          16,
          8,
          16,
          16,
          8,
          16,
          2,
          4,
          8,
          8,
          8,
          8,
          8,
          6,
          8,
          4,
          4,
          8,
          4,
          16,
          8,
          16,
          16,
          8,
          16,
          4,
          4,
          8,
          4,
          8,
          16,
          6,
          8,
          4,
          16,
          4,
          16,
          4,
          16,
          8,
          8,
          4,
          4,
          6,
          8,
          4,
          4,
          16,
          4,
          8,
          8,
          4,
          8,
          6,
          4,
          2,
          8,
          6,
          8,
          2,
          4,
          4,
          16,
          2,
          6
         ],
         "xaxis": "x",
         "y": [
          14275736.64,
          9579104.64,
          6127200,
          27039067.199999996,
          19219161.6,
          4262400,
          22803520.32,
          12347107.2,
          15930719.999999998,
          8205120,
          4197398.399999999,
          3676213.4400000004,
          26000320.32,
          5316278.4,
          13452134.4,
          16181668.799999999,
          7938720,
          30454848,
          5317344,
          10432224,
          2044886.4000000001,
          10645344,
          2749248,
          8727264,
          7022303.999999999,
          4461027.84,
          11710944,
          8524800,
          13831488,
          9547776,
          2610613.44,
          2120544,
          4677984,
          19916064,
          10634688,
          2653344,
          3910751.9999999995,
          10432224,
          5207480.640000001,
          9366624,
          4145183.9999999995,
          15973344,
          5572981.44,
          7267392,
          10645344,
          15120863.999999998,
          3932064,
          13842144,
          6809184,
          4965696,
          3399264,
          8961696,
          4246309.44,
          11753568,
          4091904,
          8181676.8,
          4677984,
          6246440.640000001,
          26096544,
          4422240,
          13842144,
          9366624,
          6382944,
          10027296,
          7352639.999999999,
          21130848,
          4674680.640000001,
          2440224,
          5850144,
          10112544,
          11604384,
          10176480,
          9270720,
          11668320,
          4145183.9999999995,
          10112544,
          5530464,
          9110880,
          5647680,
          10410912,
          11680680.959999999,
          16090560,
          9164160,
          4251744,
          4209120,
          14374944,
          7448544,
          6382837.44,
          15440544,
          17571744,
          7448544,
          7341984,
          12755232,
          12733920,
          11178144,
          9025632,
          6392534.399999999,
          5168160,
          6148512,
          13309344,
          7661664,
          3718944,
          6894432.000000001,
          11924064,
          14279040,
          7022303.999999999,
          4421174.399999999,
          12712608,
          13842144,
          15770879.999999998,
          13447872,
          14694624,
          14907744,
          7693632.000000001,
          17358624,
          14907637.44,
          11551104,
          12044796.479999999,
          6009984,
          11913408,
          5104224,
          23885424,
          6702623.999999999,
          13543776,
          4805856,
          2759904,
          8652672,
          2962261.44,
          14875775.999999998,
          9888768,
          6809077.4399999995,
          4784544,
          9419904,
          6095232,
          6372288,
          10528128,
          2689148.16,
          9995328,
          5317344,
          7448544,
          6979680,
          11892309.12,
          9260064,
          6414912,
          3932064,
          11710944,
          21461184,
          3665664,
          21621024,
          4763232,
          13312114.559999999,
          9579744,
          5306688,
          20139840,
          11529792,
          6596064,
          6702623.999999999,
          14012640,
          11178144,
          4763232,
          4294368,
          8578080,
          7757567.999999999,
          11497824,
          3708287.9999999995,
          19170144,
          3873562.56,
          11300581.44,
          9100224,
          8034624.000000001,
          14374944,
          7448544,
          3292704,
          5210784,
          9835488,
          4891104,
          4784544,
          29826144,
          8663328,
          15973344,
          11178144,
          14907744,
          19702944,
          8450208,
          12776544,
          16506144,
          25542432,
          8301024.000000001,
          10538784,
          11561760,
          30092544,
          2770560,
          10654934.399999999,
          7437888,
          8940384,
          9739584,
          64990943.99999999,
          10219104,
          14694624,
          11135520,
          19660320,
          5253408,
          7906752,
          18637344,
          32554080,
          14897088,
          4677984,
          20768544,
          15440544,
          6361632,
          8301024.000000001,
          14992991.999999998,
          3718944,
          5850144,
          15973344,
          9930113.280000001,
          6276384,
          10986336,
          12243744,
          13629024,
          7217841.6,
          9579744,
          14524128,
          8460864,
          26174759.04,
          8865792,
          9153610.559999999,
          8194464,
          9494496,
          13522463.999999998,
          4251637.44,
          3516479.9999999995,
          15973344,
          9153504,
          7341984,
          9579744,
          4155840,
          6127200,
          41451840,
          9014976,
          6276384,
          12201120,
          9473184,
          9366624,
          11497824,
          10496160,
          5956704,
          31957344,
          7192800,
          21738240,
          8727264,
          19170144,
          4997664,
          19702944,
          7480512,
          10112544,
          4751510.4,
          11284704,
          26629344,
          18104544,
          12169152,
          4731264,
          7693632.000000001,
          7000992,
          6020640,
          8514144,
          15973344,
          4976352,
          10847808,
          9377280,
          20874038.4,
          16506144,
          7832905.92,
          26629344,
          8652672,
          7598473.92,
          11710944,
          7938720,
          5210784,
          9046944,
          9153504,
          4560768,
          8833824,
          6169824,
          10133856,
          7022303.999999999,
          11689632,
          10410912,
          12563424,
          7022410.56,
          2120544,
          12648672,
          5210784,
          19489824,
          7874784,
          13842144,
          10432224,
          30741068.16,
          5317344,
          15643007.999999998,
          5423904,
          22612032,
          6915744,
          5850144,
          13479840,
          3836053.4399999995,
          21045600,
          11114208,
          8727264,
          4997664,
          10645344,
          26629344,
          22366944,
          4997664,
          2930400,
          8993664,
          26096544,
          4900694.4,
          10442880,
          5168160,
          13767551.999999998,
          6276384,
          11657664,
          9611712,
          7022303.999999999,
          3111552,
          5850144,
          11187734.4,
          14225760,
          28121183.999999996,
          12776544,
          10048608,
          14215104,
          4784544,
          10645344,
          13511807.999999998,
          11178144,
          12190464,
          2930293.44,
          12177144,
          2929334.4,
          9579744,
          7629696.000000001,
          22366944,
          16825824,
          12030624,
          2973024,
          17134421.76,
          3996000,
          7064928,
          21604187.52,
          13895424,
          15014304,
          18523005.119999997,
          14950368,
          10345910.399999999,
          3431125.4400000004,
          10645344,
          5939334.72,
          15206112,
          4677984,
          10069920,
          7661664,
          6809184,
          5317344,
          4145183.9999999995,
          11561760,
          8620704,
          9579744,
          18648000,
          11710944,
          4539456,
          23432544,
          5210784,
          9260170.559999999,
          5210677.44,
          5892768,
          3292704,
          3047616,
          9014976,
          12691296,
          4299696,
          17635680,
          11710944,
          18636278.400000002,
          24316992,
          5850144,
          14588063.999999998,
          22750560,
          26735903.999999996,
          11071584,
          16953696,
          7395157.4399999995,
          14374944,
          8299638.72,
          5317344,
          13102191.36,
          9995328,
          28899071.999999996,
          27972000,
          3260736,
          16293024,
          12195792,
          9366624,
          23965344,
          19958688,
          18616032,
          17902080,
          4358304,
          3244219.1999999997,
          20512800,
          20704608,
          4997664,
          8407690.56,
          9888768,
          6381878.4,
          7341984,
          15984000,
          5753707.2,
          12951089.280000001,
          20235744,
          4784544,
          15206112,
          6361632,
          29826144,
          12350304,
          12173414.4,
          11710944,
          21301344,
          3186144,
          2866464,
          10762560,
          6382944,
          26053920,
          26096544,
          18061920,
          3697632,
          23432544,
          25382592,
          5956704,
          5530464,
          7981344,
          15227424,
          3718944,
          11710944,
          12563424,
          4707820.8,
          21237408,
          10951597.440000001,
          27588383.999999996,
          6276384,
          21045600,
          16346304,
          14332319.999999998,
          10432224,
          5104224,
          21802176,
          10538784,
          19170144,
          6818774.4,
          5796864,
          4635360,
          7981344,
          8514144,
          22271040,
          3239424,
          4997664,
          8087903.999999999,
          18104544,
          19798848,
          21301344,
          12297024,
          13586400,
          19626753.599999998,
          13842144,
          7885439.999999999,
          25659648,
          14534784,
          7192800,
          17816832,
          13447872,
          6250809.6,
          7736256,
          2652278.4000000004,
          6020640,
          11178144,
          24913728,
          20235744,
          19159488,
          20779200,
          10783765.439999998,
          29826144,
          14385600,
          6169824,
          13522463.999999998,
          11710944,
          9578678.399999999,
          18637344,
          10112544,
          9707616,
          3623040,
          6595957.4399999995,
          17038944,
          3186144,
          2823840,
          10112544,
          13042944,
          6532128,
          14097888,
          12243744,
          9579744,
          6809184,
          8908416,
          12992221.439999998,
          14917867.2,
          2610720,
          5556784.32,
          31627008,
          9473184,
          16026624,
          14907744,
          14907744,
          13636802.88,
          7341984,
          9473184,
          14279040,
          8514144,
          4891104,
          6233760,
          14673312,
          32104077.12,
          9164160,
          13842144,
          3932064,
          17571744,
          14588063.999999998,
          8497200.96,
          4251637.44,
          19170144,
          9153504,
          14907744,
          7841430.72,
          12201120,
          8503488,
          3718944,
          7517808,
          8364960.000000001,
          4926801.600000001,
          4230432,
          18424224,
          5317344,
          11902645.44,
          28760544,
          5798462.4,
          13639679.999999998,
          2386944,
          2717280,
          10112544,
          6062198.399999999,
          6584342.4,
          3718944,
          6713280,
          20939040,
          31957344,
          8940384,
          17038944,
          10219104,
          7874784,
          3665664,
          10549440,
          19830709.44,
          4145183.9999999995,
          6915744,
          8844480,
          7299360.000000001,
          2653344,
          19873440,
          28376927.999999996,
          29080224,
          7981450.5600000005,
          4145183.9999999995,
          10746789.12,
          7661664,
          16382427.839999998,
          3143520,
          25030944,
          15962688,
          17827488,
          6489504,
          18861120,
          7874784,
          10112544,
          6425568,
          18104544,
          5637024,
          4891104,
          21578400,
          15706944,
          17795520,
          18786528,
          12989664,
          7123322.88,
          3505824,
          23432544,
          4955040,
          24498144,
          14907744,
          6009984,
          13842144,
          3718944,
          52203744,
          9366730.56,
          4730198.399999999,
          3825504,
          9260064,
          12446208,
          6063264,
          14801184,
          24166316.16,
          4038624,
          11977344,
          15611040,
          8269056,
          8514144,
          9931392,
          9579744,
          2546784,
          4987008,
          6809290.56,
          19393920,
          20246400,
          15760224,
          8833824,
          6169824,
          4251744,
          9660942.72,
          19916064,
          2653344,
          18727067.52,
          25563744,
          11817504,
          5550710.4,
          26107200,
          12456864,
          4795200,
          2919744,
          9792864,
          27694944,
          12925728,
          16879104,
          29826144,
          7555103.999999999,
          15450134.4,
          12699820.799999999,
          3888374.4,
          11337984,
          9792864,
          12094560,
          12744576,
          33538374.72,
          13096224,
          4464864,
          5700960,
          5743584,
          15843021.12,
          5306688,
          10176480,
          7938720,
          13405247.999999998,
          4390272,
          19903809.599999998,
          8716075.2,
          11018304,
          3718944,
          7448544,
          13788863.999999998,
          12094560,
          5274720,
          24498144,
          13842144,
          10633622.4,
          4464864,
          21855456,
          7448544,
          15973344,
          29983320,
          6527972.16,
          5814659.519999999,
          6063264,
          3388608,
          3996000,
          7448544,
          20331541.44,
          27599039.999999996,
          10368288,
          2866464,
          18637344,
          7128864,
          20001312,
          7341984,
          8727264,
          4251744,
          4571424,
          6622171.2,
          4795200,
          8471520,
          10645344,
          19766880,
          12691296,
          6979786.559999999,
          13309344,
          11604384,
          7736256,
          3175488,
          15202488.960000003,
          9132937.92,
          12563424,
          3175488,
          2823840,
          12787200,
          17972835.84,
          8914809.6,
          15973344,
          38994566.4,
          14369402.88,
          5220374.399999999,
          7661664,
          6915744,
          6281925.12,
          5210784,
          20619360,
          6915744,
          6926400,
          5956704,
          10229760,
          8301024.000000001,
          25776864,
          7022303.999999999,
          22318778.880000003,
          4377484.8,
          12861792,
          7086239.999999999,
          16356960,
          10645344,
          35154144,
          3516479.9999999995,
          17571744,
          5743584,
          12006221.76,
          46769184,
          5061600,
          20246400,
          6169824,
          11678976,
          9056534.4,
          12776544,
          11710944,
          16634016,
          30571957.439999998,
          6382944,
          11167488,
          19809504,
          16612704,
          12030624,
          9046944,
          6979680,
          5011943.039999999,
          11710944,
          17038944,
          3175488,
          12587613.120000001,
          19170144,
          10869120,
          11710944,
          13256063.999999998,
          8940384,
          25254720,
          6777216,
          30891744,
          6200726.4,
          38242252.8,
          25041600,
          18797184,
          3505824,
          24498144,
          20150496,
          11604384,
          10645344,
          24498144,
          10496160,
          14268384,
          2162102.4,
          20992320,
          10219104,
          12414240,
          24828480,
          3186144,
          8631360,
          14374944,
          7874784,
          22003574.400000002,
          11710944,
          15973344,
          18637344,
          7928064,
          14801184,
          8311680,
          6702623.999999999,
          17891424,
          6489504,
          18637344,
          25734240,
          15973344,
          10240416,
          8416215.360000001,
          19809504,
          19170144,
          4102560,
          26693493.119999997,
          8045280,
          5220374.399999999,
          11615040,
          26629344,
          12776544,
          19980000,
          5317344,
          14470847.999999998,
          6233760,
          3782880.0000000005,
          6596064,
          58597343.99999999,
          22366944,
          5530464,
          12638016,
          17582400,
          29566457.279999997,
          25776864,
          7128864,
          3463200,
          6287040,
          19170144,
          32744715.839999996,
          9696960,
          7608277.4399999995,
          19926720,
          7874784,
          6553440,
          10933056,
          24263712,
          15643007.999999998,
          3186144,
          20235744,
          9217440,
          20278368,
          8386272,
          10069920,
          4784544,
          27268703.999999996,
          6915744,
          4997664,
          9064632.959999999,
          14374944,
          13692960,
          10837152,
          23869440,
          9696960,
          11668320,
          20779200,
          9611712,
          18946368,
          11242080,
          5104224,
          14790528,
          7832160.000000001,
          19702944,
          18008640,
          4251637.44,
          9963360,
          9723600,
          8940384,
          18115200,
          7297228.799999999,
          3708287.9999999995,
          7128864,
          3932064,
          19170144,
          4855939.2,
          14597654.399999999,
          3164832,
          4038624,
          13479840,
          14907744,
          18104544,
          19170144,
          28227744,
          15717600,
          9899424,
          9590400,
          6542784,
          9963360,
          21451593.599999998,
          13629024,
          17571744,
          21834144,
          20917621.44,
          22366944,
          15802847.999999998,
          3825504,
          8407584,
          20235744,
          12840480,
          33033600,
          8407584,
          10858357.439999998,
          5317344,
          9387936,
          10229760,
          17038944,
          14374944,
          11933760.96,
          7299253.44,
          13820725.439999998,
          12243744,
          21045600,
          19447200,
          7777814.4,
          17582400,
          12414240,
          7545087.36,
          12243744,
          3292704,
          16825824,
          3078518.4,
          19170144,
          11774880,
          17784864,
          5952441.6,
          12776544,
          17465184,
          29389248,
          14907744,
          5647680,
          6596064,
          11924064,
          13842144,
          10645344,
          15687763.200000001,
          7299360.000000001,
          7022303.999999999,
          3718944,
          23965344,
          18914400,
          15557760,
          12350304,
          15866677.44,
          33609024,
          20235744,
          8258400,
          13511807.999999998,
          4145183.9999999995,
          16356960,
          18754560,
          10751904,
          19074240,
          9020304,
          4961646.72,
          8791200,
          7299360.000000001,
          33555744,
          7405920,
          20235744,
          20917514.879999995,
          29836800,
          12574080,
          21843734.400000002,
          10432224,
          10677312,
          19170144,
          6169824,
          18637344,
          13842144,
          12733920,
          5850144,
          6915744,
          9750240,
          6382944,
          8588736,
          12669984,
          7981344,
          11924064,
          20331648,
          5317344,
          2883726.7199999997,
          14374944,
          9473184,
          12254400,
          14374944,
          4049280.0000000005,
          19170144,
          22260384,
          13426560,
          12669984,
          5828832,
          8301024.000000001,
          12733920,
          11721493.439999998,
          12840480,
          15440544,
          11180914.56,
          7288703.999999999,
          10112544,
          16399584,
          16943040,
          20110109.76,
          8524800,
          12893760,
          8205013.4399999995,
          31627008,
          15877440,
          23752224,
          8482069.44,
          16943040,
          12243744,
          12631942.08,
          11150864.64,
          16612704,
          12669984,
          11295360,
          17305344,
          11508480,
          10368288,
          4358304,
          12699820.799999999,
          12733920,
          13096117.44,
          14374944,
          7906752,
          18381600,
          11326795.200000001,
          10767994.56,
          9025632,
          2246284.8000000003,
          15184800,
          11184537.6,
          10656000,
          22413191.04,
          15653663.999999998,
          16470339.84,
          24402133.439999998,
          3067862.3999999994,
          27918720,
          10432224,
          11657664,
          10432224,
          24018624,
          7514078.4,
          5317344,
          4784544,
          13842144,
          19383264,
          11401920,
          10634688,
          5956704,
          10549333.440000001,
          20555424,
          15536447.999999998,
          42357600,
          8503594.56,
          14161824,
          13852800,
          5135978.88,
          12776544,
          12776544,
          11615040,
          18258949.44,
          7022303.999999999,
          10410912,
          26629344,
          5754240,
          10016640,
          14907744,
          34525440,
          6886653.12,
          21834144,
          7992000,
          10986229.439999998,
          15930719.999999998,
          12776544,
          6553440,
          4123872,
          4193029.44,
          3686869.44,
          17038944,
          8720337.6,
          17038944,
          8514144,
          6807052.800000001,
          17038944,
          5328000,
          24498144,
          12096158.4,
          12435232.32,
          2227104,
          30891744,
          12776544,
          15057993.599999998,
          16103240.639999997,
          9238752,
          4241088,
          14268384,
          18104544,
          8196062.399999999,
          4571424,
          20981664,
          5850144,
          14694624,
          29303893.439999998,
          10965024,
          23720256,
          13985893.44,
          2088575.9999999998,
          18008640,
          16122528,
          5579801.279999999,
          4635360,
          17784864,
          5104224,
          20193120,
          10538784,
          12030624,
          6702623.999999999,
          21848849.28,
          2962368,
          8013312,
          6564096.000000001,
          11710944,
          42084806.4,
          8354303.999999999,
          25563744,
          23141848.32,
          26000640,
          12177676.799999999,
          17358624,
          23752224,
          19170144,
          20235744,
          24476299.199999996,
          10761494.4,
          16825824,
          24924384,
          3612383.9999999995,
          3164832,
          6382944,
          12776544,
          23983246.08,
          5103051.84,
          15907276.799999999,
          24498144,
          8402149.44,
          21748896,
          15973344,
          18850464,
          9579744,
          4891104,
          5082805.44,
          15962688,
          14811840,
          4987008,
          2653344,
          8940384,
          7235424.000000001,
          12350304,
          3932064,
          4241088,
          7555103.999999999,
          8194464,
          8791200,
          13906079.999999998,
          22946310.72,
          6926400,
          17443872,
          8855136,
          9537226.56,
          3548447.9999999995,
          8514144,
          9686304,
          12563424,
          7363296.000000001,
          11710944,
          27694944,
          8727264,
          7022303.999999999,
          5168160,
          12392928,
          12776544,
          14140512,
          3921408,
          22910400,
          2898432,
          21833078.400000002,
          5317344,
          6702623.999999999,
          13692960,
          28558080,
          12456864,
          9473184,
          6169824,
          3186144,
          6702623.999999999,
          26096544,
          13629024,
          18637344,
          20768437.44,
          10645344,
          20768544,
          1854143.9999999998,
          6372288,
          5743584,
          13554432,
          12243744,
          16293024,
          15729428.159999998,
          5637024,
          18257670.72,
          5423904,
          3292704,
          15738912,
          5560940.16,
          10965024,
          12243744,
          17582400,
          37285344,
          4997770.5600000005,
          17028288,
          10219104,
          5093568,
          23423912.64,
          7853472,
          12456864,
          15973344,
          6367705.92,
          13639679.999999998,
          3855340.8000000003,
          19170144,
          11721493.439999998,
          17049600,
          9324000,
          24775200,
          6105888,
          19319328,
          3452544,
          4251744,
          6063264,
          11423232,
          4731157.4399999995,
          3612383.9999999995,
          20246400,
          5221440,
          9537120,
          13096224,
          8876554.56,
          7768224.000000001,
          4891104,
          3079584,
          4038624,
          9579744,
          5860693.4399999995,
          8588629.44,
          2227104,
          7675729.919999999,
          6798528,
          15973344,
          2440224,
          8141184
         ],
         "yaxis": "y"
        },
        {
         "hovertemplate": "<b>OLS trendline</b><br>Price = 1.08391e+06 * RamGB + 2.94777e+06<br>R<sup>2</sup>=0.547758<br><br>RamGB=%{x}<br>Price=%{y} <b>(trend)</b><extra></extra>",
         "legendgroup": "",
         "marker": {
          "color": "#636efa",
          "symbol": "circle"
         },
         "mode": "lines",
         "name": "",
         "showlegend": false,
         "type": "scattergl",
         "x": [
          2,
          2,
          2,
          2,
          2,
          2,
          2,
          2,
          2,
          2,
          2,
          2,
          2,
          2,
          2,
          2,
          4,
          4,
          4,
          4,
          4,
          4,
          4,
          4,
          4,
          4,
          4,
          4,
          4,
          4,
          4,
          4,
          4,
          4,
          4,
          4,
          4,
          4,
          4,
          4,
          4,
          4,
          4,
          4,
          4,
          4,
          4,
          4,
          4,
          4,
          4,
          4,
          4,
          4,
          4,
          4,
          4,
          4,
          4,
          4,
          4,
          4,
          4,
          4,
          4,
          4,
          4,
          4,
          4,
          4,
          4,
          4,
          4,
          4,
          4,
          4,
          4,
          4,
          4,
          4,
          4,
          4,
          4,
          4,
          4,
          4,
          4,
          4,
          4,
          4,
          4,
          4,
          4,
          4,
          4,
          4,
          4,
          4,
          4,
          4,
          4,
          4,
          4,
          4,
          4,
          4,
          4,
          4,
          4,
          4,
          4,
          4,
          4,
          4,
          4,
          4,
          4,
          4,
          4,
          4,
          4,
          4,
          4,
          4,
          4,
          4,
          4,
          4,
          4,
          4,
          4,
          4,
          4,
          4,
          4,
          4,
          4,
          4,
          4,
          4,
          4,
          4,
          4,
          4,
          4,
          4,
          4,
          4,
          4,
          4,
          4,
          4,
          4,
          4,
          4,
          4,
          4,
          4,
          4,
          4,
          4,
          4,
          4,
          4,
          4,
          4,
          4,
          4,
          4,
          4,
          4,
          4,
          4,
          4,
          4,
          4,
          4,
          4,
          4,
          4,
          4,
          4,
          4,
          4,
          4,
          4,
          4,
          4,
          4,
          4,
          4,
          4,
          4,
          4,
          4,
          4,
          4,
          4,
          4,
          4,
          4,
          4,
          4,
          4,
          4,
          4,
          4,
          4,
          4,
          4,
          4,
          4,
          4,
          4,
          4,
          4,
          4,
          4,
          4,
          4,
          4,
          4,
          4,
          4,
          4,
          4,
          4,
          4,
          4,
          4,
          4,
          4,
          4,
          4,
          4,
          4,
          4,
          4,
          4,
          4,
          4,
          4,
          4,
          4,
          4,
          4,
          4,
          4,
          4,
          4,
          4,
          4,
          4,
          4,
          4,
          4,
          4,
          4,
          4,
          4,
          4,
          4,
          4,
          4,
          4,
          4,
          4,
          4,
          4,
          4,
          4,
          4,
          4,
          4,
          4,
          4,
          4,
          4,
          4,
          4,
          4,
          4,
          4,
          4,
          4,
          4,
          4,
          4,
          4,
          4,
          4,
          4,
          4,
          4,
          4,
          4,
          4,
          4,
          4,
          4,
          4,
          4,
          4,
          4,
          4,
          4,
          4,
          4,
          4,
          4,
          4,
          4,
          4,
          4,
          4,
          4,
          4,
          4,
          4,
          4,
          4,
          4,
          4,
          4,
          4,
          4,
          4,
          4,
          4,
          4,
          4,
          4,
          4,
          4,
          4,
          4,
          4,
          4,
          4,
          4,
          4,
          4,
          4,
          4,
          4,
          4,
          4,
          4,
          4,
          4,
          4,
          4,
          4,
          4,
          4,
          4,
          4,
          4,
          4,
          4,
          4,
          4,
          4,
          4,
          4,
          4,
          4,
          4,
          4,
          4,
          4,
          4,
          4,
          4,
          4,
          4,
          4,
          4,
          4,
          4,
          4,
          4,
          6,
          6,
          6,
          6,
          6,
          6,
          6,
          6,
          6,
          6,
          6,
          6,
          6,
          6,
          6,
          6,
          6,
          6,
          6,
          6,
          6,
          6,
          6,
          6,
          6,
          6,
          6,
          6,
          6,
          6,
          6,
          6,
          6,
          6,
          6,
          8,
          8,
          8,
          8,
          8,
          8,
          8,
          8,
          8,
          8,
          8,
          8,
          8,
          8,
          8,
          8,
          8,
          8,
          8,
          8,
          8,
          8,
          8,
          8,
          8,
          8,
          8,
          8,
          8,
          8,
          8,
          8,
          8,
          8,
          8,
          8,
          8,
          8,
          8,
          8,
          8,
          8,
          8,
          8,
          8,
          8,
          8,
          8,
          8,
          8,
          8,
          8,
          8,
          8,
          8,
          8,
          8,
          8,
          8,
          8,
          8,
          8,
          8,
          8,
          8,
          8,
          8,
          8,
          8,
          8,
          8,
          8,
          8,
          8,
          8,
          8,
          8,
          8,
          8,
          8,
          8,
          8,
          8,
          8,
          8,
          8,
          8,
          8,
          8,
          8,
          8,
          8,
          8,
          8,
          8,
          8,
          8,
          8,
          8,
          8,
          8,
          8,
          8,
          8,
          8,
          8,
          8,
          8,
          8,
          8,
          8,
          8,
          8,
          8,
          8,
          8,
          8,
          8,
          8,
          8,
          8,
          8,
          8,
          8,
          8,
          8,
          8,
          8,
          8,
          8,
          8,
          8,
          8,
          8,
          8,
          8,
          8,
          8,
          8,
          8,
          8,
          8,
          8,
          8,
          8,
          8,
          8,
          8,
          8,
          8,
          8,
          8,
          8,
          8,
          8,
          8,
          8,
          8,
          8,
          8,
          8,
          8,
          8,
          8,
          8,
          8,
          8,
          8,
          8,
          8,
          8,
          8,
          8,
          8,
          8,
          8,
          8,
          8,
          8,
          8,
          8,
          8,
          8,
          8,
          8,
          8,
          8,
          8,
          8,
          8,
          8,
          8,
          8,
          8,
          8,
          8,
          8,
          8,
          8,
          8,
          8,
          8,
          8,
          8,
          8,
          8,
          8,
          8,
          8,
          8,
          8,
          8,
          8,
          8,
          8,
          8,
          8,
          8,
          8,
          8,
          8,
          8,
          8,
          8,
          8,
          8,
          8,
          8,
          8,
          8,
          8,
          8,
          8,
          8,
          8,
          8,
          8,
          8,
          8,
          8,
          8,
          8,
          8,
          8,
          8,
          8,
          8,
          8,
          8,
          8,
          8,
          8,
          8,
          8,
          8,
          8,
          8,
          8,
          8,
          8,
          8,
          8,
          8,
          8,
          8,
          8,
          8,
          8,
          8,
          8,
          8,
          8,
          8,
          8,
          8,
          8,
          8,
          8,
          8,
          8,
          8,
          8,
          8,
          8,
          8,
          8,
          8,
          8,
          8,
          8,
          8,
          8,
          8,
          8,
          8,
          8,
          8,
          8,
          8,
          8,
          8,
          8,
          8,
          8,
          8,
          8,
          8,
          8,
          8,
          8,
          8,
          8,
          8,
          8,
          8,
          8,
          8,
          8,
          8,
          8,
          8,
          8,
          8,
          8,
          8,
          8,
          8,
          8,
          8,
          8,
          8,
          8,
          8,
          8,
          8,
          8,
          8,
          8,
          8,
          8,
          8,
          8,
          8,
          8,
          8,
          8,
          8,
          8,
          8,
          8,
          8,
          8,
          8,
          8,
          8,
          8,
          8,
          8,
          8,
          8,
          8,
          8,
          8,
          8,
          8,
          8,
          8,
          8,
          8,
          8,
          8,
          8,
          8,
          8,
          8,
          8,
          8,
          8,
          8,
          8,
          8,
          8,
          8,
          8,
          8,
          8,
          8,
          8,
          8,
          8,
          8,
          8,
          8,
          8,
          8,
          8,
          8,
          8,
          8,
          8,
          8,
          8,
          8,
          8,
          8,
          8,
          8,
          8,
          8,
          8,
          8,
          8,
          8,
          8,
          8,
          8,
          8,
          8,
          8,
          8,
          8,
          8,
          8,
          8,
          8,
          8,
          8,
          8,
          8,
          8,
          8,
          8,
          8,
          8,
          8,
          8,
          8,
          8,
          8,
          8,
          8,
          8,
          8,
          8,
          8,
          8,
          8,
          8,
          8,
          8,
          8,
          8,
          8,
          8,
          8,
          8,
          8,
          8,
          8,
          8,
          8,
          8,
          8,
          8,
          8,
          8,
          8,
          8,
          8,
          8,
          8,
          8,
          8,
          8,
          8,
          8,
          8,
          8,
          8,
          8,
          8,
          8,
          8,
          8,
          8,
          8,
          8,
          8,
          8,
          8,
          8,
          8,
          8,
          8,
          8,
          8,
          8,
          8,
          8,
          8,
          8,
          8,
          8,
          8,
          8,
          8,
          8,
          8,
          8,
          8,
          8,
          8,
          8,
          8,
          8,
          8,
          8,
          8,
          8,
          8,
          8,
          8,
          8,
          8,
          8,
          8,
          8,
          8,
          8,
          8,
          8,
          8,
          8,
          8,
          8,
          8,
          8,
          8,
          8,
          8,
          8,
          8,
          8,
          8,
          8,
          8,
          8,
          8,
          8,
          8,
          8,
          8,
          8,
          8,
          8,
          8,
          8,
          8,
          8,
          8,
          8,
          8,
          8,
          8,
          8,
          8,
          8,
          8,
          8,
          8,
          8,
          8,
          8,
          8,
          8,
          8,
          8,
          8,
          8,
          8,
          8,
          8,
          8,
          8,
          8,
          8,
          8,
          8,
          8,
          8,
          8,
          8,
          8,
          8,
          8,
          8,
          8,
          8,
          8,
          8,
          8,
          8,
          8,
          8,
          8,
          8,
          8,
          8,
          8,
          8,
          8,
          8,
          8,
          12,
          12,
          12,
          12,
          12,
          12,
          12,
          12,
          12,
          12,
          12,
          12,
          12,
          12,
          12,
          12,
          12,
          12,
          12,
          12,
          12,
          12,
          12,
          12,
          12,
          16,
          16,
          16,
          16,
          16,
          16,
          16,
          16,
          16,
          16,
          16,
          16,
          16,
          16,
          16,
          16,
          16,
          16,
          16,
          16,
          16,
          16,
          16,
          16,
          16,
          16,
          16,
          16,
          16,
          16,
          16,
          16,
          16,
          16,
          16,
          16,
          16,
          16,
          16,
          16,
          16,
          16,
          16,
          16,
          16,
          16,
          16,
          16,
          16,
          16,
          16,
          16,
          16,
          16,
          16,
          16,
          16,
          16,
          16,
          16,
          16,
          16,
          16,
          16,
          16,
          16,
          16,
          16,
          16,
          16,
          16,
          16,
          16,
          16,
          16,
          16,
          16,
          16,
          16,
          16,
          16,
          16,
          16,
          16,
          16,
          16,
          16,
          16,
          16,
          16,
          16,
          16,
          16,
          16,
          16,
          16,
          16,
          16,
          16,
          16,
          16,
          16,
          16,
          16,
          16,
          16,
          16,
          16,
          16,
          16,
          16,
          16,
          16,
          16,
          16,
          16,
          16,
          16,
          16,
          16,
          16,
          16,
          16,
          16,
          16,
          16,
          16,
          16,
          16,
          16,
          16,
          16,
          16,
          16,
          16,
          16,
          16,
          16,
          16,
          16,
          16,
          16,
          16,
          16,
          16,
          16,
          16,
          16,
          16,
          16,
          16,
          16,
          16,
          16,
          16,
          16,
          16,
          16,
          16,
          16,
          16,
          16,
          16,
          16,
          16,
          16,
          16,
          16,
          16,
          16,
          16,
          16,
          16,
          16,
          16,
          16,
          16,
          16,
          16,
          16,
          16,
          16,
          16,
          16,
          16,
          16,
          16,
          16,
          16,
          16,
          16,
          16,
          16,
          16,
          16,
          16,
          16,
          16,
          24,
          24,
          24,
          32,
          32,
          32,
          32,
          32,
          32,
          32,
          32,
          32,
          32,
          32,
          32,
          32,
          32,
          32,
          32,
          32,
          64
         ],
         "xaxis": "x",
         "y": [
          5115598.851414666,
          5115598.851414666,
          5115598.851414666,
          5115598.851414666,
          5115598.851414666,
          5115598.851414666,
          5115598.851414666,
          5115598.851414666,
          5115598.851414666,
          5115598.851414666,
          5115598.851414666,
          5115598.851414666,
          5115598.851414666,
          5115598.851414666,
          5115598.851414666,
          5115598.851414666,
          7283427.9915115405,
          7283427.9915115405,
          7283427.9915115405,
          7283427.9915115405,
          7283427.9915115405,
          7283427.9915115405,
          7283427.9915115405,
          7283427.9915115405,
          7283427.9915115405,
          7283427.9915115405,
          7283427.9915115405,
          7283427.9915115405,
          7283427.9915115405,
          7283427.9915115405,
          7283427.9915115405,
          7283427.9915115405,
          7283427.9915115405,
          7283427.9915115405,
          7283427.9915115405,
          7283427.9915115405,
          7283427.9915115405,
          7283427.9915115405,
          7283427.9915115405,
          7283427.9915115405,
          7283427.9915115405,
          7283427.9915115405,
          7283427.9915115405,
          7283427.9915115405,
          7283427.9915115405,
          7283427.9915115405,
          7283427.9915115405,
          7283427.9915115405,
          7283427.9915115405,
          7283427.9915115405,
          7283427.9915115405,
          7283427.9915115405,
          7283427.9915115405,
          7283427.9915115405,
          7283427.9915115405,
          7283427.9915115405,
          7283427.9915115405,
          7283427.9915115405,
          7283427.9915115405,
          7283427.9915115405,
          7283427.9915115405,
          7283427.9915115405,
          7283427.9915115405,
          7283427.9915115405,
          7283427.9915115405,
          7283427.9915115405,
          7283427.9915115405,
          7283427.9915115405,
          7283427.9915115405,
          7283427.9915115405,
          7283427.9915115405,
          7283427.9915115405,
          7283427.9915115405,
          7283427.9915115405,
          7283427.9915115405,
          7283427.9915115405,
          7283427.9915115405,
          7283427.9915115405,
          7283427.9915115405,
          7283427.9915115405,
          7283427.9915115405,
          7283427.9915115405,
          7283427.9915115405,
          7283427.9915115405,
          7283427.9915115405,
          7283427.9915115405,
          7283427.9915115405,
          7283427.9915115405,
          7283427.9915115405,
          7283427.9915115405,
          7283427.9915115405,
          7283427.9915115405,
          7283427.9915115405,
          7283427.9915115405,
          7283427.9915115405,
          7283427.9915115405,
          7283427.9915115405,
          7283427.9915115405,
          7283427.9915115405,
          7283427.9915115405,
          7283427.9915115405,
          7283427.9915115405,
          7283427.9915115405,
          7283427.9915115405,
          7283427.9915115405,
          7283427.9915115405,
          7283427.9915115405,
          7283427.9915115405,
          7283427.9915115405,
          7283427.9915115405,
          7283427.9915115405,
          7283427.9915115405,
          7283427.9915115405,
          7283427.9915115405,
          7283427.9915115405,
          7283427.9915115405,
          7283427.9915115405,
          7283427.9915115405,
          7283427.9915115405,
          7283427.9915115405,
          7283427.9915115405,
          7283427.9915115405,
          7283427.9915115405,
          7283427.9915115405,
          7283427.9915115405,
          7283427.9915115405,
          7283427.9915115405,
          7283427.9915115405,
          7283427.9915115405,
          7283427.9915115405,
          7283427.9915115405,
          7283427.9915115405,
          7283427.9915115405,
          7283427.9915115405,
          7283427.9915115405,
          7283427.9915115405,
          7283427.9915115405,
          7283427.9915115405,
          7283427.9915115405,
          7283427.9915115405,
          7283427.9915115405,
          7283427.9915115405,
          7283427.9915115405,
          7283427.9915115405,
          7283427.9915115405,
          7283427.9915115405,
          7283427.9915115405,
          7283427.9915115405,
          7283427.9915115405,
          7283427.9915115405,
          7283427.9915115405,
          7283427.9915115405,
          7283427.9915115405,
          7283427.9915115405,
          7283427.9915115405,
          7283427.9915115405,
          7283427.9915115405,
          7283427.9915115405,
          7283427.9915115405,
          7283427.9915115405,
          7283427.9915115405,
          7283427.9915115405,
          7283427.9915115405,
          7283427.9915115405,
          7283427.9915115405,
          7283427.9915115405,
          7283427.9915115405,
          7283427.9915115405,
          7283427.9915115405,
          7283427.9915115405,
          7283427.9915115405,
          7283427.9915115405,
          7283427.9915115405,
          7283427.9915115405,
          7283427.9915115405,
          7283427.9915115405,
          7283427.9915115405,
          7283427.9915115405,
          7283427.9915115405,
          7283427.9915115405,
          7283427.9915115405,
          7283427.9915115405,
          7283427.9915115405,
          7283427.9915115405,
          7283427.9915115405,
          7283427.9915115405,
          7283427.9915115405,
          7283427.9915115405,
          7283427.9915115405,
          7283427.9915115405,
          7283427.9915115405,
          7283427.9915115405,
          7283427.9915115405,
          7283427.9915115405,
          7283427.9915115405,
          7283427.9915115405,
          7283427.9915115405,
          7283427.9915115405,
          7283427.9915115405,
          7283427.9915115405,
          7283427.9915115405,
          7283427.9915115405,
          7283427.9915115405,
          7283427.9915115405,
          7283427.9915115405,
          7283427.9915115405,
          7283427.9915115405,
          7283427.9915115405,
          7283427.9915115405,
          7283427.9915115405,
          7283427.9915115405,
          7283427.9915115405,
          7283427.9915115405,
          7283427.9915115405,
          7283427.9915115405,
          7283427.9915115405,
          7283427.9915115405,
          7283427.9915115405,
          7283427.9915115405,
          7283427.9915115405,
          7283427.9915115405,
          7283427.9915115405,
          7283427.9915115405,
          7283427.9915115405,
          7283427.9915115405,
          7283427.9915115405,
          7283427.9915115405,
          7283427.9915115405,
          7283427.9915115405,
          7283427.9915115405,
          7283427.9915115405,
          7283427.9915115405,
          7283427.9915115405,
          7283427.9915115405,
          7283427.9915115405,
          7283427.9915115405,
          7283427.9915115405,
          7283427.9915115405,
          7283427.9915115405,
          7283427.9915115405,
          7283427.9915115405,
          7283427.9915115405,
          7283427.9915115405,
          7283427.9915115405,
          7283427.9915115405,
          7283427.9915115405,
          7283427.9915115405,
          7283427.9915115405,
          7283427.9915115405,
          7283427.9915115405,
          7283427.9915115405,
          7283427.9915115405,
          7283427.9915115405,
          7283427.9915115405,
          7283427.9915115405,
          7283427.9915115405,
          7283427.9915115405,
          7283427.9915115405,
          7283427.9915115405,
          7283427.9915115405,
          7283427.9915115405,
          7283427.9915115405,
          7283427.9915115405,
          7283427.9915115405,
          7283427.9915115405,
          7283427.9915115405,
          7283427.9915115405,
          7283427.9915115405,
          7283427.9915115405,
          7283427.9915115405,
          7283427.9915115405,
          7283427.9915115405,
          7283427.9915115405,
          7283427.9915115405,
          7283427.9915115405,
          7283427.9915115405,
          7283427.9915115405,
          7283427.9915115405,
          7283427.9915115405,
          7283427.9915115405,
          7283427.9915115405,
          7283427.9915115405,
          7283427.9915115405,
          7283427.9915115405,
          7283427.9915115405,
          7283427.9915115405,
          7283427.9915115405,
          7283427.9915115405,
          7283427.9915115405,
          7283427.9915115405,
          7283427.9915115405,
          7283427.9915115405,
          7283427.9915115405,
          7283427.9915115405,
          7283427.9915115405,
          7283427.9915115405,
          7283427.9915115405,
          7283427.9915115405,
          7283427.9915115405,
          7283427.9915115405,
          7283427.9915115405,
          7283427.9915115405,
          7283427.9915115405,
          7283427.9915115405,
          7283427.9915115405,
          7283427.9915115405,
          7283427.9915115405,
          7283427.9915115405,
          7283427.9915115405,
          7283427.9915115405,
          7283427.9915115405,
          7283427.9915115405,
          7283427.9915115405,
          7283427.9915115405,
          7283427.9915115405,
          7283427.9915115405,
          7283427.9915115405,
          7283427.9915115405,
          7283427.9915115405,
          7283427.9915115405,
          7283427.9915115405,
          7283427.9915115405,
          7283427.9915115405,
          7283427.9915115405,
          7283427.9915115405,
          7283427.9915115405,
          7283427.9915115405,
          7283427.9915115405,
          7283427.9915115405,
          7283427.9915115405,
          7283427.9915115405,
          7283427.9915115405,
          7283427.9915115405,
          7283427.9915115405,
          7283427.9915115405,
          7283427.9915115405,
          7283427.9915115405,
          7283427.9915115405,
          7283427.9915115405,
          7283427.9915115405,
          7283427.9915115405,
          7283427.9915115405,
          7283427.9915115405,
          7283427.9915115405,
          7283427.9915115405,
          7283427.9915115405,
          7283427.9915115405,
          7283427.9915115405,
          7283427.9915115405,
          7283427.9915115405,
          7283427.9915115405,
          7283427.9915115405,
          7283427.9915115405,
          7283427.9915115405,
          7283427.9915115405,
          7283427.9915115405,
          7283427.9915115405,
          7283427.9915115405,
          7283427.9915115405,
          7283427.9915115405,
          7283427.9915115405,
          7283427.9915115405,
          7283427.9915115405,
          7283427.9915115405,
          7283427.9915115405,
          7283427.9915115405,
          7283427.9915115405,
          7283427.9915115405,
          7283427.9915115405,
          7283427.9915115405,
          7283427.9915115405,
          7283427.9915115405,
          7283427.9915115405,
          7283427.9915115405,
          7283427.9915115405,
          7283427.9915115405,
          7283427.9915115405,
          7283427.9915115405,
          7283427.9915115405,
          7283427.9915115405,
          7283427.9915115405,
          7283427.9915115405,
          9451257.131608414,
          9451257.131608414,
          9451257.131608414,
          9451257.131608414,
          9451257.131608414,
          9451257.131608414,
          9451257.131608414,
          9451257.131608414,
          9451257.131608414,
          9451257.131608414,
          9451257.131608414,
          9451257.131608414,
          9451257.131608414,
          9451257.131608414,
          9451257.131608414,
          9451257.131608414,
          9451257.131608414,
          9451257.131608414,
          9451257.131608414,
          9451257.131608414,
          9451257.131608414,
          9451257.131608414,
          9451257.131608414,
          9451257.131608414,
          9451257.131608414,
          9451257.131608414,
          9451257.131608414,
          9451257.131608414,
          9451257.131608414,
          9451257.131608414,
          9451257.131608414,
          9451257.131608414,
          9451257.131608414,
          9451257.131608414,
          9451257.131608414,
          11619086.271705288,
          11619086.271705288,
          11619086.271705288,
          11619086.271705288,
          11619086.271705288,
          11619086.271705288,
          11619086.271705288,
          11619086.271705288,
          11619086.271705288,
          11619086.271705288,
          11619086.271705288,
          11619086.271705288,
          11619086.271705288,
          11619086.271705288,
          11619086.271705288,
          11619086.271705288,
          11619086.271705288,
          11619086.271705288,
          11619086.271705288,
          11619086.271705288,
          11619086.271705288,
          11619086.271705288,
          11619086.271705288,
          11619086.271705288,
          11619086.271705288,
          11619086.271705288,
          11619086.271705288,
          11619086.271705288,
          11619086.271705288,
          11619086.271705288,
          11619086.271705288,
          11619086.271705288,
          11619086.271705288,
          11619086.271705288,
          11619086.271705288,
          11619086.271705288,
          11619086.271705288,
          11619086.271705288,
          11619086.271705288,
          11619086.271705288,
          11619086.271705288,
          11619086.271705288,
          11619086.271705288,
          11619086.271705288,
          11619086.271705288,
          11619086.271705288,
          11619086.271705288,
          11619086.271705288,
          11619086.271705288,
          11619086.271705288,
          11619086.271705288,
          11619086.271705288,
          11619086.271705288,
          11619086.271705288,
          11619086.271705288,
          11619086.271705288,
          11619086.271705288,
          11619086.271705288,
          11619086.271705288,
          11619086.271705288,
          11619086.271705288,
          11619086.271705288,
          11619086.271705288,
          11619086.271705288,
          11619086.271705288,
          11619086.271705288,
          11619086.271705288,
          11619086.271705288,
          11619086.271705288,
          11619086.271705288,
          11619086.271705288,
          11619086.271705288,
          11619086.271705288,
          11619086.271705288,
          11619086.271705288,
          11619086.271705288,
          11619086.271705288,
          11619086.271705288,
          11619086.271705288,
          11619086.271705288,
          11619086.271705288,
          11619086.271705288,
          11619086.271705288,
          11619086.271705288,
          11619086.271705288,
          11619086.271705288,
          11619086.271705288,
          11619086.271705288,
          11619086.271705288,
          11619086.271705288,
          11619086.271705288,
          11619086.271705288,
          11619086.271705288,
          11619086.271705288,
          11619086.271705288,
          11619086.271705288,
          11619086.271705288,
          11619086.271705288,
          11619086.271705288,
          11619086.271705288,
          11619086.271705288,
          11619086.271705288,
          11619086.271705288,
          11619086.271705288,
          11619086.271705288,
          11619086.271705288,
          11619086.271705288,
          11619086.271705288,
          11619086.271705288,
          11619086.271705288,
          11619086.271705288,
          11619086.271705288,
          11619086.271705288,
          11619086.271705288,
          11619086.271705288,
          11619086.271705288,
          11619086.271705288,
          11619086.271705288,
          11619086.271705288,
          11619086.271705288,
          11619086.271705288,
          11619086.271705288,
          11619086.271705288,
          11619086.271705288,
          11619086.271705288,
          11619086.271705288,
          11619086.271705288,
          11619086.271705288,
          11619086.271705288,
          11619086.271705288,
          11619086.271705288,
          11619086.271705288,
          11619086.271705288,
          11619086.271705288,
          11619086.271705288,
          11619086.271705288,
          11619086.271705288,
          11619086.271705288,
          11619086.271705288,
          11619086.271705288,
          11619086.271705288,
          11619086.271705288,
          11619086.271705288,
          11619086.271705288,
          11619086.271705288,
          11619086.271705288,
          11619086.271705288,
          11619086.271705288,
          11619086.271705288,
          11619086.271705288,
          11619086.271705288,
          11619086.271705288,
          11619086.271705288,
          11619086.271705288,
          11619086.271705288,
          11619086.271705288,
          11619086.271705288,
          11619086.271705288,
          11619086.271705288,
          11619086.271705288,
          11619086.271705288,
          11619086.271705288,
          11619086.271705288,
          11619086.271705288,
          11619086.271705288,
          11619086.271705288,
          11619086.271705288,
          11619086.271705288,
          11619086.271705288,
          11619086.271705288,
          11619086.271705288,
          11619086.271705288,
          11619086.271705288,
          11619086.271705288,
          11619086.271705288,
          11619086.271705288,
          11619086.271705288,
          11619086.271705288,
          11619086.271705288,
          11619086.271705288,
          11619086.271705288,
          11619086.271705288,
          11619086.271705288,
          11619086.271705288,
          11619086.271705288,
          11619086.271705288,
          11619086.271705288,
          11619086.271705288,
          11619086.271705288,
          11619086.271705288,
          11619086.271705288,
          11619086.271705288,
          11619086.271705288,
          11619086.271705288,
          11619086.271705288,
          11619086.271705288,
          11619086.271705288,
          11619086.271705288,
          11619086.271705288,
          11619086.271705288,
          11619086.271705288,
          11619086.271705288,
          11619086.271705288,
          11619086.271705288,
          11619086.271705288,
          11619086.271705288,
          11619086.271705288,
          11619086.271705288,
          11619086.271705288,
          11619086.271705288,
          11619086.271705288,
          11619086.271705288,
          11619086.271705288,
          11619086.271705288,
          11619086.271705288,
          11619086.271705288,
          11619086.271705288,
          11619086.271705288,
          11619086.271705288,
          11619086.271705288,
          11619086.271705288,
          11619086.271705288,
          11619086.271705288,
          11619086.271705288,
          11619086.271705288,
          11619086.271705288,
          11619086.271705288,
          11619086.271705288,
          11619086.271705288,
          11619086.271705288,
          11619086.271705288,
          11619086.271705288,
          11619086.271705288,
          11619086.271705288,
          11619086.271705288,
          11619086.271705288,
          11619086.271705288,
          11619086.271705288,
          11619086.271705288,
          11619086.271705288,
          11619086.271705288,
          11619086.271705288,
          11619086.271705288,
          11619086.271705288,
          11619086.271705288,
          11619086.271705288,
          11619086.271705288,
          11619086.271705288,
          11619086.271705288,
          11619086.271705288,
          11619086.271705288,
          11619086.271705288,
          11619086.271705288,
          11619086.271705288,
          11619086.271705288,
          11619086.271705288,
          11619086.271705288,
          11619086.271705288,
          11619086.271705288,
          11619086.271705288,
          11619086.271705288,
          11619086.271705288,
          11619086.271705288,
          11619086.271705288,
          11619086.271705288,
          11619086.271705288,
          11619086.271705288,
          11619086.271705288,
          11619086.271705288,
          11619086.271705288,
          11619086.271705288,
          11619086.271705288,
          11619086.271705288,
          11619086.271705288,
          11619086.271705288,
          11619086.271705288,
          11619086.271705288,
          11619086.271705288,
          11619086.271705288,
          11619086.271705288,
          11619086.271705288,
          11619086.271705288,
          11619086.271705288,
          11619086.271705288,
          11619086.271705288,
          11619086.271705288,
          11619086.271705288,
          11619086.271705288,
          11619086.271705288,
          11619086.271705288,
          11619086.271705288,
          11619086.271705288,
          11619086.271705288,
          11619086.271705288,
          11619086.271705288,
          11619086.271705288,
          11619086.271705288,
          11619086.271705288,
          11619086.271705288,
          11619086.271705288,
          11619086.271705288,
          11619086.271705288,
          11619086.271705288,
          11619086.271705288,
          11619086.271705288,
          11619086.271705288,
          11619086.271705288,
          11619086.271705288,
          11619086.271705288,
          11619086.271705288,
          11619086.271705288,
          11619086.271705288,
          11619086.271705288,
          11619086.271705288,
          11619086.271705288,
          11619086.271705288,
          11619086.271705288,
          11619086.271705288,
          11619086.271705288,
          11619086.271705288,
          11619086.271705288,
          11619086.271705288,
          11619086.271705288,
          11619086.271705288,
          11619086.271705288,
          11619086.271705288,
          11619086.271705288,
          11619086.271705288,
          11619086.271705288,
          11619086.271705288,
          11619086.271705288,
          11619086.271705288,
          11619086.271705288,
          11619086.271705288,
          11619086.271705288,
          11619086.271705288,
          11619086.271705288,
          11619086.271705288,
          11619086.271705288,
          11619086.271705288,
          11619086.271705288,
          11619086.271705288,
          11619086.271705288,
          11619086.271705288,
          11619086.271705288,
          11619086.271705288,
          11619086.271705288,
          11619086.271705288,
          11619086.271705288,
          11619086.271705288,
          11619086.271705288,
          11619086.271705288,
          11619086.271705288,
          11619086.271705288,
          11619086.271705288,
          11619086.271705288,
          11619086.271705288,
          11619086.271705288,
          11619086.271705288,
          11619086.271705288,
          11619086.271705288,
          11619086.271705288,
          11619086.271705288,
          11619086.271705288,
          11619086.271705288,
          11619086.271705288,
          11619086.271705288,
          11619086.271705288,
          11619086.271705288,
          11619086.271705288,
          11619086.271705288,
          11619086.271705288,
          11619086.271705288,
          11619086.271705288,
          11619086.271705288,
          11619086.271705288,
          11619086.271705288,
          11619086.271705288,
          11619086.271705288,
          11619086.271705288,
          11619086.271705288,
          11619086.271705288,
          11619086.271705288,
          11619086.271705288,
          11619086.271705288,
          11619086.271705288,
          11619086.271705288,
          11619086.271705288,
          11619086.271705288,
          11619086.271705288,
          11619086.271705288,
          11619086.271705288,
          11619086.271705288,
          11619086.271705288,
          11619086.271705288,
          11619086.271705288,
          11619086.271705288,
          11619086.271705288,
          11619086.271705288,
          11619086.271705288,
          11619086.271705288,
          11619086.271705288,
          11619086.271705288,
          11619086.271705288,
          11619086.271705288,
          11619086.271705288,
          11619086.271705288,
          11619086.271705288,
          11619086.271705288,
          11619086.271705288,
          11619086.271705288,
          11619086.271705288,
          11619086.271705288,
          11619086.271705288,
          11619086.271705288,
          11619086.271705288,
          11619086.271705288,
          11619086.271705288,
          11619086.271705288,
          11619086.271705288,
          11619086.271705288,
          11619086.271705288,
          11619086.271705288,
          11619086.271705288,
          11619086.271705288,
          11619086.271705288,
          11619086.271705288,
          11619086.271705288,
          11619086.271705288,
          11619086.271705288,
          11619086.271705288,
          11619086.271705288,
          11619086.271705288,
          11619086.271705288,
          11619086.271705288,
          11619086.271705288,
          11619086.271705288,
          11619086.271705288,
          11619086.271705288,
          11619086.271705288,
          11619086.271705288,
          11619086.271705288,
          11619086.271705288,
          11619086.271705288,
          11619086.271705288,
          11619086.271705288,
          11619086.271705288,
          11619086.271705288,
          11619086.271705288,
          11619086.271705288,
          11619086.271705288,
          11619086.271705288,
          11619086.271705288,
          11619086.271705288,
          11619086.271705288,
          11619086.271705288,
          11619086.271705288,
          11619086.271705288,
          11619086.271705288,
          11619086.271705288,
          11619086.271705288,
          11619086.271705288,
          11619086.271705288,
          11619086.271705288,
          11619086.271705288,
          11619086.271705288,
          11619086.271705288,
          11619086.271705288,
          11619086.271705288,
          11619086.271705288,
          11619086.271705288,
          11619086.271705288,
          11619086.271705288,
          11619086.271705288,
          11619086.271705288,
          11619086.271705288,
          11619086.271705288,
          11619086.271705288,
          11619086.271705288,
          11619086.271705288,
          11619086.271705288,
          11619086.271705288,
          11619086.271705288,
          11619086.271705288,
          11619086.271705288,
          11619086.271705288,
          11619086.271705288,
          11619086.271705288,
          11619086.271705288,
          11619086.271705288,
          11619086.271705288,
          11619086.271705288,
          11619086.271705288,
          11619086.271705288,
          11619086.271705288,
          11619086.271705288,
          11619086.271705288,
          11619086.271705288,
          11619086.271705288,
          11619086.271705288,
          11619086.271705288,
          11619086.271705288,
          11619086.271705288,
          11619086.271705288,
          11619086.271705288,
          11619086.271705288,
          11619086.271705288,
          11619086.271705288,
          11619086.271705288,
          11619086.271705288,
          11619086.271705288,
          11619086.271705288,
          11619086.271705288,
          11619086.271705288,
          11619086.271705288,
          11619086.271705288,
          11619086.271705288,
          11619086.271705288,
          11619086.271705288,
          11619086.271705288,
          11619086.271705288,
          11619086.271705288,
          11619086.271705288,
          11619086.271705288,
          11619086.271705288,
          11619086.271705288,
          11619086.271705288,
          11619086.271705288,
          11619086.271705288,
          11619086.271705288,
          11619086.271705288,
          11619086.271705288,
          11619086.271705288,
          11619086.271705288,
          11619086.271705288,
          11619086.271705288,
          11619086.271705288,
          11619086.271705288,
          11619086.271705288,
          11619086.271705288,
          11619086.271705288,
          11619086.271705288,
          11619086.271705288,
          11619086.271705288,
          11619086.271705288,
          11619086.271705288,
          11619086.271705288,
          11619086.271705288,
          11619086.271705288,
          11619086.271705288,
          11619086.271705288,
          11619086.271705288,
          11619086.271705288,
          11619086.271705288,
          11619086.271705288,
          11619086.271705288,
          11619086.271705288,
          11619086.271705288,
          11619086.271705288,
          11619086.271705288,
          11619086.271705288,
          11619086.271705288,
          11619086.271705288,
          11619086.271705288,
          11619086.271705288,
          11619086.271705288,
          11619086.271705288,
          11619086.271705288,
          11619086.271705288,
          11619086.271705288,
          11619086.271705288,
          11619086.271705288,
          11619086.271705288,
          11619086.271705288,
          11619086.271705288,
          11619086.271705288,
          11619086.271705288,
          11619086.271705288,
          11619086.271705288,
          11619086.271705288,
          11619086.271705288,
          11619086.271705288,
          11619086.271705288,
          11619086.271705288,
          11619086.271705288,
          11619086.271705288,
          11619086.271705288,
          11619086.271705288,
          11619086.271705288,
          11619086.271705288,
          11619086.271705288,
          11619086.271705288,
          11619086.271705288,
          11619086.271705288,
          11619086.271705288,
          11619086.271705288,
          11619086.271705288,
          11619086.271705288,
          11619086.271705288,
          11619086.271705288,
          11619086.271705288,
          11619086.271705288,
          11619086.271705288,
          11619086.271705288,
          11619086.271705288,
          11619086.271705288,
          11619086.271705288,
          11619086.271705288,
          11619086.271705288,
          11619086.271705288,
          11619086.271705288,
          11619086.271705288,
          11619086.271705288,
          15954744.551899036,
          15954744.551899036,
          15954744.551899036,
          15954744.551899036,
          15954744.551899036,
          15954744.551899036,
          15954744.551899036,
          15954744.551899036,
          15954744.551899036,
          15954744.551899036,
          15954744.551899036,
          15954744.551899036,
          15954744.551899036,
          15954744.551899036,
          15954744.551899036,
          15954744.551899036,
          15954744.551899036,
          15954744.551899036,
          15954744.551899036,
          15954744.551899036,
          15954744.551899036,
          15954744.551899036,
          15954744.551899036,
          15954744.551899036,
          15954744.551899036,
          20290402.832092788,
          20290402.832092788,
          20290402.832092788,
          20290402.832092788,
          20290402.832092788,
          20290402.832092788,
          20290402.832092788,
          20290402.832092788,
          20290402.832092788,
          20290402.832092788,
          20290402.832092788,
          20290402.832092788,
          20290402.832092788,
          20290402.832092788,
          20290402.832092788,
          20290402.832092788,
          20290402.832092788,
          20290402.832092788,
          20290402.832092788,
          20290402.832092788,
          20290402.832092788,
          20290402.832092788,
          20290402.832092788,
          20290402.832092788,
          20290402.832092788,
          20290402.832092788,
          20290402.832092788,
          20290402.832092788,
          20290402.832092788,
          20290402.832092788,
          20290402.832092788,
          20290402.832092788,
          20290402.832092788,
          20290402.832092788,
          20290402.832092788,
          20290402.832092788,
          20290402.832092788,
          20290402.832092788,
          20290402.832092788,
          20290402.832092788,
          20290402.832092788,
          20290402.832092788,
          20290402.832092788,
          20290402.832092788,
          20290402.832092788,
          20290402.832092788,
          20290402.832092788,
          20290402.832092788,
          20290402.832092788,
          20290402.832092788,
          20290402.832092788,
          20290402.832092788,
          20290402.832092788,
          20290402.832092788,
          20290402.832092788,
          20290402.832092788,
          20290402.832092788,
          20290402.832092788,
          20290402.832092788,
          20290402.832092788,
          20290402.832092788,
          20290402.832092788,
          20290402.832092788,
          20290402.832092788,
          20290402.832092788,
          20290402.832092788,
          20290402.832092788,
          20290402.832092788,
          20290402.832092788,
          20290402.832092788,
          20290402.832092788,
          20290402.832092788,
          20290402.832092788,
          20290402.832092788,
          20290402.832092788,
          20290402.832092788,
          20290402.832092788,
          20290402.832092788,
          20290402.832092788,
          20290402.832092788,
          20290402.832092788,
          20290402.832092788,
          20290402.832092788,
          20290402.832092788,
          20290402.832092788,
          20290402.832092788,
          20290402.832092788,
          20290402.832092788,
          20290402.832092788,
          20290402.832092788,
          20290402.832092788,
          20290402.832092788,
          20290402.832092788,
          20290402.832092788,
          20290402.832092788,
          20290402.832092788,
          20290402.832092788,
          20290402.832092788,
          20290402.832092788,
          20290402.832092788,
          20290402.832092788,
          20290402.832092788,
          20290402.832092788,
          20290402.832092788,
          20290402.832092788,
          20290402.832092788,
          20290402.832092788,
          20290402.832092788,
          20290402.832092788,
          20290402.832092788,
          20290402.832092788,
          20290402.832092788,
          20290402.832092788,
          20290402.832092788,
          20290402.832092788,
          20290402.832092788,
          20290402.832092788,
          20290402.832092788,
          20290402.832092788,
          20290402.832092788,
          20290402.832092788,
          20290402.832092788,
          20290402.832092788,
          20290402.832092788,
          20290402.832092788,
          20290402.832092788,
          20290402.832092788,
          20290402.832092788,
          20290402.832092788,
          20290402.832092788,
          20290402.832092788,
          20290402.832092788,
          20290402.832092788,
          20290402.832092788,
          20290402.832092788,
          20290402.832092788,
          20290402.832092788,
          20290402.832092788,
          20290402.832092788,
          20290402.832092788,
          20290402.832092788,
          20290402.832092788,
          20290402.832092788,
          20290402.832092788,
          20290402.832092788,
          20290402.832092788,
          20290402.832092788,
          20290402.832092788,
          20290402.832092788,
          20290402.832092788,
          20290402.832092788,
          20290402.832092788,
          20290402.832092788,
          20290402.832092788,
          20290402.832092788,
          20290402.832092788,
          20290402.832092788,
          20290402.832092788,
          20290402.832092788,
          20290402.832092788,
          20290402.832092788,
          20290402.832092788,
          20290402.832092788,
          20290402.832092788,
          20290402.832092788,
          20290402.832092788,
          20290402.832092788,
          20290402.832092788,
          20290402.832092788,
          20290402.832092788,
          20290402.832092788,
          20290402.832092788,
          20290402.832092788,
          20290402.832092788,
          20290402.832092788,
          20290402.832092788,
          20290402.832092788,
          20290402.832092788,
          20290402.832092788,
          20290402.832092788,
          20290402.832092788,
          20290402.832092788,
          20290402.832092788,
          20290402.832092788,
          20290402.832092788,
          20290402.832092788,
          20290402.832092788,
          20290402.832092788,
          20290402.832092788,
          20290402.832092788,
          20290402.832092788,
          20290402.832092788,
          20290402.832092788,
          20290402.832092788,
          20290402.832092788,
          20290402.832092788,
          20290402.832092788,
          20290402.832092788,
          28961719.392480284,
          28961719.392480284,
          28961719.392480284,
          37633035.95286778,
          37633035.95286778,
          37633035.95286778,
          37633035.95286778,
          37633035.95286778,
          37633035.95286778,
          37633035.95286778,
          37633035.95286778,
          37633035.95286778,
          37633035.95286778,
          37633035.95286778,
          37633035.95286778,
          37633035.95286778,
          37633035.95286778,
          37633035.95286778,
          37633035.95286778,
          37633035.95286778,
          72318302.19441777
         ],
         "yaxis": "y"
        }
       ],
       "layout": {
        "legend": {
         "tracegroupgap": 0
        },
        "margin": {
         "t": 60
        },
        "template": {
         "data": {
          "bar": [
           {
            "error_x": {
             "color": "#2a3f5f"
            },
            "error_y": {
             "color": "#2a3f5f"
            },
            "marker": {
             "line": {
              "color": "#E5ECF6",
              "width": 0.5
             },
             "pattern": {
              "fillmode": "overlay",
              "size": 10,
              "solidity": 0.2
             }
            },
            "type": "bar"
           }
          ],
          "barpolar": [
           {
            "marker": {
             "line": {
              "color": "#E5ECF6",
              "width": 0.5
             },
             "pattern": {
              "fillmode": "overlay",
              "size": 10,
              "solidity": 0.2
             }
            },
            "type": "barpolar"
           }
          ],
          "carpet": [
           {
            "aaxis": {
             "endlinecolor": "#2a3f5f",
             "gridcolor": "white",
             "linecolor": "white",
             "minorgridcolor": "white",
             "startlinecolor": "#2a3f5f"
            },
            "baxis": {
             "endlinecolor": "#2a3f5f",
             "gridcolor": "white",
             "linecolor": "white",
             "minorgridcolor": "white",
             "startlinecolor": "#2a3f5f"
            },
            "type": "carpet"
           }
          ],
          "choropleth": [
           {
            "colorbar": {
             "outlinewidth": 0,
             "ticks": ""
            },
            "type": "choropleth"
           }
          ],
          "contour": [
           {
            "colorbar": {
             "outlinewidth": 0,
             "ticks": ""
            },
            "colorscale": [
             [
              0,
              "#0d0887"
             ],
             [
              0.1111111111111111,
              "#46039f"
             ],
             [
              0.2222222222222222,
              "#7201a8"
             ],
             [
              0.3333333333333333,
              "#9c179e"
             ],
             [
              0.4444444444444444,
              "#bd3786"
             ],
             [
              0.5555555555555556,
              "#d8576b"
             ],
             [
              0.6666666666666666,
              "#ed7953"
             ],
             [
              0.7777777777777778,
              "#fb9f3a"
             ],
             [
              0.8888888888888888,
              "#fdca26"
             ],
             [
              1,
              "#f0f921"
             ]
            ],
            "type": "contour"
           }
          ],
          "contourcarpet": [
           {
            "colorbar": {
             "outlinewidth": 0,
             "ticks": ""
            },
            "type": "contourcarpet"
           }
          ],
          "heatmap": [
           {
            "colorbar": {
             "outlinewidth": 0,
             "ticks": ""
            },
            "colorscale": [
             [
              0,
              "#0d0887"
             ],
             [
              0.1111111111111111,
              "#46039f"
             ],
             [
              0.2222222222222222,
              "#7201a8"
             ],
             [
              0.3333333333333333,
              "#9c179e"
             ],
             [
              0.4444444444444444,
              "#bd3786"
             ],
             [
              0.5555555555555556,
              "#d8576b"
             ],
             [
              0.6666666666666666,
              "#ed7953"
             ],
             [
              0.7777777777777778,
              "#fb9f3a"
             ],
             [
              0.8888888888888888,
              "#fdca26"
             ],
             [
              1,
              "#f0f921"
             ]
            ],
            "type": "heatmap"
           }
          ],
          "heatmapgl": [
           {
            "colorbar": {
             "outlinewidth": 0,
             "ticks": ""
            },
            "colorscale": [
             [
              0,
              "#0d0887"
             ],
             [
              0.1111111111111111,
              "#46039f"
             ],
             [
              0.2222222222222222,
              "#7201a8"
             ],
             [
              0.3333333333333333,
              "#9c179e"
             ],
             [
              0.4444444444444444,
              "#bd3786"
             ],
             [
              0.5555555555555556,
              "#d8576b"
             ],
             [
              0.6666666666666666,
              "#ed7953"
             ],
             [
              0.7777777777777778,
              "#fb9f3a"
             ],
             [
              0.8888888888888888,
              "#fdca26"
             ],
             [
              1,
              "#f0f921"
             ]
            ],
            "type": "heatmapgl"
           }
          ],
          "histogram": [
           {
            "marker": {
             "pattern": {
              "fillmode": "overlay",
              "size": 10,
              "solidity": 0.2
             }
            },
            "type": "histogram"
           }
          ],
          "histogram2d": [
           {
            "colorbar": {
             "outlinewidth": 0,
             "ticks": ""
            },
            "colorscale": [
             [
              0,
              "#0d0887"
             ],
             [
              0.1111111111111111,
              "#46039f"
             ],
             [
              0.2222222222222222,
              "#7201a8"
             ],
             [
              0.3333333333333333,
              "#9c179e"
             ],
             [
              0.4444444444444444,
              "#bd3786"
             ],
             [
              0.5555555555555556,
              "#d8576b"
             ],
             [
              0.6666666666666666,
              "#ed7953"
             ],
             [
              0.7777777777777778,
              "#fb9f3a"
             ],
             [
              0.8888888888888888,
              "#fdca26"
             ],
             [
              1,
              "#f0f921"
             ]
            ],
            "type": "histogram2d"
           }
          ],
          "histogram2dcontour": [
           {
            "colorbar": {
             "outlinewidth": 0,
             "ticks": ""
            },
            "colorscale": [
             [
              0,
              "#0d0887"
             ],
             [
              0.1111111111111111,
              "#46039f"
             ],
             [
              0.2222222222222222,
              "#7201a8"
             ],
             [
              0.3333333333333333,
              "#9c179e"
             ],
             [
              0.4444444444444444,
              "#bd3786"
             ],
             [
              0.5555555555555556,
              "#d8576b"
             ],
             [
              0.6666666666666666,
              "#ed7953"
             ],
             [
              0.7777777777777778,
              "#fb9f3a"
             ],
             [
              0.8888888888888888,
              "#fdca26"
             ],
             [
              1,
              "#f0f921"
             ]
            ],
            "type": "histogram2dcontour"
           }
          ],
          "mesh3d": [
           {
            "colorbar": {
             "outlinewidth": 0,
             "ticks": ""
            },
            "type": "mesh3d"
           }
          ],
          "parcoords": [
           {
            "line": {
             "colorbar": {
              "outlinewidth": 0,
              "ticks": ""
             }
            },
            "type": "parcoords"
           }
          ],
          "pie": [
           {
            "automargin": true,
            "type": "pie"
           }
          ],
          "scatter": [
           {
            "fillpattern": {
             "fillmode": "overlay",
             "size": 10,
             "solidity": 0.2
            },
            "type": "scatter"
           }
          ],
          "scatter3d": [
           {
            "line": {
             "colorbar": {
              "outlinewidth": 0,
              "ticks": ""
             }
            },
            "marker": {
             "colorbar": {
              "outlinewidth": 0,
              "ticks": ""
             }
            },
            "type": "scatter3d"
           }
          ],
          "scattercarpet": [
           {
            "marker": {
             "colorbar": {
              "outlinewidth": 0,
              "ticks": ""
             }
            },
            "type": "scattercarpet"
           }
          ],
          "scattergeo": [
           {
            "marker": {
             "colorbar": {
              "outlinewidth": 0,
              "ticks": ""
             }
            },
            "type": "scattergeo"
           }
          ],
          "scattergl": [
           {
            "marker": {
             "colorbar": {
              "outlinewidth": 0,
              "ticks": ""
             }
            },
            "type": "scattergl"
           }
          ],
          "scattermapbox": [
           {
            "marker": {
             "colorbar": {
              "outlinewidth": 0,
              "ticks": ""
             }
            },
            "type": "scattermapbox"
           }
          ],
          "scatterpolar": [
           {
            "marker": {
             "colorbar": {
              "outlinewidth": 0,
              "ticks": ""
             }
            },
            "type": "scatterpolar"
           }
          ],
          "scatterpolargl": [
           {
            "marker": {
             "colorbar": {
              "outlinewidth": 0,
              "ticks": ""
             }
            },
            "type": "scatterpolargl"
           }
          ],
          "scatterternary": [
           {
            "marker": {
             "colorbar": {
              "outlinewidth": 0,
              "ticks": ""
             }
            },
            "type": "scatterternary"
           }
          ],
          "surface": [
           {
            "colorbar": {
             "outlinewidth": 0,
             "ticks": ""
            },
            "colorscale": [
             [
              0,
              "#0d0887"
             ],
             [
              0.1111111111111111,
              "#46039f"
             ],
             [
              0.2222222222222222,
              "#7201a8"
             ],
             [
              0.3333333333333333,
              "#9c179e"
             ],
             [
              0.4444444444444444,
              "#bd3786"
             ],
             [
              0.5555555555555556,
              "#d8576b"
             ],
             [
              0.6666666666666666,
              "#ed7953"
             ],
             [
              0.7777777777777778,
              "#fb9f3a"
             ],
             [
              0.8888888888888888,
              "#fdca26"
             ],
             [
              1,
              "#f0f921"
             ]
            ],
            "type": "surface"
           }
          ],
          "table": [
           {
            "cells": {
             "fill": {
              "color": "#EBF0F8"
             },
             "line": {
              "color": "white"
             }
            },
            "header": {
             "fill": {
              "color": "#C8D4E3"
             },
             "line": {
              "color": "white"
             }
            },
            "type": "table"
           }
          ]
         },
         "layout": {
          "annotationdefaults": {
           "arrowcolor": "#2a3f5f",
           "arrowhead": 0,
           "arrowwidth": 1
          },
          "autotypenumbers": "strict",
          "coloraxis": {
           "colorbar": {
            "outlinewidth": 0,
            "ticks": ""
           }
          },
          "colorscale": {
           "diverging": [
            [
             0,
             "#8e0152"
            ],
            [
             0.1,
             "#c51b7d"
            ],
            [
             0.2,
             "#de77ae"
            ],
            [
             0.3,
             "#f1b6da"
            ],
            [
             0.4,
             "#fde0ef"
            ],
            [
             0.5,
             "#f7f7f7"
            ],
            [
             0.6,
             "#e6f5d0"
            ],
            [
             0.7,
             "#b8e186"
            ],
            [
             0.8,
             "#7fbc41"
            ],
            [
             0.9,
             "#4d9221"
            ],
            [
             1,
             "#276419"
            ]
           ],
           "sequential": [
            [
             0,
             "#0d0887"
            ],
            [
             0.1111111111111111,
             "#46039f"
            ],
            [
             0.2222222222222222,
             "#7201a8"
            ],
            [
             0.3333333333333333,
             "#9c179e"
            ],
            [
             0.4444444444444444,
             "#bd3786"
            ],
            [
             0.5555555555555556,
             "#d8576b"
            ],
            [
             0.6666666666666666,
             "#ed7953"
            ],
            [
             0.7777777777777778,
             "#fb9f3a"
            ],
            [
             0.8888888888888888,
             "#fdca26"
            ],
            [
             1,
             "#f0f921"
            ]
           ],
           "sequentialminus": [
            [
             0,
             "#0d0887"
            ],
            [
             0.1111111111111111,
             "#46039f"
            ],
            [
             0.2222222222222222,
             "#7201a8"
            ],
            [
             0.3333333333333333,
             "#9c179e"
            ],
            [
             0.4444444444444444,
             "#bd3786"
            ],
            [
             0.5555555555555556,
             "#d8576b"
            ],
            [
             0.6666666666666666,
             "#ed7953"
            ],
            [
             0.7777777777777778,
             "#fb9f3a"
            ],
            [
             0.8888888888888888,
             "#fdca26"
            ],
            [
             1,
             "#f0f921"
            ]
           ]
          },
          "colorway": [
           "#636efa",
           "#EF553B",
           "#00cc96",
           "#ab63fa",
           "#FFA15A",
           "#19d3f3",
           "#FF6692",
           "#B6E880",
           "#FF97FF",
           "#FECB52"
          ],
          "font": {
           "color": "#2a3f5f"
          },
          "geo": {
           "bgcolor": "white",
           "lakecolor": "white",
           "landcolor": "#E5ECF6",
           "showlakes": true,
           "showland": true,
           "subunitcolor": "white"
          },
          "hoverlabel": {
           "align": "left"
          },
          "hovermode": "closest",
          "mapbox": {
           "style": "light"
          },
          "paper_bgcolor": "white",
          "plot_bgcolor": "#E5ECF6",
          "polar": {
           "angularaxis": {
            "gridcolor": "white",
            "linecolor": "white",
            "ticks": ""
           },
           "bgcolor": "#E5ECF6",
           "radialaxis": {
            "gridcolor": "white",
            "linecolor": "white",
            "ticks": ""
           }
          },
          "scene": {
           "xaxis": {
            "backgroundcolor": "#E5ECF6",
            "gridcolor": "white",
            "gridwidth": 2,
            "linecolor": "white",
            "showbackground": true,
            "ticks": "",
            "zerolinecolor": "white"
           },
           "yaxis": {
            "backgroundcolor": "#E5ECF6",
            "gridcolor": "white",
            "gridwidth": 2,
            "linecolor": "white",
            "showbackground": true,
            "ticks": "",
            "zerolinecolor": "white"
           },
           "zaxis": {
            "backgroundcolor": "#E5ECF6",
            "gridcolor": "white",
            "gridwidth": 2,
            "linecolor": "white",
            "showbackground": true,
            "ticks": "",
            "zerolinecolor": "white"
           }
          },
          "shapedefaults": {
           "line": {
            "color": "#2a3f5f"
           }
          },
          "ternary": {
           "aaxis": {
            "gridcolor": "white",
            "linecolor": "white",
            "ticks": ""
           },
           "baxis": {
            "gridcolor": "white",
            "linecolor": "white",
            "ticks": ""
           },
           "bgcolor": "#E5ECF6",
           "caxis": {
            "gridcolor": "white",
            "linecolor": "white",
            "ticks": ""
           }
          },
          "title": {
           "x": 0.05
          },
          "xaxis": {
           "automargin": true,
           "gridcolor": "white",
           "linecolor": "white",
           "ticks": "",
           "title": {
            "standoff": 15
           },
           "zerolinecolor": "white",
           "zerolinewidth": 2
          },
          "yaxis": {
           "automargin": true,
           "gridcolor": "white",
           "linecolor": "white",
           "ticks": "",
           "title": {
            "standoff": 15
           },
           "zerolinecolor": "white",
           "zerolinewidth": 2
          }
         }
        },
        "xaxis": {
         "anchor": "y",
         "domain": [
          0,
          1
         ],
         "title": {
          "text": "RAM"
         }
        },
        "yaxis": {
         "anchor": "x",
         "domain": [
          0,
          1
         ],
         "title": {
          "text": "Average Price"
         }
        }
       }
      }
     },
     "metadata": {},
     "output_type": "display_data"
    }
   ],
   "source": [
    "## Creating a bar chart graph \n",
    "fig= px.scatter( df, x=df['RamGB'],\n",
    "            y= df['Price'] ,trendline=\"ols\" )\n",
    "fig.update_xaxes(title='RAM')\n",
    "fig.update_yaxes(title='Average Price')"
   ]
  },
  {
   "cell_type": "code",
   "execution_count": 27,
   "metadata": {},
   "outputs": [
    {
     "data": {
      "text/html": [
       "<div>\n",
       "<style scoped>\n",
       "    .dataframe tbody tr th:only-of-type {\n",
       "        vertical-align: middle;\n",
       "    }\n",
       "\n",
       "    .dataframe tbody tr th {\n",
       "        vertical-align: top;\n",
       "    }\n",
       "\n",
       "    .dataframe thead th {\n",
       "        text-align: right;\n",
       "    }\n",
       "</style>\n",
       "<table border=\"1\" class=\"dataframe\">\n",
       "  <thead>\n",
       "    <tr style=\"text-align: right;\">\n",
       "      <th></th>\n",
       "      <th>Inches</th>\n",
       "      <th>RamGB</th>\n",
       "      <th>WeightKG</th>\n",
       "      <th>Price</th>\n",
       "      <th>GHz</th>\n",
       "      <th>MainMemory</th>\n",
       "      <th>SecondMemory</th>\n",
       "      <th>TouchScreen</th>\n",
       "    </tr>\n",
       "  </thead>\n",
       "  <tbody>\n",
       "    <tr>\n",
       "      <th>Inches</th>\n",
       "      <td>1.000000</td>\n",
       "      <td>0.241441</td>\n",
       "      <td>0.826634</td>\n",
       "      <td>0.066990</td>\n",
       "      <td>0.305733</td>\n",
       "      <td>0.263997</td>\n",
       "      <td>0.389275</td>\n",
       "      <td>-0.361873</td>\n",
       "    </tr>\n",
       "    <tr>\n",
       "      <th>RamGB</th>\n",
       "      <td>0.241441</td>\n",
       "      <td>1.000000</td>\n",
       "      <td>0.389658</td>\n",
       "      <td>0.740106</td>\n",
       "      <td>0.365688</td>\n",
       "      <td>0.017675</td>\n",
       "      <td>0.390832</td>\n",
       "      <td>0.111378</td>\n",
       "    </tr>\n",
       "    <tr>\n",
       "      <th>WeightKG</th>\n",
       "      <td>0.826634</td>\n",
       "      <td>0.389658</td>\n",
       "      <td>1.000000</td>\n",
       "      <td>0.212192</td>\n",
       "      <td>0.319162</td>\n",
       "      <td>0.174804</td>\n",
       "      <td>0.481593</td>\n",
       "      <td>-0.293933</td>\n",
       "    </tr>\n",
       "    <tr>\n",
       "      <th>Price</th>\n",
       "      <td>0.066990</td>\n",
       "      <td>0.740106</td>\n",
       "      <td>0.212192</td>\n",
       "      <td>1.000000</td>\n",
       "      <td>0.428178</td>\n",
       "      <td>-0.121628</td>\n",
       "      <td>0.291031</td>\n",
       "      <td>0.188631</td>\n",
       "    </tr>\n",
       "    <tr>\n",
       "      <th>GHz</th>\n",
       "      <td>0.305733</td>\n",
       "      <td>0.365688</td>\n",
       "      <td>0.319162</td>\n",
       "      <td>0.428178</td>\n",
       "      <td>1.000000</td>\n",
       "      <td>0.058051</td>\n",
       "      <td>0.224211</td>\n",
       "      <td>-0.092330</td>\n",
       "    </tr>\n",
       "    <tr>\n",
       "      <th>MainMemory</th>\n",
       "      <td>0.263997</td>\n",
       "      <td>0.017675</td>\n",
       "      <td>0.174804</td>\n",
       "      <td>-0.121628</td>\n",
       "      <td>0.058051</td>\n",
       "      <td>1.000000</td>\n",
       "      <td>-0.245173</td>\n",
       "      <td>-0.024796</td>\n",
       "    </tr>\n",
       "    <tr>\n",
       "      <th>SecondMemory</th>\n",
       "      <td>0.389275</td>\n",
       "      <td>0.390832</td>\n",
       "      <td>0.481593</td>\n",
       "      <td>0.291031</td>\n",
       "      <td>0.224211</td>\n",
       "      <td>-0.245173</td>\n",
       "      <td>1.000000</td>\n",
       "      <td>-0.135370</td>\n",
       "    </tr>\n",
       "    <tr>\n",
       "      <th>TouchScreen</th>\n",
       "      <td>-0.361873</td>\n",
       "      <td>0.111378</td>\n",
       "      <td>-0.293933</td>\n",
       "      <td>0.188631</td>\n",
       "      <td>-0.092330</td>\n",
       "      <td>-0.024796</td>\n",
       "      <td>-0.135370</td>\n",
       "      <td>1.000000</td>\n",
       "    </tr>\n",
       "  </tbody>\n",
       "</table>\n",
       "</div>"
      ],
      "text/plain": [
       "                Inches     RamGB  WeightKG     Price       GHz  MainMemory  \\\n",
       "Inches        1.000000  0.241441  0.826634  0.066990  0.305733    0.263997   \n",
       "RamGB         0.241441  1.000000  0.389658  0.740106  0.365688    0.017675   \n",
       "WeightKG      0.826634  0.389658  1.000000  0.212192  0.319162    0.174804   \n",
       "Price         0.066990  0.740106  0.212192  1.000000  0.428178   -0.121628   \n",
       "GHz           0.305733  0.365688  0.319162  0.428178  1.000000    0.058051   \n",
       "MainMemory    0.263997  0.017675  0.174804 -0.121628  0.058051    1.000000   \n",
       "SecondMemory  0.389275  0.390832  0.481593  0.291031  0.224211   -0.245173   \n",
       "TouchScreen  -0.361873  0.111378 -0.293933  0.188631 -0.092330   -0.024796   \n",
       "\n",
       "              SecondMemory  TouchScreen  \n",
       "Inches            0.389275    -0.361873  \n",
       "RamGB             0.390832     0.111378  \n",
       "WeightKG          0.481593    -0.293933  \n",
       "Price             0.291031     0.188631  \n",
       "GHz               0.224211    -0.092330  \n",
       "MainMemory       -0.245173    -0.024796  \n",
       "SecondMemory      1.000000    -0.135370  \n",
       "TouchScreen      -0.135370     1.000000  "
      ]
     },
     "execution_count": 27,
     "metadata": {},
     "output_type": "execute_result"
    }
   ],
   "source": [
    "## Correlation map\n",
    "df.corr(numeric_only=True).T"
   ]
  },
  {
   "cell_type": "code",
   "execution_count": 28,
   "metadata": {},
   "outputs": [
    {
     "data": {
      "text/html": [
       "<div>\n",
       "<style scoped>\n",
       "    .dataframe tbody tr th:only-of-type {\n",
       "        vertical-align: middle;\n",
       "    }\n",
       "\n",
       "    .dataframe tbody tr th {\n",
       "        vertical-align: top;\n",
       "    }\n",
       "\n",
       "    .dataframe thead th {\n",
       "        text-align: right;\n",
       "    }\n",
       "</style>\n",
       "<table border=\"1\" class=\"dataframe\">\n",
       "  <thead>\n",
       "    <tr style=\"text-align: right;\">\n",
       "      <th></th>\n",
       "      <th>index</th>\n",
       "      <th>Price</th>\n",
       "    </tr>\n",
       "  </thead>\n",
       "  <tbody>\n",
       "    <tr>\n",
       "      <th>0</th>\n",
       "      <td>Price</td>\n",
       "      <td>1.000000</td>\n",
       "    </tr>\n",
       "    <tr>\n",
       "      <th>1</th>\n",
       "      <td>RamGB</td>\n",
       "      <td>0.740106</td>\n",
       "    </tr>\n",
       "    <tr>\n",
       "      <th>2</th>\n",
       "      <td>GHz</td>\n",
       "      <td>0.428178</td>\n",
       "    </tr>\n",
       "    <tr>\n",
       "      <th>3</th>\n",
       "      <td>SecondMemory</td>\n",
       "      <td>0.291031</td>\n",
       "    </tr>\n",
       "    <tr>\n",
       "      <th>4</th>\n",
       "      <td>WeightKG</td>\n",
       "      <td>0.212192</td>\n",
       "    </tr>\n",
       "    <tr>\n",
       "      <th>5</th>\n",
       "      <td>TouchScreen</td>\n",
       "      <td>0.188631</td>\n",
       "    </tr>\n",
       "    <tr>\n",
       "      <th>6</th>\n",
       "      <td>Inches</td>\n",
       "      <td>0.066990</td>\n",
       "    </tr>\n",
       "    <tr>\n",
       "      <th>7</th>\n",
       "      <td>MainMemory</td>\n",
       "      <td>-0.121628</td>\n",
       "    </tr>\n",
       "  </tbody>\n",
       "</table>\n",
       "</div>"
      ],
      "text/plain": [
       "          index     Price\n",
       "0         Price  1.000000\n",
       "1         RamGB  0.740106\n",
       "2           GHz  0.428178\n",
       "3  SecondMemory  0.291031\n",
       "4      WeightKG  0.212192\n",
       "5   TouchScreen  0.188631\n",
       "6        Inches  0.066990\n",
       "7    MainMemory -0.121628"
      ]
     },
     "execution_count": 28,
     "metadata": {},
     "output_type": "execute_result"
    }
   ],
   "source": [
    "## Correlation data frame with price\n",
    "df3 = df.corr(numeric_only=True)['Price'].sort_values(ascending=False).reset_index()\n",
    "df3"
   ]
  },
  {
   "cell_type": "code",
   "execution_count": 29,
   "metadata": {},
   "outputs": [
    {
     "data": {
      "application/vnd.plotly.v1+json": {
       "config": {
        "plotlyServerURL": "https://plot.ly"
       },
       "data": [
        {
         "coloraxis": "coloraxis",
         "hovertemplate": "x: %{x}<br>y: %{y}<br>color: %{z}<extra></extra>",
         "name": "0",
         "texttemplate": "%{z}",
         "type": "heatmap",
         "x": [
          "Inches",
          "RamGB",
          "WeightKG",
          "Price",
          "GHz",
          "MainMemory",
          "SecondMemory",
          "TouchScreen"
         ],
         "xaxis": "x",
         "y": [
          "Inches",
          "RamGB",
          "WeightKG",
          "Price",
          "GHz",
          "MainMemory",
          "SecondMemory",
          "TouchScreen"
         ],
         "yaxis": "y",
         "z": [
          [
           1,
           0.24144143067723234,
           0.8266337440048112,
           0.0669903234732201,
           0.30573329977125896,
           0.26399675046162796,
           0.3892748558612565,
           -0.36187251969598466
          ],
          [
           0.24144143067723234,
           1,
           0.38965835779349756,
           0.7401064611865371,
           0.3656875860238516,
           0.017674789219214615,
           0.39083249039457646,
           0.11137837571317459
          ],
          [
           0.8266337440048112,
           0.38965835779349756,
           1,
           0.212192401112027,
           0.31916177189524886,
           0.1748035631148803,
           0.48159322087987255,
           -0.2939329649472735
          ],
          [
           0.0669903234732201,
           0.7401064611865371,
           0.212192401112027,
           1,
           0.4281775574604552,
           -0.1216277987040766,
           0.29103084316497135,
           0.18863069163396906
          ],
          [
           0.30573329977125896,
           0.3656875860238516,
           0.31916177189524886,
           0.4281775574604552,
           1,
           0.0580506958337162,
           0.22421074808961516,
           -0.09233023939903558
          ],
          [
           0.26399675046162796,
           0.017674789219214615,
           0.1748035631148803,
           -0.1216277987040766,
           0.0580506958337162,
           1,
           -0.24517298253969932,
           -0.024796308737411142
          ],
          [
           0.3892748558612565,
           0.39083249039457646,
           0.48159322087987255,
           0.29103084316497135,
           0.22421074808961516,
           -0.24517298253969932,
           1,
           -0.1353697254598483
          ],
          [
           -0.36187251969598466,
           0.11137837571317459,
           -0.2939329649472735,
           0.18863069163396906,
           -0.09233023939903558,
           -0.024796308737411142,
           -0.1353697254598483,
           1
          ]
         ]
        }
       ],
       "layout": {
        "coloraxis": {
         "colorscale": [
          [
           0,
           "#0d0887"
          ],
          [
           0.1111111111111111,
           "#46039f"
          ],
          [
           0.2222222222222222,
           "#7201a8"
          ],
          [
           0.3333333333333333,
           "#9c179e"
          ],
          [
           0.4444444444444444,
           "#bd3786"
          ],
          [
           0.5555555555555556,
           "#d8576b"
          ],
          [
           0.6666666666666666,
           "#ed7953"
          ],
          [
           0.7777777777777778,
           "#fb9f3a"
          ],
          [
           0.8888888888888888,
           "#fdca26"
          ],
          [
           1,
           "#f0f921"
          ]
         ]
        },
        "margin": {
         "t": 60
        },
        "template": {
         "data": {
          "bar": [
           {
            "error_x": {
             "color": "#2a3f5f"
            },
            "error_y": {
             "color": "#2a3f5f"
            },
            "marker": {
             "line": {
              "color": "#E5ECF6",
              "width": 0.5
             },
             "pattern": {
              "fillmode": "overlay",
              "size": 10,
              "solidity": 0.2
             }
            },
            "type": "bar"
           }
          ],
          "barpolar": [
           {
            "marker": {
             "line": {
              "color": "#E5ECF6",
              "width": 0.5
             },
             "pattern": {
              "fillmode": "overlay",
              "size": 10,
              "solidity": 0.2
             }
            },
            "type": "barpolar"
           }
          ],
          "carpet": [
           {
            "aaxis": {
             "endlinecolor": "#2a3f5f",
             "gridcolor": "white",
             "linecolor": "white",
             "minorgridcolor": "white",
             "startlinecolor": "#2a3f5f"
            },
            "baxis": {
             "endlinecolor": "#2a3f5f",
             "gridcolor": "white",
             "linecolor": "white",
             "minorgridcolor": "white",
             "startlinecolor": "#2a3f5f"
            },
            "type": "carpet"
           }
          ],
          "choropleth": [
           {
            "colorbar": {
             "outlinewidth": 0,
             "ticks": ""
            },
            "type": "choropleth"
           }
          ],
          "contour": [
           {
            "colorbar": {
             "outlinewidth": 0,
             "ticks": ""
            },
            "colorscale": [
             [
              0,
              "#0d0887"
             ],
             [
              0.1111111111111111,
              "#46039f"
             ],
             [
              0.2222222222222222,
              "#7201a8"
             ],
             [
              0.3333333333333333,
              "#9c179e"
             ],
             [
              0.4444444444444444,
              "#bd3786"
             ],
             [
              0.5555555555555556,
              "#d8576b"
             ],
             [
              0.6666666666666666,
              "#ed7953"
             ],
             [
              0.7777777777777778,
              "#fb9f3a"
             ],
             [
              0.8888888888888888,
              "#fdca26"
             ],
             [
              1,
              "#f0f921"
             ]
            ],
            "type": "contour"
           }
          ],
          "contourcarpet": [
           {
            "colorbar": {
             "outlinewidth": 0,
             "ticks": ""
            },
            "type": "contourcarpet"
           }
          ],
          "heatmap": [
           {
            "colorbar": {
             "outlinewidth": 0,
             "ticks": ""
            },
            "colorscale": [
             [
              0,
              "#0d0887"
             ],
             [
              0.1111111111111111,
              "#46039f"
             ],
             [
              0.2222222222222222,
              "#7201a8"
             ],
             [
              0.3333333333333333,
              "#9c179e"
             ],
             [
              0.4444444444444444,
              "#bd3786"
             ],
             [
              0.5555555555555556,
              "#d8576b"
             ],
             [
              0.6666666666666666,
              "#ed7953"
             ],
             [
              0.7777777777777778,
              "#fb9f3a"
             ],
             [
              0.8888888888888888,
              "#fdca26"
             ],
             [
              1,
              "#f0f921"
             ]
            ],
            "type": "heatmap"
           }
          ],
          "heatmapgl": [
           {
            "colorbar": {
             "outlinewidth": 0,
             "ticks": ""
            },
            "colorscale": [
             [
              0,
              "#0d0887"
             ],
             [
              0.1111111111111111,
              "#46039f"
             ],
             [
              0.2222222222222222,
              "#7201a8"
             ],
             [
              0.3333333333333333,
              "#9c179e"
             ],
             [
              0.4444444444444444,
              "#bd3786"
             ],
             [
              0.5555555555555556,
              "#d8576b"
             ],
             [
              0.6666666666666666,
              "#ed7953"
             ],
             [
              0.7777777777777778,
              "#fb9f3a"
             ],
             [
              0.8888888888888888,
              "#fdca26"
             ],
             [
              1,
              "#f0f921"
             ]
            ],
            "type": "heatmapgl"
           }
          ],
          "histogram": [
           {
            "marker": {
             "pattern": {
              "fillmode": "overlay",
              "size": 10,
              "solidity": 0.2
             }
            },
            "type": "histogram"
           }
          ],
          "histogram2d": [
           {
            "colorbar": {
             "outlinewidth": 0,
             "ticks": ""
            },
            "colorscale": [
             [
              0,
              "#0d0887"
             ],
             [
              0.1111111111111111,
              "#46039f"
             ],
             [
              0.2222222222222222,
              "#7201a8"
             ],
             [
              0.3333333333333333,
              "#9c179e"
             ],
             [
              0.4444444444444444,
              "#bd3786"
             ],
             [
              0.5555555555555556,
              "#d8576b"
             ],
             [
              0.6666666666666666,
              "#ed7953"
             ],
             [
              0.7777777777777778,
              "#fb9f3a"
             ],
             [
              0.8888888888888888,
              "#fdca26"
             ],
             [
              1,
              "#f0f921"
             ]
            ],
            "type": "histogram2d"
           }
          ],
          "histogram2dcontour": [
           {
            "colorbar": {
             "outlinewidth": 0,
             "ticks": ""
            },
            "colorscale": [
             [
              0,
              "#0d0887"
             ],
             [
              0.1111111111111111,
              "#46039f"
             ],
             [
              0.2222222222222222,
              "#7201a8"
             ],
             [
              0.3333333333333333,
              "#9c179e"
             ],
             [
              0.4444444444444444,
              "#bd3786"
             ],
             [
              0.5555555555555556,
              "#d8576b"
             ],
             [
              0.6666666666666666,
              "#ed7953"
             ],
             [
              0.7777777777777778,
              "#fb9f3a"
             ],
             [
              0.8888888888888888,
              "#fdca26"
             ],
             [
              1,
              "#f0f921"
             ]
            ],
            "type": "histogram2dcontour"
           }
          ],
          "mesh3d": [
           {
            "colorbar": {
             "outlinewidth": 0,
             "ticks": ""
            },
            "type": "mesh3d"
           }
          ],
          "parcoords": [
           {
            "line": {
             "colorbar": {
              "outlinewidth": 0,
              "ticks": ""
             }
            },
            "type": "parcoords"
           }
          ],
          "pie": [
           {
            "automargin": true,
            "type": "pie"
           }
          ],
          "scatter": [
           {
            "fillpattern": {
             "fillmode": "overlay",
             "size": 10,
             "solidity": 0.2
            },
            "type": "scatter"
           }
          ],
          "scatter3d": [
           {
            "line": {
             "colorbar": {
              "outlinewidth": 0,
              "ticks": ""
             }
            },
            "marker": {
             "colorbar": {
              "outlinewidth": 0,
              "ticks": ""
             }
            },
            "type": "scatter3d"
           }
          ],
          "scattercarpet": [
           {
            "marker": {
             "colorbar": {
              "outlinewidth": 0,
              "ticks": ""
             }
            },
            "type": "scattercarpet"
           }
          ],
          "scattergeo": [
           {
            "marker": {
             "colorbar": {
              "outlinewidth": 0,
              "ticks": ""
             }
            },
            "type": "scattergeo"
           }
          ],
          "scattergl": [
           {
            "marker": {
             "colorbar": {
              "outlinewidth": 0,
              "ticks": ""
             }
            },
            "type": "scattergl"
           }
          ],
          "scattermapbox": [
           {
            "marker": {
             "colorbar": {
              "outlinewidth": 0,
              "ticks": ""
             }
            },
            "type": "scattermapbox"
           }
          ],
          "scatterpolar": [
           {
            "marker": {
             "colorbar": {
              "outlinewidth": 0,
              "ticks": ""
             }
            },
            "type": "scatterpolar"
           }
          ],
          "scatterpolargl": [
           {
            "marker": {
             "colorbar": {
              "outlinewidth": 0,
              "ticks": ""
             }
            },
            "type": "scatterpolargl"
           }
          ],
          "scatterternary": [
           {
            "marker": {
             "colorbar": {
              "outlinewidth": 0,
              "ticks": ""
             }
            },
            "type": "scatterternary"
           }
          ],
          "surface": [
           {
            "colorbar": {
             "outlinewidth": 0,
             "ticks": ""
            },
            "colorscale": [
             [
              0,
              "#0d0887"
             ],
             [
              0.1111111111111111,
              "#46039f"
             ],
             [
              0.2222222222222222,
              "#7201a8"
             ],
             [
              0.3333333333333333,
              "#9c179e"
             ],
             [
              0.4444444444444444,
              "#bd3786"
             ],
             [
              0.5555555555555556,
              "#d8576b"
             ],
             [
              0.6666666666666666,
              "#ed7953"
             ],
             [
              0.7777777777777778,
              "#fb9f3a"
             ],
             [
              0.8888888888888888,
              "#fdca26"
             ],
             [
              1,
              "#f0f921"
             ]
            ],
            "type": "surface"
           }
          ],
          "table": [
           {
            "cells": {
             "fill": {
              "color": "#EBF0F8"
             },
             "line": {
              "color": "white"
             }
            },
            "header": {
             "fill": {
              "color": "#C8D4E3"
             },
             "line": {
              "color": "white"
             }
            },
            "type": "table"
           }
          ]
         },
         "layout": {
          "annotationdefaults": {
           "arrowcolor": "#2a3f5f",
           "arrowhead": 0,
           "arrowwidth": 1
          },
          "autotypenumbers": "strict",
          "coloraxis": {
           "colorbar": {
            "outlinewidth": 0,
            "ticks": ""
           }
          },
          "colorscale": {
           "diverging": [
            [
             0,
             "#8e0152"
            ],
            [
             0.1,
             "#c51b7d"
            ],
            [
             0.2,
             "#de77ae"
            ],
            [
             0.3,
             "#f1b6da"
            ],
            [
             0.4,
             "#fde0ef"
            ],
            [
             0.5,
             "#f7f7f7"
            ],
            [
             0.6,
             "#e6f5d0"
            ],
            [
             0.7,
             "#b8e186"
            ],
            [
             0.8,
             "#7fbc41"
            ],
            [
             0.9,
             "#4d9221"
            ],
            [
             1,
             "#276419"
            ]
           ],
           "sequential": [
            [
             0,
             "#0d0887"
            ],
            [
             0.1111111111111111,
             "#46039f"
            ],
            [
             0.2222222222222222,
             "#7201a8"
            ],
            [
             0.3333333333333333,
             "#9c179e"
            ],
            [
             0.4444444444444444,
             "#bd3786"
            ],
            [
             0.5555555555555556,
             "#d8576b"
            ],
            [
             0.6666666666666666,
             "#ed7953"
            ],
            [
             0.7777777777777778,
             "#fb9f3a"
            ],
            [
             0.8888888888888888,
             "#fdca26"
            ],
            [
             1,
             "#f0f921"
            ]
           ],
           "sequentialminus": [
            [
             0,
             "#0d0887"
            ],
            [
             0.1111111111111111,
             "#46039f"
            ],
            [
             0.2222222222222222,
             "#7201a8"
            ],
            [
             0.3333333333333333,
             "#9c179e"
            ],
            [
             0.4444444444444444,
             "#bd3786"
            ],
            [
             0.5555555555555556,
             "#d8576b"
            ],
            [
             0.6666666666666666,
             "#ed7953"
            ],
            [
             0.7777777777777778,
             "#fb9f3a"
            ],
            [
             0.8888888888888888,
             "#fdca26"
            ],
            [
             1,
             "#f0f921"
            ]
           ]
          },
          "colorway": [
           "#636efa",
           "#EF553B",
           "#00cc96",
           "#ab63fa",
           "#FFA15A",
           "#19d3f3",
           "#FF6692",
           "#B6E880",
           "#FF97FF",
           "#FECB52"
          ],
          "font": {
           "color": "#2a3f5f"
          },
          "geo": {
           "bgcolor": "white",
           "lakecolor": "white",
           "landcolor": "#E5ECF6",
           "showlakes": true,
           "showland": true,
           "subunitcolor": "white"
          },
          "hoverlabel": {
           "align": "left"
          },
          "hovermode": "closest",
          "mapbox": {
           "style": "light"
          },
          "paper_bgcolor": "white",
          "plot_bgcolor": "#E5ECF6",
          "polar": {
           "angularaxis": {
            "gridcolor": "white",
            "linecolor": "white",
            "ticks": ""
           },
           "bgcolor": "#E5ECF6",
           "radialaxis": {
            "gridcolor": "white",
            "linecolor": "white",
            "ticks": ""
           }
          },
          "scene": {
           "xaxis": {
            "backgroundcolor": "#E5ECF6",
            "gridcolor": "white",
            "gridwidth": 2,
            "linecolor": "white",
            "showbackground": true,
            "ticks": "",
            "zerolinecolor": "white"
           },
           "yaxis": {
            "backgroundcolor": "#E5ECF6",
            "gridcolor": "white",
            "gridwidth": 2,
            "linecolor": "white",
            "showbackground": true,
            "ticks": "",
            "zerolinecolor": "white"
           },
           "zaxis": {
            "backgroundcolor": "#E5ECF6",
            "gridcolor": "white",
            "gridwidth": 2,
            "linecolor": "white",
            "showbackground": true,
            "ticks": "",
            "zerolinecolor": "white"
           }
          },
          "shapedefaults": {
           "line": {
            "color": "#2a3f5f"
           }
          },
          "ternary": {
           "aaxis": {
            "gridcolor": "white",
            "linecolor": "white",
            "ticks": ""
           },
           "baxis": {
            "gridcolor": "white",
            "linecolor": "white",
            "ticks": ""
           },
           "bgcolor": "#E5ECF6",
           "caxis": {
            "gridcolor": "white",
            "linecolor": "white",
            "ticks": ""
           }
          },
          "title": {
           "x": 0.05
          },
          "xaxis": {
           "automargin": true,
           "gridcolor": "white",
           "linecolor": "white",
           "ticks": "",
           "title": {
            "standoff": 15
           },
           "zerolinecolor": "white",
           "zerolinewidth": 2
          },
          "yaxis": {
           "automargin": true,
           "gridcolor": "white",
           "linecolor": "white",
           "ticks": "",
           "title": {
            "standoff": 15
           },
           "zerolinecolor": "white",
           "zerolinewidth": 2
          }
         }
        },
        "xaxis": {
         "anchor": "y",
         "constrain": "domain",
         "domain": [
          0,
          1
         ],
         "scaleanchor": "y"
        },
        "yaxis": {
         "anchor": "x",
         "autorange": "reversed",
         "constrain": "domain",
         "domain": [
          0,
          1
         ]
        }
       }
      }
     },
     "metadata": {},
     "output_type": "display_data"
    }
   ],
   "source": [
    "## Correlation Between Each feature\n",
    "px.imshow(df.corr(numeric_only=True),text_auto=True)"
   ]
  },
  {
   "cell_type": "code",
   "execution_count": 30,
   "metadata": {},
   "outputs": [
    {
     "data": {
      "text/html": [
       "<div>\n",
       "<style scoped>\n",
       "    .dataframe tbody tr th:only-of-type {\n",
       "        vertical-align: middle;\n",
       "    }\n",
       "\n",
       "    .dataframe tbody tr th {\n",
       "        vertical-align: top;\n",
       "    }\n",
       "\n",
       "    .dataframe thead th {\n",
       "        text-align: right;\n",
       "    }\n",
       "</style>\n",
       "<table border=\"1\" class=\"dataframe\">\n",
       "  <thead>\n",
       "    <tr style=\"text-align: right;\">\n",
       "      <th></th>\n",
       "      <th>0.050</th>\n",
       "      <th>0.100</th>\n",
       "      <th>0.400</th>\n",
       "      <th>0.500</th>\n",
       "      <th>0.700</th>\n",
       "      <th>0.800</th>\n",
       "      <th>0.900</th>\n",
       "      <th>0.950</th>\n",
       "      <th>0.990</th>\n",
       "      <th>0.995</th>\n",
       "      <th>1.000</th>\n",
       "    </tr>\n",
       "  </thead>\n",
       "  <tbody>\n",
       "    <tr>\n",
       "      <th>Inches</th>\n",
       "      <td>12.500</td>\n",
       "      <td>1.330000e+01</td>\n",
       "      <td>15.600</td>\n",
       "      <td>15.60</td>\n",
       "      <td>1.560000e+01</td>\n",
       "      <td>15.6</td>\n",
       "      <td>17.30</td>\n",
       "      <td>17.3</td>\n",
       "      <td>17.30</td>\n",
       "      <td>1.730000e+01</td>\n",
       "      <td>18.4</td>\n",
       "    </tr>\n",
       "    <tr>\n",
       "      <th>RamGB</th>\n",
       "      <td>4.000</td>\n",
       "      <td>4.000000e+00</td>\n",
       "      <td>8.000</td>\n",
       "      <td>8.00</td>\n",
       "      <td>8.000000e+00</td>\n",
       "      <td>8.0</td>\n",
       "      <td>16.00</td>\n",
       "      <td>16.0</td>\n",
       "      <td>32.00</td>\n",
       "      <td>3.200000e+01</td>\n",
       "      <td>64.0</td>\n",
       "    </tr>\n",
       "    <tr>\n",
       "      <th>WeightKG</th>\n",
       "      <td>1.170</td>\n",
       "      <td>1.254400e+00</td>\n",
       "      <td>1.900</td>\n",
       "      <td>2.04</td>\n",
       "      <td>2.201000e+00</td>\n",
       "      <td>2.4</td>\n",
       "      <td>2.80</td>\n",
       "      <td>3.2</td>\n",
       "      <td>4.42</td>\n",
       "      <td>4.420000e+00</td>\n",
       "      <td>4.7</td>\n",
       "    </tr>\n",
       "    <tr>\n",
       "      <th>Price</th>\n",
       "      <td>3445047.504</td>\n",
       "      <td>4.251637e+06</td>\n",
       "      <td>8867944.512</td>\n",
       "      <td>10538784.00</td>\n",
       "      <td>1.437494e+07</td>\n",
       "      <td>17784864.0</td>\n",
       "      <td>21833824.32</td>\n",
       "      <td>26096544.0</td>\n",
       "      <td>33570129.60</td>\n",
       "      <td>4.055494e+07</td>\n",
       "      <td>64990944.0</td>\n",
       "    </tr>\n",
       "    <tr>\n",
       "      <th>GHz</th>\n",
       "      <td>1.200</td>\n",
       "      <td>1.600000e+00</td>\n",
       "      <td>2.400</td>\n",
       "      <td>2.50</td>\n",
       "      <td>2.600000e+00</td>\n",
       "      <td>2.7</td>\n",
       "      <td>2.80</td>\n",
       "      <td>2.8</td>\n",
       "      <td>3.00</td>\n",
       "      <td>3.100000e+00</td>\n",
       "      <td>3.6</td>\n",
       "    </tr>\n",
       "    <tr>\n",
       "      <th>MainMemory</th>\n",
       "      <td>64.000</td>\n",
       "      <td>1.280000e+02</td>\n",
       "      <td>256.000</td>\n",
       "      <td>256.00</td>\n",
       "      <td>5.120000e+02</td>\n",
       "      <td>1000.0</td>\n",
       "      <td>1000.00</td>\n",
       "      <td>1000.0</td>\n",
       "      <td>2000.00</td>\n",
       "      <td>2.000000e+03</td>\n",
       "      <td>2000.0</td>\n",
       "    </tr>\n",
       "    <tr>\n",
       "      <th>SecondMemory</th>\n",
       "      <td>0.000</td>\n",
       "      <td>0.000000e+00</td>\n",
       "      <td>0.000</td>\n",
       "      <td>0.00</td>\n",
       "      <td>0.000000e+00</td>\n",
       "      <td>0.0</td>\n",
       "      <td>1000.00</td>\n",
       "      <td>1000.0</td>\n",
       "      <td>2000.00</td>\n",
       "      <td>2.000000e+03</td>\n",
       "      <td>2000.0</td>\n",
       "    </tr>\n",
       "    <tr>\n",
       "      <th>TouchScreen</th>\n",
       "      <td>0.000</td>\n",
       "      <td>0.000000e+00</td>\n",
       "      <td>0.000</td>\n",
       "      <td>0.00</td>\n",
       "      <td>0.000000e+00</td>\n",
       "      <td>0.0</td>\n",
       "      <td>1.00</td>\n",
       "      <td>1.0</td>\n",
       "      <td>1.00</td>\n",
       "      <td>1.000000e+00</td>\n",
       "      <td>1.0</td>\n",
       "    </tr>\n",
       "  </tbody>\n",
       "</table>\n",
       "</div>"
      ],
      "text/plain": [
       "                    0.050         0.100        0.400        0.500  \\\n",
       "Inches             12.500  1.330000e+01       15.600        15.60   \n",
       "RamGB               4.000  4.000000e+00        8.000         8.00   \n",
       "WeightKG            1.170  1.254400e+00        1.900         2.04   \n",
       "Price         3445047.504  4.251637e+06  8867944.512  10538784.00   \n",
       "GHz                 1.200  1.600000e+00        2.400         2.50   \n",
       "MainMemory         64.000  1.280000e+02      256.000       256.00   \n",
       "SecondMemory        0.000  0.000000e+00        0.000         0.00   \n",
       "TouchScreen         0.000  0.000000e+00        0.000         0.00   \n",
       "\n",
       "                     0.700       0.800        0.900       0.950        0.990  \\\n",
       "Inches        1.560000e+01        15.6        17.30        17.3        17.30   \n",
       "RamGB         8.000000e+00         8.0        16.00        16.0        32.00   \n",
       "WeightKG      2.201000e+00         2.4         2.80         3.2         4.42   \n",
       "Price         1.437494e+07  17784864.0  21833824.32  26096544.0  33570129.60   \n",
       "GHz           2.600000e+00         2.7         2.80         2.8         3.00   \n",
       "MainMemory    5.120000e+02      1000.0      1000.00      1000.0      2000.00   \n",
       "SecondMemory  0.000000e+00         0.0      1000.00      1000.0      2000.00   \n",
       "TouchScreen   0.000000e+00         0.0         1.00         1.0         1.00   \n",
       "\n",
       "                     0.995       1.000  \n",
       "Inches        1.730000e+01        18.4  \n",
       "RamGB         3.200000e+01        64.0  \n",
       "WeightKG      4.420000e+00         4.7  \n",
       "Price         4.055494e+07  64990944.0  \n",
       "GHz           3.100000e+00         3.6  \n",
       "MainMemory    2.000000e+03      2000.0  \n",
       "SecondMemory  2.000000e+03      2000.0  \n",
       "TouchScreen   1.000000e+00         1.0  "
      ]
     },
     "execution_count": 30,
     "metadata": {},
     "output_type": "execute_result"
    }
   ],
   "source": [
    "df.quantile(numeric_only=True,q=[0.05,0.1,0.4,0.5,0.7, 0.8, 0.9, 0.95, 0.99, 0.995,1]).T"
   ]
  },
  {
   "cell_type": "code",
   "execution_count": 31,
   "metadata": {},
   "outputs": [
    {
     "data": {
      "image/png": "[encoded data removed]",
      "text/plain": [
       "<Figure size 2500x700 with 5 Axes>"
      ]
     },
     "metadata": {},
     "output_type": "display_data"
    }
   ],
   "source": [
    "## visualizing  Outliers\n",
    "numout = ['Price','Inches','RamGB','WeightKG','GHz']\n",
    "plt.figure(figsize = (25 , 7))\n",
    "for i , col in enumerate(numout,1):\n",
    "    plt.subplot(3,5,i)\n",
    "    sns.boxplot(data = df, x= col)"
   ]
  },
  {
   "cell_type": "code",
   "execution_count": 32,
   "metadata": {},
   "outputs": [],
   "source": [
    "# df = df[(df['Price']<3000)]\n",
    "# df = df[ (df['Inches']<30) ]\n",
    "# df = df[(df['WeightKG'] <10)]\n",
    "# df = df[(df['RamGB']<40)]"
   ]
  },
  {
   "cell_type": "code",
   "execution_count": 33,
   "metadata": {},
   "outputs": [
    {
     "data": {
      "text/html": [
       "<div>\n",
       "<style scoped>\n",
       "    .dataframe tbody tr th:only-of-type {\n",
       "        vertical-align: middle;\n",
       "    }\n",
       "\n",
       "    .dataframe tbody tr th {\n",
       "        vertical-align: top;\n",
       "    }\n",
       "\n",
       "    .dataframe thead th {\n",
       "        text-align: right;\n",
       "    }\n",
       "</style>\n",
       "<table border=\"1\" class=\"dataframe\">\n",
       "  <thead>\n",
       "    <tr style=\"text-align: right;\">\n",
       "      <th></th>\n",
       "      <th>0.050</th>\n",
       "      <th>0.100</th>\n",
       "      <th>0.400</th>\n",
       "      <th>0.500</th>\n",
       "      <th>0.700</th>\n",
       "      <th>0.800</th>\n",
       "      <th>0.900</th>\n",
       "      <th>0.950</th>\n",
       "      <th>0.990</th>\n",
       "      <th>0.995</th>\n",
       "      <th>1.000</th>\n",
       "    </tr>\n",
       "  </thead>\n",
       "  <tbody>\n",
       "    <tr>\n",
       "      <th>Inches</th>\n",
       "      <td>12.500</td>\n",
       "      <td>1.330000e+01</td>\n",
       "      <td>15.600</td>\n",
       "      <td>15.60</td>\n",
       "      <td>1.560000e+01</td>\n",
       "      <td>15.6</td>\n",
       "      <td>17.30</td>\n",
       "      <td>17.3</td>\n",
       "      <td>17.30</td>\n",
       "      <td>1.730000e+01</td>\n",
       "      <td>18.4</td>\n",
       "    </tr>\n",
       "    <tr>\n",
       "      <th>RamGB</th>\n",
       "      <td>4.000</td>\n",
       "      <td>4.000000e+00</td>\n",
       "      <td>8.000</td>\n",
       "      <td>8.00</td>\n",
       "      <td>8.000000e+00</td>\n",
       "      <td>8.0</td>\n",
       "      <td>16.00</td>\n",
       "      <td>16.0</td>\n",
       "      <td>32.00</td>\n",
       "      <td>3.200000e+01</td>\n",
       "      <td>64.0</td>\n",
       "    </tr>\n",
       "    <tr>\n",
       "      <th>WeightKG</th>\n",
       "      <td>1.170</td>\n",
       "      <td>1.254400e+00</td>\n",
       "      <td>1.900</td>\n",
       "      <td>2.04</td>\n",
       "      <td>2.201000e+00</td>\n",
       "      <td>2.4</td>\n",
       "      <td>2.80</td>\n",
       "      <td>3.2</td>\n",
       "      <td>4.42</td>\n",
       "      <td>4.420000e+00</td>\n",
       "      <td>4.7</td>\n",
       "    </tr>\n",
       "    <tr>\n",
       "      <th>Price</th>\n",
       "      <td>3445047.504</td>\n",
       "      <td>4.251637e+06</td>\n",
       "      <td>8867944.512</td>\n",
       "      <td>10538784.00</td>\n",
       "      <td>1.437494e+07</td>\n",
       "      <td>17784864.0</td>\n",
       "      <td>21833824.32</td>\n",
       "      <td>26096544.0</td>\n",
       "      <td>33570129.60</td>\n",
       "      <td>4.055494e+07</td>\n",
       "      <td>64990944.0</td>\n",
       "    </tr>\n",
       "    <tr>\n",
       "      <th>GHz</th>\n",
       "      <td>1.200</td>\n",
       "      <td>1.600000e+00</td>\n",
       "      <td>2.400</td>\n",
       "      <td>2.50</td>\n",
       "      <td>2.600000e+00</td>\n",
       "      <td>2.7</td>\n",
       "      <td>2.80</td>\n",
       "      <td>2.8</td>\n",
       "      <td>3.00</td>\n",
       "      <td>3.100000e+00</td>\n",
       "      <td>3.6</td>\n",
       "    </tr>\n",
       "    <tr>\n",
       "      <th>MainMemory</th>\n",
       "      <td>64.000</td>\n",
       "      <td>1.280000e+02</td>\n",
       "      <td>256.000</td>\n",
       "      <td>256.00</td>\n",
       "      <td>5.120000e+02</td>\n",
       "      <td>1000.0</td>\n",
       "      <td>1000.00</td>\n",
       "      <td>1000.0</td>\n",
       "      <td>2000.00</td>\n",
       "      <td>2.000000e+03</td>\n",
       "      <td>2000.0</td>\n",
       "    </tr>\n",
       "    <tr>\n",
       "      <th>SecondMemory</th>\n",
       "      <td>0.000</td>\n",
       "      <td>0.000000e+00</td>\n",
       "      <td>0.000</td>\n",
       "      <td>0.00</td>\n",
       "      <td>0.000000e+00</td>\n",
       "      <td>0.0</td>\n",
       "      <td>1000.00</td>\n",
       "      <td>1000.0</td>\n",
       "      <td>2000.00</td>\n",
       "      <td>2.000000e+03</td>\n",
       "      <td>2000.0</td>\n",
       "    </tr>\n",
       "    <tr>\n",
       "      <th>TouchScreen</th>\n",
       "      <td>0.000</td>\n",
       "      <td>0.000000e+00</td>\n",
       "      <td>0.000</td>\n",
       "      <td>0.00</td>\n",
       "      <td>0.000000e+00</td>\n",
       "      <td>0.0</td>\n",
       "      <td>1.00</td>\n",
       "      <td>1.0</td>\n",
       "      <td>1.00</td>\n",
       "      <td>1.000000e+00</td>\n",
       "      <td>1.0</td>\n",
       "    </tr>\n",
       "  </tbody>\n",
       "</table>\n",
       "</div>"
      ],
      "text/plain": [
       "                    0.050         0.100        0.400        0.500  \\\n",
       "Inches             12.500  1.330000e+01       15.600        15.60   \n",
       "RamGB               4.000  4.000000e+00        8.000         8.00   \n",
       "WeightKG            1.170  1.254400e+00        1.900         2.04   \n",
       "Price         3445047.504  4.251637e+06  8867944.512  10538784.00   \n",
       "GHz                 1.200  1.600000e+00        2.400         2.50   \n",
       "MainMemory         64.000  1.280000e+02      256.000       256.00   \n",
       "SecondMemory        0.000  0.000000e+00        0.000         0.00   \n",
       "TouchScreen         0.000  0.000000e+00        0.000         0.00   \n",
       "\n",
       "                     0.700       0.800        0.900       0.950        0.990  \\\n",
       "Inches        1.560000e+01        15.6        17.30        17.3        17.30   \n",
       "RamGB         8.000000e+00         8.0        16.00        16.0        32.00   \n",
       "WeightKG      2.201000e+00         2.4         2.80         3.2         4.42   \n",
       "Price         1.437494e+07  17784864.0  21833824.32  26096544.0  33570129.60   \n",
       "GHz           2.600000e+00         2.7         2.80         2.8         3.00   \n",
       "MainMemory    5.120000e+02      1000.0      1000.00      1000.0      2000.00   \n",
       "SecondMemory  0.000000e+00         0.0      1000.00      1000.0      2000.00   \n",
       "TouchScreen   0.000000e+00         0.0         1.00         1.0         1.00   \n",
       "\n",
       "                     0.995       1.000  \n",
       "Inches        1.730000e+01        18.4  \n",
       "RamGB         3.200000e+01        64.0  \n",
       "WeightKG      4.420000e+00         4.7  \n",
       "Price         4.055494e+07  64990944.0  \n",
       "GHz           3.100000e+00         3.6  \n",
       "MainMemory    2.000000e+03      2000.0  \n",
       "SecondMemory  2.000000e+03      2000.0  \n",
       "TouchScreen   1.000000e+00         1.0  "
      ]
     },
     "execution_count": 33,
     "metadata": {},
     "output_type": "execute_result"
    }
   ],
   "source": [
    "df.quantile(numeric_only=True,q=[0.05,0.1,0.4,0.5,0.7, 0.8, 0.9, 0.95, 0.99, 0.995,1]).T"
   ]
  },
  {
   "cell_type": "code",
   "execution_count": 34,
   "metadata": {},
   "outputs": [
    {
     "data": {
      "text/plain": [
       "<Axes: xlabel='Price', ylabel='Count'>"
      ]
     },
     "execution_count": 34,
     "metadata": {},
     "output_type": "execute_result"
    },
    {
     "data": {
      "image/png": "[encoded data removed]",
      "text/plain": [
       "<Figure size 640x480 with 1 Axes>"
      ]
     },
     "metadata": {},
     "output_type": "display_data"
    }
   ],
   "source": [
    "sns.histplot(df['Price'])"
   ]
  },
  {
   "cell_type": "code",
   "execution_count": 35,
   "metadata": {},
   "outputs": [
    {
     "name": "stdout",
     "output_type": "stream",
     "text": [
      "R-squared: 0.587070180161446\n",
      "Mean Squared Error: 28305065348789.27\n"
     ]
    }
   ],
   "source": [
    "features = ['RamGB', 'Inches', 'WeightKG', 'GHz']  # Fitur untuk prediksi harga\n",
    "X = df[features]\n",
    "y = df['Price']\n",
    "\n",
    "X_train, X_test, y_train, y_test = train_test_split(X, y, test_size=0.2, random_state=42)\n",
    "\n",
    "model = LinearRegression()\n",
    "model.fit(X_train, y_train)\n",
    "\n",
    "predictions = model.predict(X_test)\n",
    "\n",
    "r_squared = r2_score(y_test, predictions)\n",
    "mse = mean_squared_error(y_test, predictions)\n",
    "\n",
    "print(f\"R-squared: {r_squared}\")\n",
    "print(f\"Mean Squared Error: {mse}\")\n",
    "\n",
    "import pickle\n",
    "filename = 'modelPrediksi.sav'\n",
    "pickle.dump(model, open(filename, 'wb'))"
   ]
  }
 ],
 "metadata": {
  "kernelspec": {
   "display_name": "Python 3",
   "language": "python",
   "name": "python3"
  },
  "language_info": {
   "codemirror_mode": {
    "name": "ipython",
    "version": 3
   },
   "file_extension": ".py",
   "mimetype": "text/x-python",
   "name": "python",
   "nbconvert_exporter": "python",
   "pygments_lexer": "ipython3",
   "version": "3.10.4"
  }
 },
 "nbformat": 4,
 "nbformat_minor": 2
}
